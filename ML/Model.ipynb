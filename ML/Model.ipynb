{
 "cells": [
  {
   "cell_type": "code",
   "execution_count": 1,
   "id": "0c119197",
   "metadata": {},
   "outputs": [],
   "source": [
    "#Import Library\n",
    "import tensorflow as tf\n",
    "import pandas as pd\n",
    "import matplotlib.pyplot as plt\n",
    "from tensorflow.keras.preprocessing.text import Tokenizer\n",
    "import requests"
   ]
  },
  {
   "cell_type": "code",
   "execution_count": 3,
   "id": "2e85804c",
   "metadata": {},
   "outputs": [],
   "source": [
    "#Retrieve DS from Github\n",
    "dataset_link = 'https://raw.githubusercontent.com/Willie29/capstone-C23-PS056/main/ML/Dataset_Combined.csv'\n",
    "response = requests.get(dataset_link)"
   ]
  },
  {
   "cell_type": "code",
   "execution_count": 23,
   "id": "9acceb38",
   "metadata": {},
   "outputs": [
    {
     "name": "stdout",
     "output_type": "stream",
     "text": [
      "    Label                                              Tweet\n",
      "0  Non_HS  Fadli Zon Minta Mendagri Segera Menonaktifkan ...\n",
      "1  Non_HS  Mereka terus melukai aksi dalam rangka memenja...\n",
      "2  Non_HS  bagaimana gurbernur melakukan kekerasan peremp...\n",
      "3  Non_HS  Ahmad Dhani Tak Puas Debat Pilkada, Masalah Ja...\n",
      "4  Non_HS  Waspada KTP palsu.....kawal PILKADA https:\\/\\/...\n",
      "\n",
      "\n",
      "     Label                                       Tweet\n",
      "2703    HS                          Dasar murahan kamu\n",
      "2704    HS     kuliah aja tinggi, tapi otak di dengkul\n",
      "2705    HS                    semoga anda masuk neraka\n",
      "2706    HS                               Matilo anjing\n",
      "2707    HS  Orang timur kurang pintar dari orang barat\n"
     ]
    }
   ],
   "source": [
    "data = pd.read_csv('https://raw.githubusercontent.com/Willie29/capstone-C23-PS056/main/ML/Dataset_Combined.csv')\n",
    "# Identify Unnamed columns\n",
    "unnamed_columns = [col for col in data.columns if 'Unnamed' in col]\n",
    "\n",
    "# Drop Unnamed columns\n",
    "data = data.drop(unnamed_columns, axis=1)\n",
    "\n",
    "print(data.head())\n",
    "print(\"\\n\")\n",
    "print(data.tail())"
   ]
  },
  {
   "cell_type": "code",
   "execution_count": 24,
   "id": "d5816207",
   "metadata": {
    "scrolled": true
   },
   "outputs": [
    {
     "data": {
      "text/plain": [
       "Label\n",
       "Non_HS    1354\n",
       "HS        1354\n",
       "Name: count, dtype: int64"
      ]
     },
     "execution_count": 24,
     "metadata": {},
     "output_type": "execute_result"
    }
   ],
   "source": [
    "data['Label'].value_counts()"
   ]
  },
  {
   "cell_type": "code",
   "execution_count": 46,
   "id": "c02874de",
   "metadata": {},
   "outputs": [],
   "source": [
    "def parse_data(data):\n",
    "    labels = []\n",
    "    tweets = []\n",
    "    \n",
    "    for _, row in data.iterrows():\n",
    "        cond = (0 if row['Label'] == \"HS\" else 1)\n",
    "        labels.append(cond)\n",
    "        tweets.append(row['Tweet'])\n",
    "            \n",
    "    return labels, tweets\n",
    "\n",
    "# Assuming 'data' is your DataFrame\n",
    "labels, tweets = parse_data(data)"
   ]
  },
  {
   "cell_type": "code",
   "execution_count": 47,
   "id": "00071549",
   "metadata": {},
   "outputs": [
    {
     "name": "stdout",
     "output_type": "stream",
     "text": [
      "Example number in dataset is 2708 examples\n",
      "\n",
      "2nd example:\n",
      "Mereka terus melukai aksi dalam rangka memenjarakan Ahok atau Ahok gagal dalam Pilkada.\n",
      "\n",
      "Last example:\n",
      "Orang timur kurang pintar dari orang barat\n"
     ]
    }
   ],
   "source": [
    "print(f\"Example number in dataset is {len(tweets)} examples\\n\")\n",
    "\n",
    "print(f\"2nd example:\\n{tweets[1]}\\n\")\n",
    "print(f\"Last example:\\n{tweets[-1]}\")"
   ]
  },
  {
   "cell_type": "code",
   "execution_count": 48,
   "id": "3b7de9d9",
   "metadata": {},
   "outputs": [],
   "source": [
    "#90-10 ratio train-test\n",
    "def train_test_split(labels,tweets):\n",
    "    train_size = int(len(tweets) * 0.9)\n",
    "\n",
    "    train_labels = labels[:train_size]\n",
    "    train_tweets = tweets[:train_size]\n",
    "\n",
    "    test_labels = labels[train_size:]\n",
    "    test_tweets = tweets[train_size:]\n",
    "    \n",
    "    return train_labels, train_tweets, test_labels, test_tweets"
   ]
  },
  {
   "cell_type": "code",
   "execution_count": 54,
   "id": "c25d91ac",
   "metadata": {},
   "outputs": [
    {
     "name": "stdout",
     "output_type": "stream",
     "text": [
      " 2437 sentences for training.\n",
      " 271 labels for training.\n",
      " 2437 sentences for validation.\n",
      " 271 labels for validation.\n"
     ]
    }
   ],
   "source": [
    "train_labels, test_labels, train_tweets, test_tweets = train_test_split(labels, tweets)\n",
    "\n",
    "print(f\" {len(train_labels)} sentences for training.\")\n",
    "print(f\" {len(train_tweets)} labels for training.\")\n",
    "print(f\" {len(test_labels)} sentences for validation.\")\n",
    "print(f\" {len(test_tweets)} labels for validation.\")"
   ]
  },
  {
   "cell_type": "code",
   "execution_count": null,
   "id": "d86bf14a",
   "metadata": {},
   "outputs": [],
   "source": [
    "#Model Structure\n",
    "model = tf.keras.Sequential([\n",
    "    \n",
    "])"
   ]
  },
  {
   "cell_type": "code",
   "execution_count": null,
   "id": "263d3867",
   "metadata": {},
   "outputs": [],
   "source": [
    "#Compile Model\n",
    "model.compile(loss='binary_crossentropy',optimizer= ,metrics=['accuracy'])\n",
    "\n",
    "model.fit()"
   ]
  }
 ],
 "metadata": {
  "kernelspec": {
   "display_name": "Python 3 (ipykernel)",
   "language": "python",
   "name": "python3"
  },
  "language_info": {
   "codemirror_mode": {
    "name": "ipython",
    "version": 3
   },
   "file_extension": ".py",
   "mimetype": "text/x-python",
   "name": "python",
   "nbconvert_exporter": "python",
   "pygments_lexer": "ipython3",
   "version": "3.11.3"
  }
 },
 "nbformat": 4,
 "nbformat_minor": 5
}
