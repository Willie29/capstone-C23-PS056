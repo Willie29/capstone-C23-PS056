{
  "cells": [
    {
      "cell_type": "code",
      "execution_count": null,
      "metadata": {
        "id": "5lR0uvOoiCSs"
      },
      "outputs": [],
      "source": [
        "#Import Library\n",
        "import tensorflow as tf\n",
        "import pandas as pd\n",
        "import matplotlib.pyplot as plt\n",
        "from tensorflow.keras.preprocessing.text import Tokenizer\n",
        "from tensorflow.keras.preprocessing.sequence import pad_sequences\n",
        "import requests\n",
        "import numpy as np\n",
        "from sklearn.preprocessing import LabelEncoder\n",
        "from tensorflow.keras.layers import Embedding, LSTM, Dense, Bidirectional, GRU\n",
        "from tensorflow.keras import regularizers"
      ]
    },
    {
      "cell_type": "code",
      "execution_count": null,
      "metadata": {
        "id": "rllPSi38iOzC"
      },
      "outputs": [],
      "source": [
        "#global variable\n",
        "NUM_WORDS = 1000\n",
        "OOV_TOKEN = \"<OOV>\"\n",
        "PADDING = 'post'\n",
        "MAXLEN = 120\n",
        "EMBEDDING_DIM = 16"
      ]
    },
    {
      "cell_type": "code",
      "execution_count": null,
      "metadata": {
        "id": "65qUSIjFiVZ-"
      },
      "outputs": [],
      "source": [
        "#Retrieve DS from Github\n",
        "dataset_link = 'https://raw.githubusercontent.com/Willie29/capstone-C23-PS056/main/ML/Dataset_Combined.csv'\n",
        "response = requests.get(dataset_link)"
      ]
    },
    {
      "cell_type": "code",
      "execution_count": null,
      "metadata": {
        "colab": {
          "base_uri": "https://localhost:8080/"
        },
        "id": "UpAhfBuqicL_",
        "outputId": "5147ad04-08a5-49d3-abfe-03a34eae5ffa"
      },
      "outputs": [
        {
          "output_type": "stream",
          "name": "stdout",
          "text": [
            "       Label                                              Tweet\n",
            "2856      HS  kalo mau bercanda itu coba kata katanya di sar...\n",
            "374   Non_HS  Semangat pak ahok , bapak sudah berjuang sekua...\n",
            "2892      HS  Coba bayangin kalo lu digituin sekali2 ngertii...\n",
            "3326      HS                        Menyalak apa lg woi bangsat\n",
            "2449      HS  \"Musik milenial emang sampah, mending dibilang...\n",
            "\n",
            "\n",
            "       Label                                              Tweet\n",
            "1381  Non_HS  sebelum menjalankan mobil periksa dan astikan ...\n",
            "1350  Non_HS  setahun dah kat yaman sik berasa waktu eh haha...\n",
            "3377      HS                                      Halah bangsat\n",
            "2948      HS  Kami yang kamu anggap biadab ini yang turut me...\n",
            "1114  Non_HS  untunglah boleh baik semula aku ada beberapa k...\n"
          ]
        }
      ],
      "source": [
        "data = pd.read_csv('https://raw.githubusercontent.com/Willie29/capstone-C23-PS056/main/ML/Dataset_Combined.csv')\n",
        "# Identify Unnamed columns\n",
        "unnamed_columns = [col for col in data.columns if 'Unnamed' in col]\n",
        "\n",
        "# Drop Unnamed columns\n",
        "data = data.drop(unnamed_columns, axis=1)\n",
        "#shuffle data\n",
        "data = data.sample(frac=1)\n",
        "\n",
        "print(data.head())\n",
        "print(\"\\n\")\n",
        "print(data.tail())"
      ]
    },
    {
      "cell_type": "code",
      "execution_count": null,
      "metadata": {
        "colab": {
          "base_uri": "https://localhost:8080/"
        },
        "id": "tqHwNz8Miiz6",
        "outputId": "7c171677-a4dc-4c34-b591-880bac846ac7"
      },
      "outputs": [
        {
          "output_type": "execute_result",
          "data": {
            "text/plain": [
              "HS        1722\n",
              "Non_HS    1688\n",
              "Name: Label, dtype: int64"
            ]
          },
          "metadata": {},
          "execution_count": 5
        }
      ],
      "source": [
        "data['Label'].value_counts()"
      ]
    },
    {
      "cell_type": "code",
      "execution_count": null,
      "metadata": {
        "id": "BIUMesqJjnYU"
      },
      "outputs": [],
      "source": [
        "def parse_data(data):\n",
        "    labels = []\n",
        "    tweets = []\n",
        "\n",
        "    for _, row in data.iterrows():\n",
        "        cond = (0 if row['Label'] == \"HS\" else 1)\n",
        "        labels.append(cond)\n",
        "        tweets.append(row['Tweet'])\n",
        "\n",
        "    return labels, tweets\n",
        "\n",
        "# Assuming 'data' is your DataFrame\n",
        "labels, tweets = parse_data(data)"
      ]
    },
    {
      "cell_type": "code",
      "execution_count": null,
      "metadata": {
        "colab": {
          "base_uri": "https://localhost:8080/"
        },
        "id": "uq6tsGbFjvMZ",
        "outputId": "ff3ffed1-558f-4abe-fed0-a3ca99ec6f78"
      },
      "outputs": [
        {
          "output_type": "stream",
          "name": "stdout",
          "text": [
            "Example number in dataset is 3410 examples\n",
            "\n",
            "2nd example:\n",
            "Semangat pak ahok , bapak sudah berjuang sekuat tenaga dan sudah berusaha melakukan yang terbaik, terima kasih pak\n",
            "\n",
            "Last example:\n",
            "untunglah boleh baik semula aku ada beberapa kawan yang dulu ngam gila sekarang biasa biasaekarang\n"
          ]
        }
      ],
      "source": [
        "print(f\"Example number in dataset is {len(tweets)} examples\\n\")\n",
        "\n",
        "print(f\"2nd example:\\n{tweets[1]}\\n\")\n",
        "print(f\"Last example:\\n{tweets[-1]}\")"
      ]
    },
    {
      "cell_type": "code",
      "execution_count": null,
      "metadata": {
        "id": "szc3TGZBj71A"
      },
      "outputs": [],
      "source": [
        "#90-10 ratio train-test\n",
        "def train_test_split(labels,tweets):\n",
        "    train_size = int(len(tweets) * 0.9)\n",
        "\n",
        "    train_labels = labels[:train_size]\n",
        "    train_tweets = tweets[:train_size]\n",
        "\n",
        "    test_labels = labels[train_size:]\n",
        "    test_tweets = tweets[train_size:]\n",
        "\n",
        "    return train_labels, train_tweets, test_labels, test_tweets"
      ]
    },
    {
      "cell_type": "code",
      "execution_count": null,
      "metadata": {
        "colab": {
          "base_uri": "https://localhost:8080/"
        },
        "id": "GSLA9EVIj-M_",
        "outputId": "678d1964-6c76-4dc4-8183-58eab3e8efef"
      },
      "outputs": [
        {
          "output_type": "stream",
          "name": "stdout",
          "text": [
            " 3069 sentences for training.\n",
            " 3069 labels for training.\n",
            " 341 sentences for validation.\n",
            " 341 labels for validation.\n"
          ]
        }
      ],
      "source": [
        "train_labels, train_tweets, test_labels, test_tweets = train_test_split(labels, tweets)\n",
        "\n",
        "print(f\" {len(train_labels)} sentences for training.\")\n",
        "print(f\" {len(train_tweets)} labels for training.\")\n",
        "print(f\" {len(test_labels)} sentences for validation.\")\n",
        "print(f\" {len(test_tweets)} labels for validation.\")"
      ]
    },
    {
      "cell_type": "code",
      "execution_count": null,
      "metadata": {
        "colab": {
          "base_uri": "https://localhost:8080/"
        },
        "id": "ZhGc3XwgkJpO",
        "outputId": "02d768ad-35da-48ca-e42b-93539291b4ef"
      },
      "outputs": [
        {
          "output_type": "stream",
          "name": "stdout",
          "text": [
            "['kalo mau bercanda itu coba kata katanya di saring dulu mana yang menyakitkan mana yang enggak mana yang sesuai fa', 'Semangat pak ahok , bapak sudah berjuang sekuat tenaga dan sudah berusaha melakukan yang terbaik, terima kasih pak', 'Coba bayangin kalo lu digituin sekali2 ngertiin dia lah jangan kamu mulu yang maunya dingertiin']\n",
            "[0, 1, 0]\n",
            "['Ngakak asw wkwkw', 'kebiasaan balajaer nyampah d ig para artis..suka2 yang punya ig lah mau bikin caption apa,kok balajaer yang heboh dan asik ceramahin yang punya ig.tar lama2 d bikinin lagu sm teh melly loh balajaer yang berjudul\"ketika balajaer bersabda\"demi seonggak koin laknat nya.balajaer ngamuk berarti mengiyakan banget koin laknat nya jd penggoda d rt nya gigi.duh elah balajaer kami smua tau kale kelakuan biduan lo itu kek apa.minus segala2nya!lagi masih d bela mati2an,pd sakit jiwa', 'tahu diri aja bisa gak sih da kamu tuh cuma prioritas ke 6 nya dia udah ya tahu diri gausah banyak minta']\n",
            "[0, 0, 0]\n"
          ]
        }
      ],
      "source": [
        "print(train_tweets[:3])\n",
        "print(train_labels[:3])\n",
        "print(test_tweets[:3])\n",
        "print(test_labels[:3])"
      ]
    },
    {
      "cell_type": "code",
      "execution_count": null,
      "metadata": {
        "id": "bWXZGhsYkL48"
      },
      "outputs": [],
      "source": [
        "#tokenizer function\n",
        "def fit_tokenizer(train_sentences, num_words, oov_token):\n",
        "    tokenizer = Tokenizer(num_words = num_words, oov_token = oov_token)\n",
        "    tokenizer.fit_on_texts(train_sentences)\n",
        "    return tokenizer"
      ]
    },
    {
      "cell_type": "code",
      "execution_count": null,
      "metadata": {
        "id": "iFo41zctkRiu"
      },
      "outputs": [],
      "source": [
        "#buat test doang\n",
        "def lowercase(list_sentence):\n",
        "    lower_sentence = list_sentence\n",
        "    for i in range(len(list_sentence)):\n",
        "        lower_sentence[i] = lower_sentence[i].lower()\n",
        "    return lower_sentence"
      ]
    },
    {
      "cell_type": "code",
      "execution_count": null,
      "metadata": {
        "colab": {
          "base_uri": "https://localhost:8080/"
        },
        "id": "yK4DKQfkkZpw",
        "outputId": "44f7894f-576f-4acf-f6ca-4281731e2f70"
      },
      "outputs": [
        {
          "output_type": "stream",
          "name": "stdout",
          "text": [
            "Vocabulary contains 8426 words\n",
            "\n",
            "<OOV> token included in vocabulary\n"
          ]
        }
      ],
      "source": [
        "#tokenize sentence\n",
        "#test_tweets1 = test_tweets[0].lower()\n",
        "#test_tweets1 = test_tweets1.lower()\n",
        "lower_train_tweets = lowercase(train_tweets)\n",
        "tokenizer = fit_tokenizer(lower_train_tweets, NUM_WORDS, OOV_TOKEN)\n",
        "word_index = tokenizer.word_index\n",
        "print(f\"Vocabulary contains {len(word_index)} words\\n\")\n",
        "print(\"<OOV> token included in vocabulary\" if \"<OOV>\" in word_index else \"<OOV> token NOT included in vocabulary\")"
      ]
    },
    {
      "cell_type": "code",
      "execution_count": null,
      "metadata": {
        "id": "SvbQ_erJkghY"
      },
      "outputs": [],
      "source": [
        "#seq and padding function\n",
        "def seq_and_pad(sentences, tokenizer, padding, maxlen):\n",
        "    sequences = tokenizer.texts_to_sequences(sentences)\n",
        "    padded_sequences = pad_sequences(sequences, maxlen = maxlen, padding = padding)\n",
        "    return padded_sequences"
      ]
    },
    {
      "cell_type": "code",
      "execution_count": null,
      "metadata": {
        "colab": {
          "base_uri": "https://localhost:8080/"
        },
        "id": "WXcSFp26kkbq",
        "outputId": "768fddbe-be40-46d7-e244-49a8eb74abe9"
      },
      "outputs": [
        {
          "output_type": "stream",
          "name": "stdout",
          "text": [
            "Padded training sequences have shape: (3069, 120)\n",
            "\n",
            "Padded validation sequences have shape: (341, 120)\n"
          ]
        }
      ],
      "source": [
        "#seq and padding sentence\n",
        "lower_val_tweets = lowercase(test_tweets)\n",
        "train_padded_seq = seq_and_pad(lower_train_tweets, tokenizer, PADDING, MAXLEN)\n",
        "val_padded_seq = seq_and_pad(lower_val_tweets, tokenizer, PADDING, MAXLEN)\n",
        "print(f\"Padded training sequences have shape: {train_padded_seq.shape}\\n\")\n",
        "print(f\"Padded validation sequences have shape: {val_padded_seq.shape}\")"
      ]
    },
    {
      "cell_type": "code",
      "execution_count": null,
      "metadata": {
        "id": "o4GpRdLukpfJ"
      },
      "outputs": [],
      "source": [
        "#Model Structure\n",
        "model = tf.keras.Sequential([\n",
        "    tf.keras.layers.Embedding(NUM_WORDS, EMBEDDING_DIM, input_length = MAXLEN),\n",
        "    tf.keras.layers.GlobalAveragePooling1D(),\n",
        "    tf.keras.layers.Dense(units = 32, activation= 'relu'),\n",
        "    tf.keras.layers.Dense(units = 2, activation='softmax')\n",
        "])"
      ]
    },
    {
      "cell_type": "code",
      "execution_count": null,
      "metadata": {
        "colab": {
          "base_uri": "https://localhost:8080/"
        },
        "id": "6GpqsSc1kvXu",
        "outputId": "53d8abc9-2cb6-41a9-8ed7-91a980b0b3b6"
      },
      "outputs": [
        {
          "output_type": "stream",
          "name": "stdout",
          "text": [
            "<class 'list'>\n"
          ]
        }
      ],
      "source": [
        "print(type(test_labels))"
      ]
    },
    {
      "cell_type": "code",
      "execution_count": null,
      "metadata": {
        "colab": {
          "base_uri": "https://localhost:8080/"
        },
        "id": "pE0_1Cynky9o",
        "outputId": "93703435-a536-47f7-87a7-ed0791e7e2e8"
      },
      "outputs": [
        {
          "output_type": "stream",
          "name": "stdout",
          "text": [
            "<class 'numpy.ndarray'>\n",
            "<class 'numpy.ndarray'>\n",
            "<class 'numpy.ndarray'>\n",
            "<class 'list'>\n",
            "\n",
            "\n",
            "[[ 50  21   1 ...   0   0   0]\n",
            " [328  17   8 ...   0   0   0]\n",
            " [345   1  50 ...   0   0   0]\n",
            " ...\n",
            " [  1  46 127 ...   0   0   0]\n",
            " [  1   1   1 ...   0   0   0]\n",
            " [  7  84  51 ...   0   0   0]]\n",
            "\n",
            "\n",
            "[[371 503   1 ...   0   0   0]\n",
            " [  1   1   1 ...   0   0   0]\n",
            " [234 233  20 ...   0   0   0]\n",
            " ...\n",
            " [  1  35   0 ...   0   0   0]\n",
            " [157   3   7 ...   0   0   0]\n",
            " [  1 119  47 ...   0   0   0]]\n",
            "[0 0 0 1 0 0 0 0 0 1]\n"
          ]
        }
      ],
      "source": [
        "test_labels_changed = np.array(test_labels)\n",
        "print(type(test_labels_changed))\n",
        "print(type(train_padded_seq))\n",
        "print(type(val_padded_seq))\n",
        "print(type(train_labels))\n",
        "print(\"\\n\")\n",
        "print(train_padded_seq)\n",
        "print(\"\\n\")\n",
        "print(val_padded_seq)\n",
        "print(test_labels_changed[:10])"
      ]
    },
    {
      "cell_type": "code",
      "execution_count": null,
      "metadata": {
        "colab": {
          "base_uri": "https://localhost:8080/"
        },
        "id": "ablMChEqmbiR",
        "outputId": "727fc1e9-db2f-4452-c0ac-f0d037d8c475"
      },
      "outputs": [
        {
          "output_type": "stream",
          "name": "stdout",
          "text": [
            "[0 1 0 ... 1 0 0]\n"
          ]
        }
      ],
      "source": [
        "train_labels_changed = np.array(train_labels)\n",
        "print(train_labels_changed)"
      ]
    },
    {
      "cell_type": "code",
      "execution_count": null,
      "metadata": {
        "id": "bCkmTQVjqm91"
      },
      "outputs": [],
      "source": [
        "# Menggunakan LabelEncoder untuk mengubah label menjadi bilangan bulat\n",
        "label_encoder = LabelEncoder()\n",
        "train_labels_encoded = label_encoder.fit_transform(train_labels_changed)\n",
        "test_labels_encoded = label_encoder.transform(test_labels_changed)\n",
        "\n",
        "# Mengubah label menjadi one-hot encoded\n",
        "num_classes = len(label_encoder.classes_)\n",
        "train_labels_one_hot = tf.keras.utils.to_categorical(train_labels_encoded, num_classes=num_classes)\n",
        "test_labels_one_hot = tf.keras.utils.to_categorical(test_labels_encoded, num_classes=num_classes)"
      ]
    },
    {
      "cell_type": "code",
      "execution_count": null,
      "metadata": {
        "colab": {
          "base_uri": "https://localhost:8080/"
        },
        "id": "pQBWa9AjxjKg",
        "outputId": "dcfa0416-91f7-4e32-9b58-82d9961b3566"
      },
      "outputs": [
        {
          "output_type": "stream",
          "name": "stdout",
          "text": [
            "[0 1 0 ... 1 0 0]\n",
            "\n",
            "\n",
            "[0 0 0 1 0 0 0 0 0 1 1 1 1 0 0 0 0 1 0 0 1 1 0 1 1 0 1 1 1 0 0 1 1 0 0 1 0\n",
            " 0 1 1 1 0 0 1 0 0 1 1 1 0 1 0 1 0 0 0 1 1 0 0 0 0 0 1 1 1 1 1 1 1 1 1 1 1\n",
            " 0 1 1 1 0 1 1 1 1 1 0 0 0 1 1 1 0 0 1 1 1 1 1 0 1 1 0 0 1 1 0 1 0 0 0 1 0\n",
            " 1 0 0 0 0 0 1 0 0 1 1 0 1 0 1 0 1 0 0 0 0 1 0 1 1 1 0 1 1 1 0 0 1 1 1 1 0\n",
            " 0 0 1 1 1 1 1 1 1 1 0 1 1 1 0 0 1 0 0 1 1 1 1 1 1 0 0 0 1 0 1 0 0 0 1 0 0\n",
            " 1 0 0 1 1 1 1 1 1 0 0 0 0 1 0 0 0 1 0 1 1 1 1 0 0 1 1 1 1 0 0 1 0 0 0 1 0\n",
            " 1 1 0 1 1 1 0 0 1 0 0 1 0 1 0 1 1 0 0 0 1 1 1 0 0 1 0 1 0 1 0 1 1 1 1 1 0\n",
            " 1 1 1 0 1 0 1 1 1 1 1 0 1 1 1 0 0 0 1 0 0 1 1 0 1 0 1 1 1 1 0 0 0 1 1 0 0\n",
            " 0 0 0 0 1 0 0 1 1 0 0 0 1 0 0 1 0 1 1 0 1 1 0 0 0 1 0 1 0 0 0 1 0 0 1 0 1\n",
            " 0 1 1 1 1 0 0 1]\n",
            "\n",
            "\n",
            "[[1. 0.]\n",
            " [0. 1.]\n",
            " [1. 0.]\n",
            " ...\n",
            " [0. 1.]\n",
            " [1. 0.]\n",
            " [1. 0.]]\n",
            "\n",
            "\n",
            "[[1. 0.]\n",
            " [1. 0.]\n",
            " [1. 0.]\n",
            " [0. 1.]\n",
            " [1. 0.]\n",
            " [1. 0.]\n",
            " [1. 0.]\n",
            " [1. 0.]\n",
            " [1. 0.]\n",
            " [0. 1.]\n",
            " [0. 1.]\n",
            " [0. 1.]\n",
            " [0. 1.]\n",
            " [1. 0.]\n",
            " [1. 0.]\n",
            " [1. 0.]\n",
            " [1. 0.]\n",
            " [0. 1.]\n",
            " [1. 0.]\n",
            " [1. 0.]\n",
            " [0. 1.]\n",
            " [0. 1.]\n",
            " [1. 0.]\n",
            " [0. 1.]\n",
            " [0. 1.]\n",
            " [1. 0.]\n",
            " [0. 1.]\n",
            " [0. 1.]\n",
            " [0. 1.]\n",
            " [1. 0.]\n",
            " [1. 0.]\n",
            " [0. 1.]\n",
            " [0. 1.]\n",
            " [1. 0.]\n",
            " [1. 0.]\n",
            " [0. 1.]\n",
            " [1. 0.]\n",
            " [1. 0.]\n",
            " [0. 1.]\n",
            " [0. 1.]\n",
            " [0. 1.]\n",
            " [1. 0.]\n",
            " [1. 0.]\n",
            " [0. 1.]\n",
            " [1. 0.]\n",
            " [1. 0.]\n",
            " [0. 1.]\n",
            " [0. 1.]\n",
            " [0. 1.]\n",
            " [1. 0.]\n",
            " [0. 1.]\n",
            " [1. 0.]\n",
            " [0. 1.]\n",
            " [1. 0.]\n",
            " [1. 0.]\n",
            " [1. 0.]\n",
            " [0. 1.]\n",
            " [0. 1.]\n",
            " [1. 0.]\n",
            " [1. 0.]\n",
            " [1. 0.]\n",
            " [1. 0.]\n",
            " [1. 0.]\n",
            " [0. 1.]\n",
            " [0. 1.]\n",
            " [0. 1.]\n",
            " [0. 1.]\n",
            " [0. 1.]\n",
            " [0. 1.]\n",
            " [0. 1.]\n",
            " [0. 1.]\n",
            " [0. 1.]\n",
            " [0. 1.]\n",
            " [0. 1.]\n",
            " [1. 0.]\n",
            " [0. 1.]\n",
            " [0. 1.]\n",
            " [0. 1.]\n",
            " [1. 0.]\n",
            " [0. 1.]\n",
            " [0. 1.]\n",
            " [0. 1.]\n",
            " [0. 1.]\n",
            " [0. 1.]\n",
            " [1. 0.]\n",
            " [1. 0.]\n",
            " [1. 0.]\n",
            " [0. 1.]\n",
            " [0. 1.]\n",
            " [0. 1.]\n",
            " [1. 0.]\n",
            " [1. 0.]\n",
            " [0. 1.]\n",
            " [0. 1.]\n",
            " [0. 1.]\n",
            " [0. 1.]\n",
            " [0. 1.]\n",
            " [1. 0.]\n",
            " [0. 1.]\n",
            " [0. 1.]\n",
            " [1. 0.]\n",
            " [1. 0.]\n",
            " [0. 1.]\n",
            " [0. 1.]\n",
            " [1. 0.]\n",
            " [0. 1.]\n",
            " [1. 0.]\n",
            " [1. 0.]\n",
            " [1. 0.]\n",
            " [0. 1.]\n",
            " [1. 0.]\n",
            " [0. 1.]\n",
            " [1. 0.]\n",
            " [1. 0.]\n",
            " [1. 0.]\n",
            " [1. 0.]\n",
            " [1. 0.]\n",
            " [0. 1.]\n",
            " [1. 0.]\n",
            " [1. 0.]\n",
            " [0. 1.]\n",
            " [0. 1.]\n",
            " [1. 0.]\n",
            " [0. 1.]\n",
            " [1. 0.]\n",
            " [0. 1.]\n",
            " [1. 0.]\n",
            " [0. 1.]\n",
            " [1. 0.]\n",
            " [1. 0.]\n",
            " [1. 0.]\n",
            " [1. 0.]\n",
            " [0. 1.]\n",
            " [1. 0.]\n",
            " [0. 1.]\n",
            " [0. 1.]\n",
            " [0. 1.]\n",
            " [1. 0.]\n",
            " [0. 1.]\n",
            " [0. 1.]\n",
            " [0. 1.]\n",
            " [1. 0.]\n",
            " [1. 0.]\n",
            " [0. 1.]\n",
            " [0. 1.]\n",
            " [0. 1.]\n",
            " [0. 1.]\n",
            " [1. 0.]\n",
            " [1. 0.]\n",
            " [1. 0.]\n",
            " [0. 1.]\n",
            " [0. 1.]\n",
            " [0. 1.]\n",
            " [0. 1.]\n",
            " [0. 1.]\n",
            " [0. 1.]\n",
            " [0. 1.]\n",
            " [0. 1.]\n",
            " [1. 0.]\n",
            " [0. 1.]\n",
            " [0. 1.]\n",
            " [0. 1.]\n",
            " [1. 0.]\n",
            " [1. 0.]\n",
            " [0. 1.]\n",
            " [1. 0.]\n",
            " [1. 0.]\n",
            " [0. 1.]\n",
            " [0. 1.]\n",
            " [0. 1.]\n",
            " [0. 1.]\n",
            " [0. 1.]\n",
            " [0. 1.]\n",
            " [1. 0.]\n",
            " [1. 0.]\n",
            " [1. 0.]\n",
            " [0. 1.]\n",
            " [1. 0.]\n",
            " [0. 1.]\n",
            " [1. 0.]\n",
            " [1. 0.]\n",
            " [1. 0.]\n",
            " [0. 1.]\n",
            " [1. 0.]\n",
            " [1. 0.]\n",
            " [0. 1.]\n",
            " [1. 0.]\n",
            " [1. 0.]\n",
            " [0. 1.]\n",
            " [0. 1.]\n",
            " [0. 1.]\n",
            " [0. 1.]\n",
            " [0. 1.]\n",
            " [0. 1.]\n",
            " [1. 0.]\n",
            " [1. 0.]\n",
            " [1. 0.]\n",
            " [1. 0.]\n",
            " [0. 1.]\n",
            " [1. 0.]\n",
            " [1. 0.]\n",
            " [1. 0.]\n",
            " [0. 1.]\n",
            " [1. 0.]\n",
            " [0. 1.]\n",
            " [0. 1.]\n",
            " [0. 1.]\n",
            " [0. 1.]\n",
            " [1. 0.]\n",
            " [1. 0.]\n",
            " [0. 1.]\n",
            " [0. 1.]\n",
            " [0. 1.]\n",
            " [0. 1.]\n",
            " [1. 0.]\n",
            " [1. 0.]\n",
            " [0. 1.]\n",
            " [1. 0.]\n",
            " [1. 0.]\n",
            " [1. 0.]\n",
            " [0. 1.]\n",
            " [1. 0.]\n",
            " [0. 1.]\n",
            " [0. 1.]\n",
            " [1. 0.]\n",
            " [0. 1.]\n",
            " [0. 1.]\n",
            " [0. 1.]\n",
            " [1. 0.]\n",
            " [1. 0.]\n",
            " [0. 1.]\n",
            " [1. 0.]\n",
            " [1. 0.]\n",
            " [0. 1.]\n",
            " [1. 0.]\n",
            " [0. 1.]\n",
            " [1. 0.]\n",
            " [0. 1.]\n",
            " [0. 1.]\n",
            " [1. 0.]\n",
            " [1. 0.]\n",
            " [1. 0.]\n",
            " [0. 1.]\n",
            " [0. 1.]\n",
            " [0. 1.]\n",
            " [1. 0.]\n",
            " [1. 0.]\n",
            " [0. 1.]\n",
            " [1. 0.]\n",
            " [0. 1.]\n",
            " [1. 0.]\n",
            " [0. 1.]\n",
            " [1. 0.]\n",
            " [0. 1.]\n",
            " [0. 1.]\n",
            " [0. 1.]\n",
            " [0. 1.]\n",
            " [0. 1.]\n",
            " [1. 0.]\n",
            " [0. 1.]\n",
            " [0. 1.]\n",
            " [0. 1.]\n",
            " [1. 0.]\n",
            " [0. 1.]\n",
            " [1. 0.]\n",
            " [0. 1.]\n",
            " [0. 1.]\n",
            " [0. 1.]\n",
            " [0. 1.]\n",
            " [0. 1.]\n",
            " [1. 0.]\n",
            " [0. 1.]\n",
            " [0. 1.]\n",
            " [0. 1.]\n",
            " [1. 0.]\n",
            " [1. 0.]\n",
            " [1. 0.]\n",
            " [0. 1.]\n",
            " [1. 0.]\n",
            " [1. 0.]\n",
            " [0. 1.]\n",
            " [0. 1.]\n",
            " [1. 0.]\n",
            " [0. 1.]\n",
            " [1. 0.]\n",
            " [0. 1.]\n",
            " [0. 1.]\n",
            " [0. 1.]\n",
            " [0. 1.]\n",
            " [1. 0.]\n",
            " [1. 0.]\n",
            " [1. 0.]\n",
            " [0. 1.]\n",
            " [0. 1.]\n",
            " [1. 0.]\n",
            " [1. 0.]\n",
            " [1. 0.]\n",
            " [1. 0.]\n",
            " [1. 0.]\n",
            " [1. 0.]\n",
            " [0. 1.]\n",
            " [1. 0.]\n",
            " [1. 0.]\n",
            " [0. 1.]\n",
            " [0. 1.]\n",
            " [1. 0.]\n",
            " [1. 0.]\n",
            " [1. 0.]\n",
            " [0. 1.]\n",
            " [1. 0.]\n",
            " [1. 0.]\n",
            " [0. 1.]\n",
            " [1. 0.]\n",
            " [0. 1.]\n",
            " [0. 1.]\n",
            " [1. 0.]\n",
            " [0. 1.]\n",
            " [0. 1.]\n",
            " [1. 0.]\n",
            " [1. 0.]\n",
            " [1. 0.]\n",
            " [0. 1.]\n",
            " [1. 0.]\n",
            " [0. 1.]\n",
            " [1. 0.]\n",
            " [1. 0.]\n",
            " [1. 0.]\n",
            " [0. 1.]\n",
            " [1. 0.]\n",
            " [1. 0.]\n",
            " [0. 1.]\n",
            " [1. 0.]\n",
            " [0. 1.]\n",
            " [1. 0.]\n",
            " [0. 1.]\n",
            " [0. 1.]\n",
            " [0. 1.]\n",
            " [0. 1.]\n",
            " [1. 0.]\n",
            " [1. 0.]\n",
            " [0. 1.]]\n"
          ]
        }
      ],
      "source": [
        "print(train_labels_encoded)\n",
        "print(\"\\n\")\n",
        "print(test_labels_encoded)\n",
        "print(\"\\n\")\n",
        "print(train_labels_one_hot)\n",
        "print(\"\\n\")\n",
        "print(test_labels_one_hot)"
      ]
    },
    {
      "cell_type": "code",
      "execution_count": null,
      "metadata": {
        "colab": {
          "base_uri": "https://localhost:8080/"
        },
        "id": "CDQB1sGXpJ3m",
        "outputId": "f145d850-2046-4b8d-a24f-9a6b8334895a"
      },
      "outputs": [
        {
          "output_type": "stream",
          "name": "stdout",
          "text": [
            "Epoch 1/30\n",
            "96/96 [==============================] - 1s 6ms/step - loss: 0.6928 - accuracy: 0.5099 - val_loss: 0.6932 - val_accuracy: 0.4721\n",
            "Epoch 2/30\n",
            "96/96 [==============================] - 0s 3ms/step - loss: 0.6899 - accuracy: 0.5318 - val_loss: 0.6869 - val_accuracy: 0.7654\n",
            "Epoch 3/30\n",
            "96/96 [==============================] - 0s 4ms/step - loss: 0.6769 - accuracy: 0.6693 - val_loss: 0.6751 - val_accuracy: 0.4927\n",
            "Epoch 4/30\n",
            "96/96 [==============================] - 0s 4ms/step - loss: 0.6373 - accuracy: 0.7471 - val_loss: 0.6160 - val_accuracy: 0.7713\n",
            "Epoch 5/30\n",
            "96/96 [==============================] - 0s 3ms/step - loss: 0.5561 - accuracy: 0.8433 - val_loss: 0.5414 - val_accuracy: 0.7683\n",
            "Epoch 6/30\n",
            "96/96 [==============================] - 0s 4ms/step - loss: 0.4657 - accuracy: 0.8530 - val_loss: 0.4699 - val_accuracy: 0.8387\n",
            "Epoch 7/30\n",
            "96/96 [==============================] - 0s 4ms/step - loss: 0.3965 - accuracy: 0.8635 - val_loss: 0.4283 - val_accuracy: 0.8446\n",
            "Epoch 8/30\n",
            "96/96 [==============================] - 0s 5ms/step - loss: 0.3542 - accuracy: 0.8710 - val_loss: 0.4053 - val_accuracy: 0.8446\n",
            "Epoch 9/30\n",
            "96/96 [==============================] - 1s 6ms/step - loss: 0.3262 - accuracy: 0.8781 - val_loss: 0.3928 - val_accuracy: 0.8416\n",
            "Epoch 10/30\n",
            "96/96 [==============================] - 1s 6ms/step - loss: 0.3027 - accuracy: 0.8833 - val_loss: 0.3837 - val_accuracy: 0.8416\n",
            "Epoch 11/30\n",
            "96/96 [==============================] - 1s 5ms/step - loss: 0.2857 - accuracy: 0.8941 - val_loss: 0.3770 - val_accuracy: 0.8446\n",
            "Epoch 12/30\n",
            "96/96 [==============================] - 1s 5ms/step - loss: 0.2744 - accuracy: 0.8970 - val_loss: 0.3691 - val_accuracy: 0.8504\n",
            "Epoch 13/30\n",
            "96/96 [==============================] - 1s 5ms/step - loss: 0.2608 - accuracy: 0.9049 - val_loss: 0.3682 - val_accuracy: 0.8416\n",
            "Epoch 14/30\n",
            "96/96 [==============================] - 0s 3ms/step - loss: 0.2553 - accuracy: 0.8993 - val_loss: 0.3684 - val_accuracy: 0.8387\n",
            "Epoch 15/30\n",
            "96/96 [==============================] - 0s 4ms/step - loss: 0.2415 - accuracy: 0.9097 - val_loss: 0.3594 - val_accuracy: 0.8446\n",
            "Epoch 16/30\n",
            "96/96 [==============================] - 0s 4ms/step - loss: 0.2308 - accuracy: 0.9163 - val_loss: 0.3556 - val_accuracy: 0.8416\n",
            "Epoch 17/30\n",
            "96/96 [==============================] - 0s 4ms/step - loss: 0.2261 - accuracy: 0.9146 - val_loss: 0.3506 - val_accuracy: 0.8446\n",
            "Epoch 18/30\n",
            "96/96 [==============================] - 0s 4ms/step - loss: 0.2179 - accuracy: 0.9179 - val_loss: 0.3487 - val_accuracy: 0.8446\n",
            "Epoch 19/30\n",
            "96/96 [==============================] - 0s 4ms/step - loss: 0.2101 - accuracy: 0.9234 - val_loss: 0.3627 - val_accuracy: 0.8446\n",
            "Epoch 20/30\n",
            "96/96 [==============================] - 0s 3ms/step - loss: 0.2131 - accuracy: 0.9130 - val_loss: 0.3575 - val_accuracy: 0.8328\n",
            "Epoch 21/30\n",
            "96/96 [==============================] - 0s 4ms/step - loss: 0.2007 - accuracy: 0.9254 - val_loss: 0.3530 - val_accuracy: 0.8504\n",
            "Epoch 22/30\n",
            "96/96 [==============================] - 0s 4ms/step - loss: 0.1925 - accuracy: 0.9293 - val_loss: 0.3476 - val_accuracy: 0.8592\n",
            "Epoch 23/30\n",
            "96/96 [==============================] - 0s 3ms/step - loss: 0.1891 - accuracy: 0.9306 - val_loss: 0.3449 - val_accuracy: 0.8534\n",
            "Epoch 24/30\n",
            "96/96 [==============================] - 0s 4ms/step - loss: 0.1845 - accuracy: 0.9332 - val_loss: 0.3421 - val_accuracy: 0.8592\n",
            "Epoch 25/30\n",
            "96/96 [==============================] - 0s 3ms/step - loss: 0.1820 - accuracy: 0.9290 - val_loss: 0.3553 - val_accuracy: 0.8446\n",
            "Epoch 26/30\n",
            "96/96 [==============================] - 0s 3ms/step - loss: 0.1752 - accuracy: 0.9352 - val_loss: 0.3723 - val_accuracy: 0.8387\n",
            "Epoch 27/30\n",
            "96/96 [==============================] - 0s 4ms/step - loss: 0.1725 - accuracy: 0.9358 - val_loss: 0.3452 - val_accuracy: 0.8504\n",
            "Epoch 28/30\n",
            "96/96 [==============================] - 0s 3ms/step - loss: 0.1661 - accuracy: 0.9427 - val_loss: 0.3501 - val_accuracy: 0.8563\n",
            "Epoch 29/30\n",
            "96/96 [==============================] - 0s 4ms/step - loss: 0.1650 - accuracy: 0.9394 - val_loss: 0.3532 - val_accuracy: 0.8504\n",
            "Epoch 30/30\n",
            "96/96 [==============================] - 0s 4ms/step - loss: 0.1604 - accuracy: 0.9430 - val_loss: 0.3525 - val_accuracy: 0.8592\n"
          ]
        }
      ],
      "source": [
        "model.compile(loss='binary_crossentropy',optimizer=tf.keras.optimizers.Adam() ,metrics=['accuracy'])\n",
        "\n",
        "history_1 = model.fit(train_padded_seq, train_labels_one_hot, epochs=30, validation_data=(val_padded_seq, test_labels_one_hot))"
      ]
    },
    {
      "cell_type": "markdown",
      "source": [
        "**Melihat Grafik dari model sebelum fine tuning**"
      ],
      "metadata": {
        "id": "EZn-0_N-em0K"
      }
    },
    {
      "cell_type": "code",
      "execution_count": null,
      "metadata": {
        "id": "bjgtxM5ufMLG",
        "colab": {
          "base_uri": "https://localhost:8080/",
          "height": 881
        },
        "outputId": "ff382989-2c45-4daa-fa49-12dbe90f117d"
      },
      "outputs": [
        {
          "output_type": "display_data",
          "data": {
            "text/plain": [
              "<Figure size 640x480 with 1 Axes>"
            ],
            "image/png": "[encoded data removed]"
          },
          "metadata": {}
        },
        {
          "output_type": "display_data",
          "data": {
            "text/plain": [
              "<Figure size 640x480 with 1 Axes>"
            ],
            "image/png": "[encoded data removed]"
          },
          "metadata": {}
        }
      ],
      "source": [
        "def plot_graphs(history, metric):\n",
        "    plt.plot(history.history[metric])\n",
        "    plt.plot(history.history[f'val_{metric}'])\n",
        "    plt.xlabel(\"Epochs\")\n",
        "    plt.ylabel(metric)\n",
        "    plt.legend([metric, f'val_{metric}'])\n",
        "    plt.show()\n",
        "\n",
        "plot_graphs(history_1, \"accuracy\")\n",
        "plot_graphs(history_1, \"loss\")"
      ]
    },
    {
      "cell_type": "code",
      "execution_count": null,
      "metadata": {
        "id": "f2iUdZGgs3jS",
        "colab": {
          "base_uri": "https://localhost:8080/"
        },
        "outputId": "89013924-96a1-44de-9ed5-0d97c0518d2e"
      },
      "outputs": [
        {
          "output_type": "stream",
          "name": "stdout",
          "text": [
            "[HS             ,      non-HS]\n",
            "[[0.5360325  0.46396753]]\n"
          ]
        }
      ],
      "source": [
        "seed_text = \"anjing liar\"\n",
        "# Convert the text into sequences\n",
        "token_list = tokenizer.texts_to_sequences([seed_text])[0]\n",
        "# Pad the sequences\n",
        "token_list = pad_sequences([token_list], maxlen=MAXLEN , padding='pre')\n",
        "# Get the probabilities of predicting a word\n",
        "predicted = model.predict(token_list, verbose=0)\n",
        "print(\"[HS             ,      non-HS]\")\n",
        "print(predicted)"
      ]
    },
    {
      "cell_type": "markdown",
      "source": [
        "**Fine Tuning**"
      ],
      "metadata": {
        "id": "8P4uRrKre8TY"
      }
    },
    {
      "cell_type": "code",
      "execution_count": null,
      "metadata": {
        "id": "DthfY8zAfz7b",
        "colab": {
          "base_uri": "https://localhost:8080/"
        },
        "outputId": "6a282f68-0aa0-4bb8-ef14-b0a92c6dcd3d"
      },
      "outputs": [
        {
          "output_type": "stream",
          "name": "stdout",
          "text": [
            "Epoch 1/30\n",
            "96/96 [==============================] - 41s 308ms/step - loss: 0.6934 - accuracy: 0.4998 - val_loss: 0.6929 - val_accuracy: 0.5279\n",
            "Epoch 2/30\n",
            "96/96 [==============================] - 21s 218ms/step - loss: 0.6921 - accuracy: 0.5165 - val_loss: 0.6863 - val_accuracy: 0.4839\n",
            "Epoch 3/30\n",
            "96/96 [==============================] - 20s 207ms/step - loss: 0.4823 - accuracy: 0.7797 - val_loss: 0.5063 - val_accuracy: 0.7507\n",
            "Epoch 4/30\n",
            "96/96 [==============================] - 21s 221ms/step - loss: 0.3953 - accuracy: 0.8602 - val_loss: 0.4470 - val_accuracy: 0.8328\n",
            "Epoch 5/30\n",
            "96/96 [==============================] - 20s 203ms/step - loss: 0.3391 - accuracy: 0.8869 - val_loss: 0.4695 - val_accuracy: 0.8240\n",
            "Epoch 6/30\n",
            "96/96 [==============================] - 21s 219ms/step - loss: 0.4227 - accuracy: 0.8097 - val_loss: 0.5098 - val_accuracy: 0.8065\n",
            "Epoch 7/30\n",
            "96/96 [==============================] - 20s 204ms/step - loss: 0.3166 - accuracy: 0.8983 - val_loss: 0.4641 - val_accuracy: 0.8152\n",
            "Epoch 8/30\n",
            "96/96 [==============================] - 21s 221ms/step - loss: 0.2676 - accuracy: 0.9143 - val_loss: 0.4544 - val_accuracy: 0.8182\n",
            "Epoch 9/30\n",
            "96/96 [==============================] - 21s 220ms/step - loss: 0.2524 - accuracy: 0.9176 - val_loss: 0.4634 - val_accuracy: 0.8299\n",
            "Epoch 10/30\n",
            "96/96 [==============================] - 19s 196ms/step - loss: 0.2522 - accuracy: 0.9055 - val_loss: 0.4694 - val_accuracy: 0.8270\n",
            "Epoch 11/30\n",
            "96/96 [==============================] - 19s 201ms/step - loss: 0.2575 - accuracy: 0.8944 - val_loss: 0.4789 - val_accuracy: 0.8211\n",
            "Epoch 12/30\n",
            "96/96 [==============================] - 21s 215ms/step - loss: 0.2247 - accuracy: 0.9189 - val_loss: 0.4640 - val_accuracy: 0.8270\n",
            "Epoch 13/30\n",
            "96/96 [==============================] - 21s 215ms/step - loss: 0.2186 - accuracy: 0.9264 - val_loss: 0.4807 - val_accuracy: 0.8240\n",
            "Epoch 14/30\n",
            "96/96 [==============================] - 19s 197ms/step - loss: 0.2067 - accuracy: 0.9371 - val_loss: 0.5094 - val_accuracy: 0.8299\n",
            "Epoch 15/30\n",
            "96/96 [==============================] - 21s 215ms/step - loss: 0.1955 - accuracy: 0.9407 - val_loss: 0.5223 - val_accuracy: 0.8240\n",
            "Epoch 16/30\n",
            "96/96 [==============================] - 19s 196ms/step - loss: 0.2652 - accuracy: 0.8863 - val_loss: 0.5413 - val_accuracy: 0.8035\n",
            "Epoch 17/30\n",
            "96/96 [==============================] - 20s 209ms/step - loss: 0.2582 - accuracy: 0.9137 - val_loss: 0.5066 - val_accuracy: 0.8094\n",
            "Epoch 18/30\n",
            "96/96 [==============================] - 18s 191ms/step - loss: 0.2106 - accuracy: 0.9273 - val_loss: 0.5114 - val_accuracy: 0.8123\n",
            "Epoch 19/30\n",
            "96/96 [==============================] - 20s 204ms/step - loss: 0.3691 - accuracy: 0.8566 - val_loss: 0.5048 - val_accuracy: 0.7566\n",
            "Epoch 20/30\n",
            "96/96 [==============================] - 19s 198ms/step - loss: 0.3148 - accuracy: 0.8759 - val_loss: 0.4300 - val_accuracy: 0.8094\n",
            "Epoch 21/30\n",
            "96/96 [==============================] - 19s 201ms/step - loss: 0.2848 - accuracy: 0.8925 - val_loss: 0.4151 - val_accuracy: 0.7918\n",
            "Epoch 22/30\n",
            "96/96 [==============================] - 19s 199ms/step - loss: 0.2482 - accuracy: 0.8961 - val_loss: 0.4847 - val_accuracy: 0.7859\n",
            "Epoch 23/30\n",
            "96/96 [==============================] - 18s 192ms/step - loss: 0.2244 - accuracy: 0.9143 - val_loss: 0.5394 - val_accuracy: 0.7889\n",
            "Epoch 24/30\n",
            "96/96 [==============================] - 20s 208ms/step - loss: 0.2307 - accuracy: 0.9123 - val_loss: 0.4541 - val_accuracy: 0.8240\n",
            "Epoch 25/30\n",
            "96/96 [==============================] - 18s 192ms/step - loss: 0.1936 - accuracy: 0.9329 - val_loss: 0.5390 - val_accuracy: 0.8065\n",
            "Epoch 26/30\n",
            "96/96 [==============================] - 21s 224ms/step - loss: 0.1799 - accuracy: 0.9394 - val_loss: 0.4934 - val_accuracy: 0.8299\n",
            "Epoch 27/30\n",
            "96/96 [==============================] - 19s 193ms/step - loss: 0.1745 - accuracy: 0.9397 - val_loss: 0.4709 - val_accuracy: 0.8211\n",
            "Epoch 28/30\n",
            "96/96 [==============================] - 20s 209ms/step - loss: 0.1660 - accuracy: 0.9433 - val_loss: 0.4812 - val_accuracy: 0.8182\n",
            "Epoch 29/30\n",
            "96/96 [==============================] - 19s 195ms/step - loss: 0.1647 - accuracy: 0.9482 - val_loss: 0.5009 - val_accuracy: 0.8240\n",
            "Epoch 30/30\n",
            "96/96 [==============================] - 20s 209ms/step - loss: 0.1496 - accuracy: 0.9531 - val_loss: 0.4944 - val_accuracy: 0.8416\n"
          ]
        }
      ],
      "source": [
        "model_LSTM = tf.keras.Sequential([\n",
        "    tf.keras.layers.Embedding(NUM_WORDS, EMBEDDING_DIM, input_length=MAXLEN),\n",
        "    tf.keras.layers.Bidirectional(LSTM(16, return_sequences=True)),\n",
        "    tf.keras.layers.Bidirectional(LSTM(32, return_sequences=True)),\n",
        "    tf.keras.layers.GlobalAveragePooling1D(),\n",
        "    tf.keras.layers.Dense(units=32, activation='relu'),\n",
        "    tf.keras.layers.Dense(units=2, activation='softmax')\n",
        "])\n",
        "model_LSTM.compile(loss='binary_crossentropy', optimizer=tf.keras.optimizers.Adam(), metrics=['accuracy'])\n",
        "history_LSTM = model_LSTM.fit(train_padded_seq, train_labels_one_hot, epochs=30, validation_data=(val_padded_seq, test_labels_one_hot))"
      ]
    },
    {
      "cell_type": "code",
      "source": [
        "plot_graphs(history_LSTM, \"accuracy\")\n",
        "plot_graphs(history_LSTM, \"loss\")"
      ],
      "metadata": {
        "colab": {
          "base_uri": "https://localhost:8080/",
          "height": 881
        },
        "id": "otm63y1Ui26F",
        "outputId": "d99c580d-1c11-45c7-95f8-418a2f34567f"
      },
      "execution_count": null,
      "outputs": [
        {
          "output_type": "display_data",
          "data": {
            "text/plain": [
              "<Figure size 640x480 with 1 Axes>"
            ],
            "image/png": "[encoded data removed]"
          },
          "metadata": {}
        },
        {
          "output_type": "display_data",
          "data": {
            "text/plain": [
              "<Figure size 640x480 with 1 Axes>"
            ],
            "image/png": "[encoded data removed]"
          },
          "metadata": {}
        }
      ]
    },
    {
      "cell_type": "code",
      "source": [
        "model_LSTM = tf.keras.Sequential([\n",
        "    tf.keras.layers.Embedding(NUM_WORDS, EMBEDDING_DIM, input_length=MAXLEN),\n",
        "    tf.keras.layers.Bidirectional(LSTM(16, return_sequences=True)),\n",
        "    tf.keras.layers.Bidirectional(LSTM(32, return_sequences=True)),\n",
        "    tf.keras.layers.GlobalAveragePooling1D(),\n",
        "    tf.keras.layers.Dense(units=32, activation='relu'),\n",
        "    tf.keras.layers.Dense(units=2, activation='softmax')\n",
        "])\n",
        "model_LSTM.compile(loss='binary_crossentropy', optimizer=tf.keras.optimizers.SGD(), metrics=['accuracy'])\n",
        "history_LSTM = model_LSTM.fit(train_padded_seq, train_labels_one_hot, epochs=30, validation_data=(val_padded_seq, test_labels_one_hot))"
      ],
      "metadata": {
        "colab": {
          "base_uri": "https://localhost:8080/"
        },
        "id": "mF5Ubf3gf5sn",
        "outputId": "97e6d48e-2c4b-46d1-d8f2-5f6f9e62a3c3"
      },
      "execution_count": null,
      "outputs": [
        {
          "output_type": "stream",
          "name": "stdout",
          "text": [
            "Epoch 1/30\n",
            "96/96 [==============================] - 30s 221ms/step - loss: 0.6932 - accuracy: 0.5077 - val_loss: 0.6935 - val_accuracy: 0.4721\n",
            "Epoch 2/30\n",
            "96/96 [==============================] - 20s 203ms/step - loss: 0.6931 - accuracy: 0.5086 - val_loss: 0.6938 - val_accuracy: 0.4721\n",
            "Epoch 3/30\n",
            "96/96 [==============================] - 19s 203ms/step - loss: 0.6931 - accuracy: 0.5073 - val_loss: 0.6941 - val_accuracy: 0.4721\n",
            "Epoch 4/30\n",
            "96/96 [==============================] - 19s 198ms/step - loss: 0.6931 - accuracy: 0.5086 - val_loss: 0.6942 - val_accuracy: 0.4721\n",
            "Epoch 5/30\n",
            "96/96 [==============================] - 21s 216ms/step - loss: 0.6931 - accuracy: 0.5086 - val_loss: 0.6942 - val_accuracy: 0.4721\n",
            "Epoch 6/30\n",
            "96/96 [==============================] - 20s 213ms/step - loss: 0.6931 - accuracy: 0.5086 - val_loss: 0.6942 - val_accuracy: 0.4721\n",
            "Epoch 7/30\n",
            "96/96 [==============================] - 20s 206ms/step - loss: 0.6931 - accuracy: 0.5086 - val_loss: 0.6942 - val_accuracy: 0.4721\n",
            "Epoch 8/30\n",
            "96/96 [==============================] - 19s 196ms/step - loss: 0.6931 - accuracy: 0.5086 - val_loss: 0.6942 - val_accuracy: 0.4721\n",
            "Epoch 9/30\n",
            "96/96 [==============================] - 20s 207ms/step - loss: 0.6931 - accuracy: 0.5086 - val_loss: 0.6942 - val_accuracy: 0.4721\n",
            "Epoch 10/30\n",
            "96/96 [==============================] - 19s 194ms/step - loss: 0.6930 - accuracy: 0.5086 - val_loss: 0.6942 - val_accuracy: 0.4721\n",
            "Epoch 11/30\n",
            "96/96 [==============================] - 20s 210ms/step - loss: 0.6931 - accuracy: 0.5086 - val_loss: 0.6942 - val_accuracy: 0.4721\n",
            "Epoch 12/30\n",
            "96/96 [==============================] - 20s 210ms/step - loss: 0.6931 - accuracy: 0.5086 - val_loss: 0.6942 - val_accuracy: 0.4721\n",
            "Epoch 13/30\n",
            "96/96 [==============================] - 20s 212ms/step - loss: 0.6931 - accuracy: 0.5086 - val_loss: 0.6942 - val_accuracy: 0.4721\n",
            "Epoch 14/30\n",
            "96/96 [==============================] - 19s 197ms/step - loss: 0.6931 - accuracy: 0.5086 - val_loss: 0.6942 - val_accuracy: 0.4721\n",
            "Epoch 15/30\n",
            "96/96 [==============================] - 20s 213ms/step - loss: 0.6931 - accuracy: 0.5086 - val_loss: 0.6943 - val_accuracy: 0.4721\n",
            "Epoch 16/30\n",
            "96/96 [==============================] - 19s 195ms/step - loss: 0.6931 - accuracy: 0.5086 - val_loss: 0.6943 - val_accuracy: 0.4721\n",
            "Epoch 17/30\n",
            "96/96 [==============================] - 20s 213ms/step - loss: 0.6931 - accuracy: 0.5086 - val_loss: 0.6942 - val_accuracy: 0.4721\n",
            "Epoch 18/30\n",
            "96/96 [==============================] - 19s 196ms/step - loss: 0.6931 - accuracy: 0.5086 - val_loss: 0.6942 - val_accuracy: 0.4721\n",
            "Epoch 19/30\n",
            "96/96 [==============================] - 20s 208ms/step - loss: 0.6931 - accuracy: 0.5086 - val_loss: 0.6942 - val_accuracy: 0.4721\n",
            "Epoch 20/30\n",
            "96/96 [==============================] - 19s 194ms/step - loss: 0.6931 - accuracy: 0.5086 - val_loss: 0.6942 - val_accuracy: 0.4721\n",
            "Epoch 21/30\n",
            "96/96 [==============================] - 20s 212ms/step - loss: 0.6931 - accuracy: 0.5086 - val_loss: 0.6943 - val_accuracy: 0.4721\n",
            "Epoch 22/30\n",
            "96/96 [==============================] - 19s 195ms/step - loss: 0.6931 - accuracy: 0.5086 - val_loss: 0.6944 - val_accuracy: 0.4721\n",
            "Epoch 23/30\n",
            "96/96 [==============================] - 20s 206ms/step - loss: 0.6931 - accuracy: 0.5086 - val_loss: 0.6944 - val_accuracy: 0.4721\n",
            "Epoch 24/30\n",
            "96/96 [==============================] - 19s 195ms/step - loss: 0.6931 - accuracy: 0.5086 - val_loss: 0.6943 - val_accuracy: 0.4721\n",
            "Epoch 25/30\n",
            "96/96 [==============================] - 19s 202ms/step - loss: 0.6931 - accuracy: 0.5086 - val_loss: 0.6944 - val_accuracy: 0.4721\n",
            "Epoch 26/30\n",
            "96/96 [==============================] - 21s 213ms/step - loss: 0.6931 - accuracy: 0.5086 - val_loss: 0.6942 - val_accuracy: 0.4721\n",
            "Epoch 27/30\n",
            "96/96 [==============================] - 18s 191ms/step - loss: 0.6931 - accuracy: 0.5086 - val_loss: 0.6943 - val_accuracy: 0.4721\n",
            "Epoch 28/30\n",
            "96/96 [==============================] - 20s 210ms/step - loss: 0.6931 - accuracy: 0.5086 - val_loss: 0.6942 - val_accuracy: 0.4721\n",
            "Epoch 29/30\n",
            "96/96 [==============================] - 19s 194ms/step - loss: 0.6931 - accuracy: 0.5086 - val_loss: 0.6942 - val_accuracy: 0.4721\n",
            "Epoch 30/30\n",
            "96/96 [==============================] - 20s 210ms/step - loss: 0.6930 - accuracy: 0.5086 - val_loss: 0.6943 - val_accuracy: 0.4721\n"
          ]
        }
      ]
    },
    {
      "cell_type": "code",
      "source": [
        "# Definisikan callback function\n",
        "class LearningRateScheduler(tf.keras.callbacks.Callback):\n",
        "    def __init__(self, schedule):\n",
        "        super(LearningRateScheduler, self).__init__()\n",
        "        self.schedule = schedule\n",
        "\n",
        "    def on_epoch_begin(self, epoch, logs=None):\n",
        "        if not hasattr(self.model.optimizer, \"lr\"):\n",
        "            raise ValueError('Optimizer must have a \"lr\" attribute.')\n",
        "        # Dapatkan learning rate berdasarkan epoch saat ini\n",
        "        lr = float(tf.keras.backend.get_value(self.model.optimizer.lr))\n",
        "        # Panggil fungsi schedule untuk mendapatkan learning rate baru\n",
        "        scheduled_lr = self.schedule(epoch, lr)\n",
        "        # Atur learning rate pada optimizer\n",
        "        tf.keras.backend.set_value(self.model.optimizer.lr, scheduled_lr)\n",
        "        print(f\"\\nEpoch {epoch + 1}: Learning rate set to {scheduled_lr}\")\n",
        "\n",
        "# Fungsi untuk mengatur schedule learning rate\n",
        "def learning_rate_schedule(epoch, lr):\n",
        "    # Learning rate akan berkurang setiap 5 epoch\n",
        "    if epoch % 5 == 0 and epoch > 0:\n",
        "        lr = lr * 0.1  # Mengurangi learning rate menjadi 10% dari sebelumnya\n",
        "    return lr"
      ],
      "metadata": {
        "id": "ewj3RiKX7qvf"
      },
      "execution_count": 43,
      "outputs": []
    },
    {
      "cell_type": "code",
      "source": [
        "# Membuat model LSTM\n",
        "model_LSTM = tf.keras.Sequential([\n",
        "    tf.keras.layers.Embedding(NUM_WORDS, EMBEDDING_DIM, input_length=MAXLEN),\n",
        "    tf.keras.layers.Bidirectional(LSTM(16, return_sequences=True)),\n",
        "    tf.keras.layers.Bidirectional(LSTM(32, return_sequences=True)),\n",
        "    tf.keras.layers.GlobalAveragePooling1D(),\n",
        "    tf.keras.layers.Dense(units=32, activation='relu'),\n",
        "    tf.keras.layers.Dense(units=2, activation='softmax')\n",
        "])\n",
        "\n",
        "# Compile model\n",
        "# Adam Opt\n",
        "model_LSTM.compile(loss='binary_crossentropy', optimizer=tf.keras.optimizers.Adam(), metrics=['accuracy'])\n",
        "\n",
        "# Membuat instance dari LearningRateScheduler\n",
        "lr_scheduler = LearningRateScheduler(learning_rate_schedule)\n",
        "\n",
        "# Latih model dengan menggunakan callback LearningRateScheduler\n",
        "history_LSTM = model_LSTM.fit(train_padded_seq, train_labels_one_hot, epochs=30,\n",
        "                              validation_data=(val_padded_seq, test_labels_one_hot),\n",
        "                              callbacks=[lr_scheduler])"
      ],
      "metadata": {
        "id": "DQtYTvvWjCbp",
        "colab": {
          "base_uri": "https://localhost:8080/"
        },
        "outputId": "5c2dc6c1-a573-4dce-ddf6-a2bfde8d7417"
      },
      "execution_count": 44,
      "outputs": [
        {
          "output_type": "stream",
          "name": "stdout",
          "text": [
            "\n",
            "Epoch 1: Learning rate set to 0.0010000000474974513\n",
            "Epoch 1/30\n",
            "96/96 [==============================] - 37s 251ms/step - loss: 0.6935 - accuracy: 0.4966 - val_loss: 0.6939 - val_accuracy: 0.4721\n",
            "\n",
            "Epoch 2: Learning rate set to 0.0010000000474974513\n",
            "Epoch 2/30\n",
            "96/96 [==============================] - 20s 213ms/step - loss: 0.6918 - accuracy: 0.5178 - val_loss: 0.6520 - val_accuracy: 0.6188\n",
            "\n",
            "Epoch 3: Learning rate set to 0.0010000000474974513\n",
            "Epoch 3/30\n",
            "96/96 [==============================] - 25s 260ms/step - loss: 0.4518 - accuracy: 0.8358 - val_loss: 0.4794 - val_accuracy: 0.8270\n",
            "\n",
            "Epoch 4: Learning rate set to 0.0010000000474974513\n",
            "Epoch 4/30\n",
            "96/96 [==============================] - 23s 239ms/step - loss: 0.4056 - accuracy: 0.8530 - val_loss: 0.4682 - val_accuracy: 0.8123\n",
            "\n",
            "Epoch 5: Learning rate set to 0.0010000000474974513\n",
            "Epoch 5/30\n",
            "96/96 [==============================] - 22s 231ms/step - loss: 0.3333 - accuracy: 0.8850 - val_loss: 0.4114 - val_accuracy: 0.8328\n",
            "\n",
            "Epoch 6: Learning rate set to 0.00010000000474974513\n",
            "Epoch 6/30\n",
            "96/96 [==============================] - 20s 213ms/step - loss: 0.2795 - accuracy: 0.9013 - val_loss: 0.4151 - val_accuracy: 0.8299\n",
            "\n",
            "Epoch 7: Learning rate set to 0.00010000000474974513\n",
            "Epoch 7/30\n",
            "96/96 [==============================] - 22s 233ms/step - loss: 0.2947 - accuracy: 0.8801 - val_loss: 0.4067 - val_accuracy: 0.8240\n",
            "\n",
            "Epoch 8: Learning rate set to 0.00010000000474974513\n",
            "Epoch 8/30\n",
            "96/96 [==============================] - 21s 222ms/step - loss: 0.2676 - accuracy: 0.8961 - val_loss: 0.4027 - val_accuracy: 0.8328\n",
            "\n",
            "Epoch 9: Learning rate set to 0.00010000000474974513\n",
            "Epoch 9/30\n",
            "96/96 [==============================] - 21s 219ms/step - loss: 0.2574 - accuracy: 0.9016 - val_loss: 0.4007 - val_accuracy: 0.8358\n",
            "\n",
            "Epoch 10: Learning rate set to 0.00010000000474974513\n",
            "Epoch 10/30\n",
            "96/96 [==============================] - 22s 231ms/step - loss: 0.2492 - accuracy: 0.9045 - val_loss: 0.4115 - val_accuracy: 0.8299\n",
            "\n",
            "Epoch 11: Learning rate set to 1.0000000474974514e-05\n",
            "Epoch 11/30\n",
            "96/96 [==============================] - 21s 214ms/step - loss: 0.2450 - accuracy: 0.9075 - val_loss: 0.4058 - val_accuracy: 0.8328\n",
            "\n",
            "Epoch 12: Learning rate set to 1.0000000656873453e-05\n",
            "Epoch 12/30\n",
            "96/96 [==============================] - 23s 242ms/step - loss: 0.2441 - accuracy: 0.9065 - val_loss: 0.4048 - val_accuracy: 0.8328\n",
            "\n",
            "Epoch 13: Learning rate set to 1.0000000656873453e-05\n",
            "Epoch 13/30\n",
            "96/96 [==============================] - 22s 225ms/step - loss: 0.2433 - accuracy: 0.9068 - val_loss: 0.4047 - val_accuracy: 0.8328\n",
            "\n",
            "Epoch 14: Learning rate set to 1.0000000656873453e-05\n",
            "Epoch 14/30\n",
            "96/96 [==============================] - 20s 211ms/step - loss: 0.2440 - accuracy: 0.9071 - val_loss: 0.4114 - val_accuracy: 0.8299\n",
            "\n",
            "Epoch 15: Learning rate set to 1.0000000656873453e-05\n",
            "Epoch 15/30\n",
            "96/96 [==============================] - 22s 227ms/step - loss: 0.2423 - accuracy: 0.9091 - val_loss: 0.4129 - val_accuracy: 0.8299\n",
            "\n",
            "Epoch 16: Learning rate set to 1.0000000656873453e-06\n",
            "Epoch 16/30\n",
            "96/96 [==============================] - 21s 220ms/step - loss: 0.2421 - accuracy: 0.9091 - val_loss: 0.4129 - val_accuracy: 0.8299\n",
            "\n",
            "Epoch 17: Learning rate set to 1.0000001111620804e-06\n",
            "Epoch 17/30\n",
            "96/96 [==============================] - 21s 213ms/step - loss: 0.2421 - accuracy: 0.9091 - val_loss: 0.4129 - val_accuracy: 0.8299\n",
            "\n",
            "Epoch 18: Learning rate set to 1.0000001111620804e-06\n",
            "Epoch 18/30\n",
            "96/96 [==============================] - 22s 229ms/step - loss: 0.2420 - accuracy: 0.9091 - val_loss: 0.4129 - val_accuracy: 0.8299\n",
            "\n",
            "Epoch 19: Learning rate set to 1.0000001111620804e-06\n",
            "Epoch 19/30\n",
            "96/96 [==============================] - 20s 208ms/step - loss: 0.2420 - accuracy: 0.9091 - val_loss: 0.4129 - val_accuracy: 0.8299\n",
            "\n",
            "Epoch 20: Learning rate set to 1.0000001111620804e-06\n",
            "Epoch 20/30\n",
            "96/96 [==============================] - 22s 227ms/step - loss: 0.2420 - accuracy: 0.9091 - val_loss: 0.4130 - val_accuracy: 0.8299\n",
            "\n",
            "Epoch 21: Learning rate set to 1.0000001111620805e-07\n",
            "Epoch 21/30\n",
            "96/96 [==============================] - 22s 229ms/step - loss: 0.2420 - accuracy: 0.9091 - val_loss: 0.4130 - val_accuracy: 0.8299\n",
            "\n",
            "Epoch 22: Learning rate set to 1.000000082740371e-07\n",
            "Epoch 22/30\n",
            "96/96 [==============================] - 21s 214ms/step - loss: 0.2420 - accuracy: 0.9091 - val_loss: 0.4130 - val_accuracy: 0.8299\n",
            "\n",
            "Epoch 23: Learning rate set to 1.000000082740371e-07\n",
            "Epoch 23/30\n",
            "96/96 [==============================] - 22s 227ms/step - loss: 0.2420 - accuracy: 0.9091 - val_loss: 0.4130 - val_accuracy: 0.8299\n",
            "\n",
            "Epoch 24: Learning rate set to 1.000000082740371e-07\n",
            "Epoch 24/30\n",
            "96/96 [==============================] - 22s 234ms/step - loss: 0.2420 - accuracy: 0.9091 - val_loss: 0.4130 - val_accuracy: 0.8299\n",
            "\n",
            "Epoch 25: Learning rate set to 1.000000082740371e-07\n",
            "Epoch 25/30\n",
            "96/96 [==============================] - 21s 221ms/step - loss: 0.2420 - accuracy: 0.9091 - val_loss: 0.4130 - val_accuracy: 0.8299\n",
            "\n",
            "Epoch 26: Learning rate set to 1.000000082740371e-08\n",
            "Epoch 26/30\n",
            "96/96 [==============================] - 22s 227ms/step - loss: 0.2420 - accuracy: 0.9091 - val_loss: 0.4130 - val_accuracy: 0.8299\n",
            "\n",
            "Epoch 27: Learning rate set to 1.000000082740371e-08\n",
            "Epoch 27/30\n",
            "96/96 [==============================] - 20s 214ms/step - loss: 0.2420 - accuracy: 0.9091 - val_loss: 0.4130 - val_accuracy: 0.8299\n",
            "\n",
            "Epoch 28: Learning rate set to 1.000000082740371e-08\n",
            "Epoch 28/30\n",
            "96/96 [==============================] - 22s 228ms/step - loss: 0.2420 - accuracy: 0.9091 - val_loss: 0.4130 - val_accuracy: 0.8299\n",
            "\n",
            "Epoch 29: Learning rate set to 1.000000082740371e-08\n",
            "Epoch 29/30\n",
            "96/96 [==============================] - 22s 228ms/step - loss: 0.2420 - accuracy: 0.9091 - val_loss: 0.4130 - val_accuracy: 0.8299\n",
            "\n",
            "Epoch 30: Learning rate set to 1.000000082740371e-08\n",
            "Epoch 30/30\n",
            "96/96 [==============================] - 20s 214ms/step - loss: 0.2420 - accuracy: 0.9091 - val_loss: 0.4130 - val_accuracy: 0.8299\n"
          ]
        }
      ]
    },
    {
      "cell_type": "code",
      "source": [
        "# SGD Opt\n",
        "model_LSTM.compile(loss='binary_crossentropy', optimizer=tf.keras.optimizers.SGD(), metrics=['accuracy'])\n",
        "history_LSTM = model_LSTM.fit(train_padded_seq, train_labels_one_hot, epochs=30,\n",
        "                              validation_data=(val_padded_seq, test_labels_one_hot),\n",
        "                              callbacks=[lr_scheduler])"
      ],
      "metadata": {
        "colab": {
          "base_uri": "https://localhost:8080/"
        },
        "id": "n4PIORl-_Pfz",
        "outputId": "8790b96d-6b97-427e-c1ff-f643ce023766"
      },
      "execution_count": 45,
      "outputs": [
        {
          "output_type": "stream",
          "name": "stdout",
          "text": [
            "\n",
            "Epoch 1: Learning rate set to 0.009999999776482582\n",
            "Epoch 1/30\n",
            "96/96 [==============================] - 33s 235ms/step - loss: 0.6415 - accuracy: 0.6061 - val_loss: 0.6862 - val_accuracy: 0.5308\n",
            "\n",
            "Epoch 2: Learning rate set to 0.009999999776482582\n",
            "Epoch 2/30\n",
            "96/96 [==============================] - 22s 228ms/step - loss: 0.6778 - accuracy: 0.5842 - val_loss: 0.6701 - val_accuracy: 0.6921\n",
            "\n",
            "Epoch 3: Learning rate set to 0.009999999776482582\n",
            "Epoch 3/30\n",
            "96/96 [==============================] - 23s 235ms/step - loss: 0.6351 - accuracy: 0.8061 - val_loss: 0.5828 - val_accuracy: 0.8182\n",
            "\n",
            "Epoch 4: Learning rate set to 0.009999999776482582\n",
            "Epoch 4/30\n",
            "96/96 [==============================] - 23s 239ms/step - loss: 0.4768 - accuracy: 0.8449 - val_loss: 0.6359 - val_accuracy: 0.6217\n",
            "\n",
            "Epoch 5: Learning rate set to 0.009999999776482582\n",
            "Epoch 5/30\n",
            "96/96 [==============================] - 23s 235ms/step - loss: 0.6790 - accuracy: 0.5653 - val_loss: 0.6915 - val_accuracy: 0.5279\n",
            "\n",
            "Epoch 6: Learning rate set to 0.0009999999776482583\n",
            "Epoch 6/30\n",
            "96/96 [==============================] - 22s 226ms/step - loss: 0.6940 - accuracy: 0.4917 - val_loss: 0.6918 - val_accuracy: 0.5279\n",
            "\n",
            "Epoch 7: Learning rate set to 0.0009999999310821295\n",
            "Epoch 7/30\n",
            "96/96 [==============================] - 23s 238ms/step - loss: 0.6934 - accuracy: 0.4917 - val_loss: 0.6922 - val_accuracy: 0.5279\n",
            "\n",
            "Epoch 8: Learning rate set to 0.0009999999310821295\n",
            "Epoch 8/30\n",
            "96/96 [==============================] - 20s 210ms/step - loss: 0.6931 - accuracy: 0.4943 - val_loss: 0.6926 - val_accuracy: 0.5337\n",
            "\n",
            "Epoch 9: Learning rate set to 0.0009999999310821295\n",
            "Epoch 9/30\n",
            "96/96 [==============================] - 22s 225ms/step - loss: 0.6930 - accuracy: 0.5272 - val_loss: 0.6929 - val_accuracy: 0.6481\n",
            "\n",
            "Epoch 10: Learning rate set to 0.0009999999310821295\n",
            "Epoch 10/30\n",
            "96/96 [==============================] - 20s 211ms/step - loss: 0.6929 - accuracy: 0.5207 - val_loss: 0.6932 - val_accuracy: 0.4633\n",
            "\n",
            "Epoch 11: Learning rate set to 9.999999310821295e-05\n",
            "Epoch 11/30\n",
            "96/96 [==============================] - 22s 226ms/step - loss: 0.6928 - accuracy: 0.5044 - val_loss: 0.6932 - val_accuracy: 0.4663\n",
            "\n",
            "Epoch 12: Learning rate set to 9.99999901978299e-05\n",
            "Epoch 12/30\n",
            "96/96 [==============================] - 22s 226ms/step - loss: 0.6928 - accuracy: 0.5057 - val_loss: 0.6932 - val_accuracy: 0.4663\n",
            "\n",
            "Epoch 13: Learning rate set to 9.99999901978299e-05\n",
            "Epoch 13/30\n",
            "96/96 [==============================] - 23s 245ms/step - loss: 0.6928 - accuracy: 0.5057 - val_loss: 0.6933 - val_accuracy: 0.4663\n",
            "\n",
            "Epoch 14: Learning rate set to 9.99999901978299e-05\n",
            "Epoch 14/30\n",
            "96/96 [==============================] - 21s 217ms/step - loss: 0.6927 - accuracy: 0.5067 - val_loss: 0.6933 - val_accuracy: 0.4692\n",
            "\n",
            "Epoch 15: Learning rate set to 9.99999901978299e-05\n",
            "Epoch 15/30\n",
            "96/96 [==============================] - 22s 229ms/step - loss: 0.6927 - accuracy: 0.5067 - val_loss: 0.6933 - val_accuracy: 0.4692\n",
            "\n",
            "Epoch 16: Learning rate set to 9.999999019782991e-06\n",
            "Epoch 16/30\n",
            "96/96 [==============================] - 23s 236ms/step - loss: 0.6927 - accuracy: 0.5070 - val_loss: 0.6933 - val_accuracy: 0.4692\n",
            "\n",
            "Epoch 17: Learning rate set to 9.99999883788405e-06\n",
            "Epoch 17/30\n",
            "96/96 [==============================] - 21s 214ms/step - loss: 0.6927 - accuracy: 0.5070 - val_loss: 0.6933 - val_accuracy: 0.4692\n",
            "\n",
            "Epoch 18: Learning rate set to 9.99999883788405e-06\n",
            "Epoch 18/30\n",
            "96/96 [==============================] - 22s 227ms/step - loss: 0.6927 - accuracy: 0.5070 - val_loss: 0.6933 - val_accuracy: 0.4692\n",
            "\n",
            "Epoch 19: Learning rate set to 9.99999883788405e-06\n",
            "Epoch 19/30\n",
            "96/96 [==============================] - 21s 214ms/step - loss: 0.6927 - accuracy: 0.5070 - val_loss: 0.6933 - val_accuracy: 0.4692\n",
            "\n",
            "Epoch 20: Learning rate set to 9.99999883788405e-06\n",
            "Epoch 20/30\n",
            "96/96 [==============================] - 22s 227ms/step - loss: 0.6927 - accuracy: 0.5070 - val_loss: 0.6933 - val_accuracy: 0.4692\n",
            "\n",
            "Epoch 21: Learning rate set to 9.99999883788405e-07\n",
            "Epoch 21/30\n",
            "96/96 [==============================] - 22s 226ms/step - loss: 0.6927 - accuracy: 0.5070 - val_loss: 0.6933 - val_accuracy: 0.4692\n",
            "\n",
            "Epoch 22: Learning rate set to 9.99999883788405e-07\n",
            "Epoch 22/30\n",
            "96/96 [==============================] - 20s 213ms/step - loss: 0.6927 - accuracy: 0.5070 - val_loss: 0.6933 - val_accuracy: 0.4692\n",
            "\n",
            "Epoch 23: Learning rate set to 9.99999883788405e-07\n",
            "Epoch 23/30\n",
            "96/96 [==============================] - 22s 226ms/step - loss: 0.6927 - accuracy: 0.5070 - val_loss: 0.6933 - val_accuracy: 0.4692\n",
            "\n",
            "Epoch 24: Learning rate set to 9.99999883788405e-07\n",
            "Epoch 24/30\n",
            "96/96 [==============================] - 20s 210ms/step - loss: 0.6927 - accuracy: 0.5070 - val_loss: 0.6933 - val_accuracy: 0.4692\n",
            "\n",
            "Epoch 25: Learning rate set to 9.99999883788405e-07\n",
            "Epoch 25/30\n",
            "96/96 [==============================] - 21s 223ms/step - loss: 0.6927 - accuracy: 0.5070 - val_loss: 0.6933 - val_accuracy: 0.4692\n",
            "\n",
            "Epoch 26: Learning rate set to 9.99999883788405e-08\n",
            "Epoch 26/30\n",
            "96/96 [==============================] - 22s 226ms/step - loss: 0.6927 - accuracy: 0.5070 - val_loss: 0.6933 - val_accuracy: 0.4692\n",
            "\n",
            "Epoch 27: Learning rate set to 9.999998695775503e-08\n",
            "Epoch 27/30\n",
            "96/96 [==============================] - 20s 210ms/step - loss: 0.6927 - accuracy: 0.5070 - val_loss: 0.6933 - val_accuracy: 0.4692\n",
            "\n",
            "Epoch 28: Learning rate set to 9.999998695775503e-08\n",
            "Epoch 28/30\n",
            "96/96 [==============================] - 23s 239ms/step - loss: 0.6927 - accuracy: 0.5070 - val_loss: 0.6933 - val_accuracy: 0.4692\n",
            "\n",
            "Epoch 29: Learning rate set to 9.999998695775503e-08\n",
            "Epoch 29/30\n",
            "96/96 [==============================] - 20s 213ms/step - loss: 0.6927 - accuracy: 0.5070 - val_loss: 0.6933 - val_accuracy: 0.4692\n",
            "\n",
            "Epoch 30: Learning rate set to 9.999998695775503e-08\n",
            "Epoch 30/30\n",
            "96/96 [==============================] - 22s 227ms/step - loss: 0.6927 - accuracy: 0.5070 - val_loss: 0.6933 - val_accuracy: 0.4692\n"
          ]
        }
      ]
    }
  ],
  "metadata": {
    "colab": {
      "provenance": []
    },
    "kernelspec": {
      "display_name": "Python 3.10.7 64-bit",
      "language": "python",
      "name": "python3"
    },
    "language_info": {
      "codemirror_mode": {
        "name": "ipython",
        "version": 3
      },
      "file_extension": ".py",
      "mimetype": "text/x-python",
      "name": "python",
      "nbconvert_exporter": "python",
      "pygments_lexer": "ipython3",
      "version": "3.10.7"
    },
    "vscode": {
      "interpreter": {
        "hash": "bed3b92dedaca74de8f0a13833bbbd67bbdaaa544f0c2aa325c872f95f3ec5b2"
      }
    }
  },
  "nbformat": 4,
  "nbformat_minor": 0
}