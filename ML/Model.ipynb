{
  "cells": [
    {
      "cell_type": "code",
      "execution_count": 34,
      "metadata": {
        "id": "5lR0uvOoiCSs"
      },
      "outputs": [],
      "source": [
        "#Import Library\n",
        "import tensorflow as tf\n",
        "import pandas as pd\n",
        "import matplotlib.pyplot as plt\n",
        "from tensorflow.keras.preprocessing.text import Tokenizer\n",
        "from tensorflow.keras.preprocessing.sequence import pad_sequences\n",
        "import requests\n",
        "import numpy as np\n",
        "from sklearn.preprocessing import LabelEncoder\n",
        "from tensorflow.keras.layers import Embedding, LSTM, Dense, Bidirectional"
      ]
    },
    {
      "cell_type": "code",
      "execution_count": 2,
      "metadata": {
        "id": "rllPSi38iOzC"
      },
      "outputs": [],
      "source": [
        "#global variable\n",
        "NUM_WORDS = 1000\n",
        "OOV_TOKEN = \"<OOV>\"\n",
        "PADDING = 'post'\n",
        "MAXLEN = 120\n",
        "EMBEDDING_DIM = 16"
      ]
    },
    {
      "cell_type": "code",
      "execution_count": 3,
      "metadata": {
        "id": "65qUSIjFiVZ-"
      },
      "outputs": [],
      "source": [
        "#Retrieve DS from Github\n",
        "dataset_link = 'https://raw.githubusercontent.com/Willie29/capstone-C23-PS056/main/ML/Dataset_Combined.csv'\n",
        "response = requests.get(dataset_link)"
      ]
    },
    {
      "cell_type": "code",
      "execution_count": 4,
      "metadata": {
        "colab": {
          "base_uri": "https://localhost:8080/"
        },
        "id": "UpAhfBuqicL_",
        "outputId": "33d60edc-dbee-4ce7-eb64-135c1a4e881c"
      },
      "outputs": [
        {
          "name": "stdout",
          "output_type": "stream",
          "text": [
            "       Label                                              Tweet\n",
            "1177  Non_HS                            hai kamu safe flight ya\n",
            "1625  Non_HS  Indera penciuman mereka sangat tajam dan sensi...\n",
            "2302      HS                  KOK GUE LIAT INI SIH KAMPRET WKWK\n",
            "1007  Non_HS                          selesai nonton dilan bang\n",
            "2545      HS  Cuba la tgk anime ni, Karakai Jozu No Takagi-s...\n",
            "\n",
            "\n",
            "       Label                                              Tweet\n",
            "771   Non_HS                                    aku suka tobeli\n",
            "1520  Non_HS  Anjing tersebut memberikan ciuman pada pemilik...\n",
            "1155  Non_HS       aku wes katam yang kyk gitu disini wkwkkwkww\n",
            "2106      HS  presiden malu bangsa plonga plongo tulah toleh...\n",
            "1428  Non_HS                       Monyet sama panda lucu mana?\n"
          ]
        }
      ],
      "source": [
        "data = pd.read_csv('https://raw.githubusercontent.com/Willie29/capstone-C23-PS056/main/ML/Dataset_Combined.csv')\n",
        "# Identify Unnamed columns\n",
        "unnamed_columns = [col for col in data.columns if 'Unnamed' in col]\n",
        "\n",
        "# Drop Unnamed columns\n",
        "data = data.drop(unnamed_columns, axis=1)\n",
        "#shuffle data\n",
        "data = data.sample(frac=1)\n",
        "\n",
        "print(data.head())\n",
        "print(\"\\n\")\n",
        "print(data.tail())"
      ]
    },
    {
      "cell_type": "code",
      "execution_count": 5,
      "metadata": {
        "colab": {
          "base_uri": "https://localhost:8080/"
        },
        "id": "tqHwNz8Miiz6",
        "outputId": "3246d09a-1323-43eb-9aef-bbaab09c9d7d"
      },
      "outputs": [
        {
          "data": {
            "text/plain": [
              "Label\n",
              "HS        1722\n",
              "Non_HS    1639\n",
              "Name: count, dtype: int64"
            ]
          },
          "execution_count": 5,
          "metadata": {},
          "output_type": "execute_result"
        }
      ],
      "source": [
        "data['Label'].value_counts()"
      ]
    },
    {
      "cell_type": "code",
      "execution_count": 6,
      "metadata": {
        "id": "BIUMesqJjnYU"
      },
      "outputs": [],
      "source": [
        "def parse_data(data):\n",
        "    labels = []\n",
        "    tweets = []\n",
        "    \n",
        "    for _, row in data.iterrows():\n",
        "        cond = (0 if row['Label'] == \"HS\" else 1)\n",
        "        labels.append(cond)\n",
        "        tweets.append(row['Tweet'])\n",
        "            \n",
        "    return labels, tweets\n",
        "\n",
        "# Assuming 'data' is your DataFrame\n",
        "labels, tweets = parse_data(data)"
      ]
    },
    {
      "cell_type": "code",
      "execution_count": 7,
      "metadata": {
        "colab": {
          "base_uri": "https://localhost:8080/"
        },
        "id": "uq6tsGbFjvMZ",
        "outputId": "eeb61817-d707-4ddd-8b6e-721871702ac7"
      },
      "outputs": [
        {
          "name": "stdout",
          "output_type": "stream",
          "text": [
            "Example number in dataset is 3361 examples\n",
            "\n",
            "2nd example:\n",
            "Indera penciuman mereka sangat tajam dan sensitif.\n",
            "\n",
            "Last example:\n",
            "Monyet sama panda lucu mana?\n"
          ]
        }
      ],
      "source": [
        "print(f\"Example number in dataset is {len(tweets)} examples\\n\")\n",
        "\n",
        "print(f\"2nd example:\\n{tweets[1]}\\n\")\n",
        "print(f\"Last example:\\n{tweets[-1]}\")"
      ]
    },
    {
      "cell_type": "code",
      "execution_count": 8,
      "metadata": {
        "id": "szc3TGZBj71A"
      },
      "outputs": [],
      "source": [
        "#90-10 ratio train-test\n",
        "def train_test_split(labels,tweets):\n",
        "    train_size = int(len(tweets) * 0.9)\n",
        "\n",
        "    train_labels = labels[:train_size]\n",
        "    train_tweets = tweets[:train_size]\n",
        "\n",
        "    test_labels = labels[train_size:]\n",
        "    test_tweets = tweets[train_size:]\n",
        "    \n",
        "    return train_labels, train_tweets, test_labels, test_tweets"
      ]
    },
    {
      "cell_type": "code",
      "execution_count": 9,
      "metadata": {
        "colab": {
          "base_uri": "https://localhost:8080/"
        },
        "id": "GSLA9EVIj-M_",
        "outputId": "e8dd34bf-7893-4791-9169-2241b26138cd"
      },
      "outputs": [
        {
          "name": "stdout",
          "output_type": "stream",
          "text": [
            " 3024 sentences for training.\n",
            " 3024 labels for training.\n",
            " 337 sentences for validation.\n",
            " 337 labels for validation.\n"
          ]
        }
      ],
      "source": [
        "train_labels, train_tweets, test_labels, test_tweets = train_test_split(labels, tweets)\n",
        "\n",
        "print(f\" {len(train_labels)} sentences for training.\")\n",
        "print(f\" {len(train_tweets)} labels for training.\")\n",
        "print(f\" {len(test_labels)} sentences for validation.\")\n",
        "print(f\" {len(test_tweets)} labels for validation.\")"
      ]
    },
    {
      "cell_type": "code",
      "execution_count": 10,
      "metadata": {
        "colab": {
          "base_uri": "https://localhost:8080/"
        },
        "id": "ZhGc3XwgkJpO",
        "outputId": "0b7dff00-1fa1-4325-9b4c-074b22d8642c"
      },
      "outputs": [
        {
          "name": "stdout",
          "output_type": "stream",
          "text": [
            "['hai kamu safe flight ya', 'Indera penciuman mereka sangat tajam dan sensitif.', 'KOK GUE LIAT INI SIH KAMPRET WKWK']\n",
            "[1, 1, 0]\n",
            "['mfs folowan rt ja ntar aku folow follback tpi', 'bersusah susah dahulu bersenang senang kemudian kau kaya dulu aku kaya kemudian', 'aku nk walk in ajelah senang']\n",
            "[1, 1, 1]\n"
          ]
        }
      ],
      "source": [
        "print(train_tweets[:3])\n",
        "print(train_labels[:3])\n",
        "print(test_tweets[:3])\n",
        "print(test_labels[:3])"
      ]
    },
    {
      "cell_type": "code",
      "execution_count": 11,
      "metadata": {
        "id": "bWXZGhsYkL48"
      },
      "outputs": [],
      "source": [
        "#tokenizer function\n",
        "def fit_tokenizer(train_sentences, num_words, oov_token):\n",
        "    tokenizer = Tokenizer(num_words = num_words, oov_token = oov_token)\n",
        "    tokenizer.fit_on_texts(train_sentences)\n",
        "    return tokenizer"
      ]
    },
    {
      "cell_type": "code",
      "execution_count": 12,
      "metadata": {
        "id": "iFo41zctkRiu"
      },
      "outputs": [],
      "source": [
        "#buat test doang\n",
        "def lowercase(list_sentence):\n",
        "    lower_sentence = list_sentence\n",
        "    for i in range(len(list_sentence)):\n",
        "        lower_sentence[i] = lower_sentence[i].lower()\n",
        "    return lower_sentence"
      ]
    },
    {
      "cell_type": "code",
      "execution_count": 13,
      "metadata": {
        "colab": {
          "base_uri": "https://localhost:8080/"
        },
        "id": "yK4DKQfkkZpw",
        "outputId": "3afa2d7b-d973-4c06-d95f-5233995bafd6"
      },
      "outputs": [
        {
          "name": "stdout",
          "output_type": "stream",
          "text": [
            "Vocabulary contains 8375 words\n",
            "\n",
            "<OOV> token included in vocabulary\n"
          ]
        }
      ],
      "source": [
        "#tokenize sentence\n",
        "#test_tweets1 = test_tweets[0].lower()\n",
        "#test_tweets1 = test_tweets1.lower()\n",
        "lower_train_tweets = lowercase(train_tweets)\n",
        "tokenizer = fit_tokenizer(lower_train_tweets, NUM_WORDS, OOV_TOKEN)\n",
        "word_index = tokenizer.word_index\n",
        "print(f\"Vocabulary contains {len(word_index)} words\\n\")\n",
        "print(\"<OOV> token included in vocabulary\" if \"<OOV>\" in word_index else \"<OOV> token NOT included in vocabulary\")"
      ]
    },
    {
      "cell_type": "code",
      "execution_count": 14,
      "metadata": {
        "id": "SvbQ_erJkghY"
      },
      "outputs": [],
      "source": [
        "#seq and padding function\n",
        "def seq_and_pad(sentences, tokenizer, padding, maxlen):\n",
        "    sequences = tokenizer.texts_to_sequences(sentences)\n",
        "    padded_sequences = pad_sequences(sequences, maxlen = maxlen, padding = padding)\n",
        "    return padded_sequences"
      ]
    },
    {
      "cell_type": "code",
      "execution_count": 15,
      "metadata": {
        "colab": {
          "base_uri": "https://localhost:8080/"
        },
        "id": "WXcSFp26kkbq",
        "outputId": "747f9917-cb11-4e44-e0cf-b2b82b3c4cd1"
      },
      "outputs": [
        {
          "name": "stdout",
          "output_type": "stream",
          "text": [
            "Padded training sequences have shape: (3024, 120)\n",
            "\n",
            "Padded validation sequences have shape: (337, 120)\n"
          ]
        }
      ],
      "source": [
        "#seq and padding sentence\n",
        "lower_val_tweets = lowercase(test_tweets)\n",
        "train_padded_seq = seq_and_pad(lower_train_tweets, tokenizer, PADDING, MAXLEN)\n",
        "val_padded_seq = seq_and_pad(lower_val_tweets, tokenizer, PADDING, MAXLEN)\n",
        "print(f\"Padded training sequences have shape: {train_padded_seq.shape}\\n\")\n",
        "print(f\"Padded validation sequences have shape: {val_padded_seq.shape}\")"
      ]
    },
    {
      "cell_type": "code",
      "execution_count": 16,
      "metadata": {
        "id": "o4GpRdLukpfJ"
      },
      "outputs": [],
      "source": [
        "#Model Structure\n",
        "model = tf.keras.Sequential([\n",
        "    tf.keras.layers.Embedding(NUM_WORDS, EMBEDDING_DIM, input_length = MAXLEN),\n",
        "    tf.keras.layers.GlobalAveragePooling1D(),\n",
        "    tf.keras.layers.Dense(units = 32, activation= 'relu'),\n",
        "    tf.keras.layers.Dense(units = 2, activation='softmax')\n",
        "])"
      ]
    },
    {
      "cell_type": "code",
      "execution_count": 17,
      "metadata": {
        "colab": {
          "base_uri": "https://localhost:8080/"
        },
        "id": "6GpqsSc1kvXu",
        "outputId": "e9922615-03ce-4a95-ba02-1566f98bd8d9"
      },
      "outputs": [
        {
          "name": "stdout",
          "output_type": "stream",
          "text": [
            "<class 'list'>\n"
          ]
        }
      ],
      "source": [
        "print(type(test_labels))"
      ]
    },
    {
      "cell_type": "code",
      "execution_count": 18,
      "metadata": {
        "colab": {
          "base_uri": "https://localhost:8080/"
        },
        "id": "pE0_1Cynky9o",
        "outputId": "9a13109c-92cf-49a0-a3db-f1cb6f7ae69b"
      },
      "outputs": [
        {
          "name": "stdout",
          "output_type": "stream",
          "text": [
            "<class 'numpy.ndarray'>\n",
            "<class 'numpy.ndarray'>\n",
            "<class 'numpy.ndarray'>\n",
            "<class 'list'>\n",
            "\n",
            "\n",
            "[[498   6   1 ...   0   0   0]\n",
            " [  1   1  41 ...   0   0   0]\n",
            " [ 75  42 173 ...   0   0   0]\n",
            " ...\n",
            " [  4  76  47 ...   0   0   0]\n",
            " [498  12  12 ...   0   0   0]\n",
            " [164 301   1 ...   0   0   0]]\n",
            "\n",
            "\n",
            "[[  1   1 597 ...   0   0   0]\n",
            " [  1 336   1 ...   0   0   0]\n",
            " [  2 777   1 ...   0   0   0]\n",
            " ...\n",
            " [  2   1   1 ...   0   0   0]\n",
            " [149 182 445 ...   0   0   0]\n",
            " [ 39  18   1 ...   0   0   0]]\n",
            "[1 1 1 0 1 1 1 1 1 0]\n"
          ]
        }
      ],
      "source": [
        "test_labels_changed = np.array(test_labels)\n",
        "print(type(test_labels_changed))\n",
        "print(type(train_padded_seq))\n",
        "print(type(val_padded_seq))\n",
        "print(type(train_labels))\n",
        "print(\"\\n\")\n",
        "print(train_padded_seq)\n",
        "print(\"\\n\")\n",
        "print(val_padded_seq)\n",
        "print(test_labels_changed[:10])"
      ]
    },
    {
      "cell_type": "code",
      "execution_count": 19,
      "metadata": {
        "colab": {
          "base_uri": "https://localhost:8080/"
        },
        "id": "ablMChEqmbiR",
        "outputId": "67579d37-8b90-4622-bc5b-adaff8f049ee"
      },
      "outputs": [
        {
          "name": "stdout",
          "output_type": "stream",
          "text": [
            "[1 1 0 ... 0 1 0]\n"
          ]
        }
      ],
      "source": [
        "train_labels_changed = np.array(train_labels)\n",
        "print(train_labels_changed)"
      ]
    },
    {
      "cell_type": "code",
      "execution_count": 20,
      "metadata": {
        "id": "bCkmTQVjqm91"
      },
      "outputs": [],
      "source": [
        "# Menggunakan LabelEncoder untuk mengubah label menjadi bilangan bulat\n",
        "label_encoder = LabelEncoder()\n",
        "train_labels_encoded = label_encoder.fit_transform(train_labels_changed)\n",
        "test_labels_encoded = label_encoder.transform(test_labels_changed)\n",
        "\n",
        "# Mengubah label menjadi one-hot encoded\n",
        "num_classes = len(label_encoder.classes_)\n",
        "train_labels_one_hot = tf.keras.utils.to_categorical(train_labels_encoded, num_classes=num_classes)\n",
        "test_labels_one_hot = tf.keras.utils.to_categorical(test_labels_encoded, num_classes=num_classes)"
      ]
    },
    {
      "cell_type": "code",
      "execution_count": 21,
      "metadata": {
        "colab": {
          "base_uri": "https://localhost:8080/"
        },
        "id": "pQBWa9AjxjKg",
        "outputId": "ff3fe024-81ed-4bc2-9d1a-d8fc3c75d6df"
      },
      "outputs": [
        {
          "name": "stdout",
          "output_type": "stream",
          "text": [
            "[1 1 0 ... 0 1 0]\n",
            "\n",
            "\n",
            "[1 1 1 0 1 1 1 1 1 0 1 0 1 1 1 0 1 1 1 1 1 0 0 0 1 1 1 1 1 0 1 0 0 0 1 0 0\n",
            " 1 0 0 1 1 1 1 1 0 1 1 1 1 1 0 1 0 0 1 1 0 0 1 1 1 1 0 0 0 0 0 1 0 0 1 1 0\n",
            " 0 1 0 0 0 1 1 0 1 1 1 1 1 0 0 1 0 0 1 1 0 1 0 0 0 0 0 1 0 0 0 0 0 0 0 0 0\n",
            " 0 1 1 1 1 0 0 1 1 1 0 0 1 1 0 1 1 0 1 1 0 0 1 1 0 1 1 0 0 0 0 0 1 0 1 1 1\n",
            " 0 0 1 1 0 0 1 1 1 0 1 0 0 1 0 1 0 0 1 0 1 0 0 0 0 0 0 1 0 1 0 1 1 1 0 1 1\n",
            " 1 0 0 1 0 1 0 1 1 1 1 1 1 1 0 1 0 1 0 1 1 1 1 0 1 0 0 1 1 1 1 0 0 1 0 1 0\n",
            " 0 0 0 0 1 0 1 0 0 1 0 0 0 0 1 0 0 0 0 0 1 1 1 1 1 1 0 1 0 0 1 1 0 0 1 0 1\n",
            " 1 0 1 0 0 1 1 1 0 0 1 1 1 1 0 0 1 0 1 1 1 0 0 0 1 1 1 0 1 0 0 1 0 1 0 0 0\n",
            " 1 0 0 1 0 1 1 1 0 1 1 0 1 0 0 1 1 0 1 1 0 1 1 1 0 1 1 1 1 1 0 0 0 0 0 0 1\n",
            " 1 1 0 1]\n",
            "\n",
            "\n",
            "[[0. 1.]\n",
            " [0. 1.]\n",
            " [1. 0.]\n",
            " ...\n",
            " [1. 0.]\n",
            " [0. 1.]\n",
            " [1. 0.]]\n",
            "\n",
            "\n",
            "[[0. 1.]\n",
            " [0. 1.]\n",
            " [0. 1.]\n",
            " [1. 0.]\n",
            " [0. 1.]\n",
            " [0. 1.]\n",
            " [0. 1.]\n",
            " [0. 1.]\n",
            " [0. 1.]\n",
            " [1. 0.]\n",
            " [0. 1.]\n",
            " [1. 0.]\n",
            " [0. 1.]\n",
            " [0. 1.]\n",
            " [0. 1.]\n",
            " [1. 0.]\n",
            " [0. 1.]\n",
            " [0. 1.]\n",
            " [0. 1.]\n",
            " [0. 1.]\n",
            " [0. 1.]\n",
            " [1. 0.]\n",
            " [1. 0.]\n",
            " [1. 0.]\n",
            " [0. 1.]\n",
            " [0. 1.]\n",
            " [0. 1.]\n",
            " [0. 1.]\n",
            " [0. 1.]\n",
            " [1. 0.]\n",
            " [0. 1.]\n",
            " [1. 0.]\n",
            " [1. 0.]\n",
            " [1. 0.]\n",
            " [0. 1.]\n",
            " [1. 0.]\n",
            " [1. 0.]\n",
            " [0. 1.]\n",
            " [1. 0.]\n",
            " [1. 0.]\n",
            " [0. 1.]\n",
            " [0. 1.]\n",
            " [0. 1.]\n",
            " [0. 1.]\n",
            " [0. 1.]\n",
            " [1. 0.]\n",
            " [0. 1.]\n",
            " [0. 1.]\n",
            " [0. 1.]\n",
            " [0. 1.]\n",
            " [0. 1.]\n",
            " [1. 0.]\n",
            " [0. 1.]\n",
            " [1. 0.]\n",
            " [1. 0.]\n",
            " [0. 1.]\n",
            " [0. 1.]\n",
            " [1. 0.]\n",
            " [1. 0.]\n",
            " [0. 1.]\n",
            " [0. 1.]\n",
            " [0. 1.]\n",
            " [0. 1.]\n",
            " [1. 0.]\n",
            " [1. 0.]\n",
            " [1. 0.]\n",
            " [1. 0.]\n",
            " [1. 0.]\n",
            " [0. 1.]\n",
            " [1. 0.]\n",
            " [1. 0.]\n",
            " [0. 1.]\n",
            " [0. 1.]\n",
            " [1. 0.]\n",
            " [1. 0.]\n",
            " [0. 1.]\n",
            " [1. 0.]\n",
            " [1. 0.]\n",
            " [1. 0.]\n",
            " [0. 1.]\n",
            " [0. 1.]\n",
            " [1. 0.]\n",
            " [0. 1.]\n",
            " [0. 1.]\n",
            " [0. 1.]\n",
            " [0. 1.]\n",
            " [0. 1.]\n",
            " [1. 0.]\n",
            " [1. 0.]\n",
            " [0. 1.]\n",
            " [1. 0.]\n",
            " [1. 0.]\n",
            " [0. 1.]\n",
            " [0. 1.]\n",
            " [1. 0.]\n",
            " [0. 1.]\n",
            " [1. 0.]\n",
            " [1. 0.]\n",
            " [1. 0.]\n",
            " [1. 0.]\n",
            " [1. 0.]\n",
            " [0. 1.]\n",
            " [1. 0.]\n",
            " [1. 0.]\n",
            " [1. 0.]\n",
            " [1. 0.]\n",
            " [1. 0.]\n",
            " [1. 0.]\n",
            " [1. 0.]\n",
            " [1. 0.]\n",
            " [1. 0.]\n",
            " [1. 0.]\n",
            " [0. 1.]\n",
            " [0. 1.]\n",
            " [0. 1.]\n",
            " [0. 1.]\n",
            " [1. 0.]\n",
            " [1. 0.]\n",
            " [0. 1.]\n",
            " [0. 1.]\n",
            " [0. 1.]\n",
            " [1. 0.]\n",
            " [1. 0.]\n",
            " [0. 1.]\n",
            " [0. 1.]\n",
            " [1. 0.]\n",
            " [0. 1.]\n",
            " [0. 1.]\n",
            " [1. 0.]\n",
            " [0. 1.]\n",
            " [0. 1.]\n",
            " [1. 0.]\n",
            " [1. 0.]\n",
            " [0. 1.]\n",
            " [0. 1.]\n",
            " [1. 0.]\n",
            " [0. 1.]\n",
            " [0. 1.]\n",
            " [1. 0.]\n",
            " [1. 0.]\n",
            " [1. 0.]\n",
            " [1. 0.]\n",
            " [1. 0.]\n",
            " [0. 1.]\n",
            " [1. 0.]\n",
            " [0. 1.]\n",
            " [0. 1.]\n",
            " [0. 1.]\n",
            " [1. 0.]\n",
            " [1. 0.]\n",
            " [0. 1.]\n",
            " [0. 1.]\n",
            " [1. 0.]\n",
            " [1. 0.]\n",
            " [0. 1.]\n",
            " [0. 1.]\n",
            " [0. 1.]\n",
            " [1. 0.]\n",
            " [0. 1.]\n",
            " [1. 0.]\n",
            " [1. 0.]\n",
            " [0. 1.]\n",
            " [1. 0.]\n",
            " [0. 1.]\n",
            " [1. 0.]\n",
            " [1. 0.]\n",
            " [0. 1.]\n",
            " [1. 0.]\n",
            " [0. 1.]\n",
            " [1. 0.]\n",
            " [1. 0.]\n",
            " [1. 0.]\n",
            " [1. 0.]\n",
            " [1. 0.]\n",
            " [1. 0.]\n",
            " [0. 1.]\n",
            " [1. 0.]\n",
            " [0. 1.]\n",
            " [1. 0.]\n",
            " [0. 1.]\n",
            " [0. 1.]\n",
            " [0. 1.]\n",
            " [1. 0.]\n",
            " [0. 1.]\n",
            " [0. 1.]\n",
            " [0. 1.]\n",
            " [1. 0.]\n",
            " [1. 0.]\n",
            " [0. 1.]\n",
            " [1. 0.]\n",
            " [0. 1.]\n",
            " [1. 0.]\n",
            " [0. 1.]\n",
            " [0. 1.]\n",
            " [0. 1.]\n",
            " [0. 1.]\n",
            " [0. 1.]\n",
            " [0. 1.]\n",
            " [0. 1.]\n",
            " [1. 0.]\n",
            " [0. 1.]\n",
            " [1. 0.]\n",
            " [0. 1.]\n",
            " [1. 0.]\n",
            " [0. 1.]\n",
            " [0. 1.]\n",
            " [0. 1.]\n",
            " [0. 1.]\n",
            " [1. 0.]\n",
            " [0. 1.]\n",
            " [1. 0.]\n",
            " [1. 0.]\n",
            " [0. 1.]\n",
            " [0. 1.]\n",
            " [0. 1.]\n",
            " [0. 1.]\n",
            " [1. 0.]\n",
            " [1. 0.]\n",
            " [0. 1.]\n",
            " [1. 0.]\n",
            " [0. 1.]\n",
            " [1. 0.]\n",
            " [1. 0.]\n",
            " [1. 0.]\n",
            " [1. 0.]\n",
            " [1. 0.]\n",
            " [0. 1.]\n",
            " [1. 0.]\n",
            " [0. 1.]\n",
            " [1. 0.]\n",
            " [1. 0.]\n",
            " [0. 1.]\n",
            " [1. 0.]\n",
            " [1. 0.]\n",
            " [1. 0.]\n",
            " [1. 0.]\n",
            " [0. 1.]\n",
            " [1. 0.]\n",
            " [1. 0.]\n",
            " [1. 0.]\n",
            " [1. 0.]\n",
            " [1. 0.]\n",
            " [0. 1.]\n",
            " [0. 1.]\n",
            " [0. 1.]\n",
            " [0. 1.]\n",
            " [0. 1.]\n",
            " [0. 1.]\n",
            " [1. 0.]\n",
            " [0. 1.]\n",
            " [1. 0.]\n",
            " [1. 0.]\n",
            " [0. 1.]\n",
            " [0. 1.]\n",
            " [1. 0.]\n",
            " [1. 0.]\n",
            " [0. 1.]\n",
            " [1. 0.]\n",
            " [0. 1.]\n",
            " [0. 1.]\n",
            " [1. 0.]\n",
            " [0. 1.]\n",
            " [1. 0.]\n",
            " [1. 0.]\n",
            " [0. 1.]\n",
            " [0. 1.]\n",
            " [0. 1.]\n",
            " [1. 0.]\n",
            " [1. 0.]\n",
            " [0. 1.]\n",
            " [0. 1.]\n",
            " [0. 1.]\n",
            " [0. 1.]\n",
            " [1. 0.]\n",
            " [1. 0.]\n",
            " [0. 1.]\n",
            " [1. 0.]\n",
            " [0. 1.]\n",
            " [0. 1.]\n",
            " [0. 1.]\n",
            " [1. 0.]\n",
            " [1. 0.]\n",
            " [1. 0.]\n",
            " [0. 1.]\n",
            " [0. 1.]\n",
            " [0. 1.]\n",
            " [1. 0.]\n",
            " [0. 1.]\n",
            " [1. 0.]\n",
            " [1. 0.]\n",
            " [0. 1.]\n",
            " [1. 0.]\n",
            " [0. 1.]\n",
            " [1. 0.]\n",
            " [1. 0.]\n",
            " [1. 0.]\n",
            " [0. 1.]\n",
            " [1. 0.]\n",
            " [1. 0.]\n",
            " [0. 1.]\n",
            " [1. 0.]\n",
            " [0. 1.]\n",
            " [0. 1.]\n",
            " [0. 1.]\n",
            " [1. 0.]\n",
            " [0. 1.]\n",
            " [0. 1.]\n",
            " [1. 0.]\n",
            " [0. 1.]\n",
            " [1. 0.]\n",
            " [1. 0.]\n",
            " [0. 1.]\n",
            " [0. 1.]\n",
            " [1. 0.]\n",
            " [0. 1.]\n",
            " [0. 1.]\n",
            " [1. 0.]\n",
            " [0. 1.]\n",
            " [0. 1.]\n",
            " [0. 1.]\n",
            " [1. 0.]\n",
            " [0. 1.]\n",
            " [0. 1.]\n",
            " [0. 1.]\n",
            " [0. 1.]\n",
            " [0. 1.]\n",
            " [1. 0.]\n",
            " [1. 0.]\n",
            " [1. 0.]\n",
            " [1. 0.]\n",
            " [1. 0.]\n",
            " [1. 0.]\n",
            " [0. 1.]\n",
            " [0. 1.]\n",
            " [0. 1.]\n",
            " [1. 0.]\n",
            " [0. 1.]]\n"
          ]
        }
      ],
      "source": [
        "print(train_labels_encoded)\n",
        "print(\"\\n\")\n",
        "print(test_labels_encoded)\n",
        "print(\"\\n\")\n",
        "print(train_labels_one_hot)\n",
        "print(\"\\n\")\n",
        "print(test_labels_one_hot)"
      ]
    },
    {
      "cell_type": "code",
      "execution_count": 29,
      "metadata": {
        "colab": {
          "base_uri": "https://localhost:8080/"
        },
        "id": "CDQB1sGXpJ3m",
        "outputId": "11d60bde-4fc7-4e51-e43d-743cdf25729f"
      },
      "outputs": [
        {
          "name": "stdout",
          "output_type": "stream",
          "text": [
            "Epoch 1/30\n",
            "95/95 [==============================] - 1s 2ms/step - loss: 0.0975 - accuracy: 0.9673 - val_loss: 0.6594 - val_accuracy: 0.8457\n",
            "Epoch 2/30\n",
            "95/95 [==============================] - 0s 1ms/step - loss: 0.0974 - accuracy: 0.9692 - val_loss: 0.7362 - val_accuracy: 0.8338\n",
            "Epoch 3/30\n",
            "95/95 [==============================] - 0s 1ms/step - loss: 0.0932 - accuracy: 0.9679 - val_loss: 0.7086 - val_accuracy: 0.8398\n",
            "Epoch 4/30\n",
            "95/95 [==============================] - 0s 1ms/step - loss: 0.0971 - accuracy: 0.9646 - val_loss: 0.6924 - val_accuracy: 0.8457\n",
            "Epoch 5/30\n",
            "95/95 [==============================] - 0s 1ms/step - loss: 0.0931 - accuracy: 0.9689 - val_loss: 0.6763 - val_accuracy: 0.8398\n",
            "Epoch 6/30\n",
            "95/95 [==============================] - 0s 1ms/step - loss: 0.0940 - accuracy: 0.9686 - val_loss: 0.6829 - val_accuracy: 0.8457\n",
            "Epoch 7/30\n",
            "95/95 [==============================] - 0s 1ms/step - loss: 0.0923 - accuracy: 0.9686 - val_loss: 0.7304 - val_accuracy: 0.8398\n",
            "Epoch 8/30\n",
            "95/95 [==============================] - 0s 1ms/step - loss: 0.0922 - accuracy: 0.9699 - val_loss: 0.7128 - val_accuracy: 0.8398\n",
            "Epoch 9/30\n",
            "95/95 [==============================] - 0s 1ms/step - loss: 0.0866 - accuracy: 0.9716 - val_loss: 0.7488 - val_accuracy: 0.8427\n",
            "Epoch 10/30\n",
            "95/95 [==============================] - 0s 1ms/step - loss: 0.0859 - accuracy: 0.9706 - val_loss: 0.7977 - val_accuracy: 0.8398\n",
            "Epoch 11/30\n",
            "95/95 [==============================] - 0s 1ms/step - loss: 0.0862 - accuracy: 0.9699 - val_loss: 0.7581 - val_accuracy: 0.8427\n",
            "Epoch 12/30\n",
            "95/95 [==============================] - 0s 1ms/step - loss: 0.0836 - accuracy: 0.9739 - val_loss: 0.7474 - val_accuracy: 0.8457\n",
            "Epoch 13/30\n",
            "95/95 [==============================] - 0s 1ms/step - loss: 0.0843 - accuracy: 0.9712 - val_loss: 0.7755 - val_accuracy: 0.8427\n",
            "Epoch 14/30\n",
            "95/95 [==============================] - 0s 1ms/step - loss: 0.0847 - accuracy: 0.9739 - val_loss: 0.7527 - val_accuracy: 0.8309\n",
            "Epoch 15/30\n",
            "95/95 [==============================] - 0s 1ms/step - loss: 0.0806 - accuracy: 0.9742 - val_loss: 0.8021 - val_accuracy: 0.8427\n",
            "Epoch 16/30\n",
            "95/95 [==============================] - 0s 1ms/step - loss: 0.0859 - accuracy: 0.9716 - val_loss: 0.8101 - val_accuracy: 0.8516\n",
            "Epoch 17/30\n",
            "95/95 [==============================] - 0s 1ms/step - loss: 0.0796 - accuracy: 0.9745 - val_loss: 0.7680 - val_accuracy: 0.8309\n",
            "Epoch 18/30\n",
            "95/95 [==============================] - 0s 1ms/step - loss: 0.0818 - accuracy: 0.9735 - val_loss: 0.7744 - val_accuracy: 0.8309\n",
            "Epoch 19/30\n",
            "95/95 [==============================] - 0s 1ms/step - loss: 0.0809 - accuracy: 0.9702 - val_loss: 0.7891 - val_accuracy: 0.8427\n",
            "Epoch 20/30\n",
            "95/95 [==============================] - 0s 1ms/step - loss: 0.0801 - accuracy: 0.9726 - val_loss: 0.7904 - val_accuracy: 0.8338\n",
            "Epoch 21/30\n",
            "95/95 [==============================] - 0s 1ms/step - loss: 0.0768 - accuracy: 0.9752 - val_loss: 0.8494 - val_accuracy: 0.8457\n",
            "Epoch 22/30\n",
            "95/95 [==============================] - 0s 1ms/step - loss: 0.0765 - accuracy: 0.9755 - val_loss: 0.8063 - val_accuracy: 0.8368\n",
            "Epoch 23/30\n",
            "95/95 [==============================] - 0s 1ms/step - loss: 0.0740 - accuracy: 0.9739 - val_loss: 0.8382 - val_accuracy: 0.8427\n",
            "Epoch 24/30\n",
            "95/95 [==============================] - 0s 1ms/step - loss: 0.0775 - accuracy: 0.9716 - val_loss: 0.8239 - val_accuracy: 0.8398\n",
            "Epoch 25/30\n",
            "95/95 [==============================] - 0s 1ms/step - loss: 0.0743 - accuracy: 0.9729 - val_loss: 0.8223 - val_accuracy: 0.8338\n",
            "Epoch 26/30\n",
            "95/95 [==============================] - 0s 1ms/step - loss: 0.0719 - accuracy: 0.9772 - val_loss: 0.8282 - val_accuracy: 0.8338\n",
            "Epoch 27/30\n",
            "95/95 [==============================] - 0s 1ms/step - loss: 0.0711 - accuracy: 0.9778 - val_loss: 0.8352 - val_accuracy: 0.8338\n",
            "Epoch 28/30\n",
            "95/95 [==============================] - 0s 1ms/step - loss: 0.0746 - accuracy: 0.9729 - val_loss: 0.8211 - val_accuracy: 0.8279\n",
            "Epoch 29/30\n",
            "95/95 [==============================] - 0s 1ms/step - loss: 0.0818 - accuracy: 0.9706 - val_loss: 0.8668 - val_accuracy: 0.8457\n",
            "Epoch 30/30\n",
            "95/95 [==============================] - 0s 1ms/step - loss: 0.0732 - accuracy: 0.9749 - val_loss: 0.8920 - val_accuracy: 0.8427\n"
          ]
        }
      ],
      "source": [
        "model.compile(loss='binary_crossentropy',optimizer=tf.keras.optimizers.Adam() ,metrics=['accuracy'])\n",
        "\n",
        "history_1 = model.fit(train_padded_seq, train_labels_one_hot, epochs=30, validation_data=(val_padded_seq, test_labels_one_hot))"
      ]
    },
    {
      "cell_type": "code",
      "execution_count": 30,
      "metadata": {},
      "outputs": [
        {
          "data": {
            "image/png": "[encoded data removed]",
            "text/plain": [
              "<Figure size 640x480 with 1 Axes>"
            ]
          },
          "metadata": {},
          "output_type": "display_data"
        },
        {
          "data": {
            "image/png": "[encoded data removed]",
            "text/plain": [
              "<Figure size 640x480 with 1 Axes>"
            ]
          },
          "metadata": {},
          "output_type": "display_data"
        }
      ],
      "source": [
        "def plot_graphs(history, metric):\n",
        "    plt.plot(history.history[metric])\n",
        "    plt.plot(history.history[f'val_{metric}'])\n",
        "    plt.xlabel(\"Epochs\")\n",
        "    plt.ylabel(metric)\n",
        "    plt.legend([metric, f'val_{metric}'])\n",
        "    plt.show()\n",
        "    \n",
        "plot_graphs(history_1, \"accuracy\")\n",
        "plot_graphs(history_1, \"loss\")"
      ]
    },
    {
      "cell_type": "code",
      "execution_count": 31,
      "metadata": {},
      "outputs": [
        {
          "name": "stdout",
          "output_type": "stream",
          "text": [
            "[HS             ,      non-HS]\n",
            "[[0.94675416 0.05324586]]\n"
          ]
        }
      ],
      "source": [
        "seed_text = \"anjing liar\"\n",
        "# Convert the text into sequences\n",
        "token_list = tokenizer.texts_to_sequences([seed_text])[0]\n",
        "# Pad the sequences\n",
        "token_list = pad_sequences([token_list], maxlen=MAXLEN , padding='pre')\n",
        "# Get the probabilities of predicting a word\n",
        "predicted = model.predict(token_list, verbose=0)\n",
        "print(\"[HS             ,      non-HS]\")\n",
        "print(predicted)"
      ]
    },
    {
      "cell_type": "code",
      "execution_count": 63,
      "metadata": {},
      "outputs": [
        {
          "name": "stdout",
          "output_type": "stream",
          "text": [
            "Epoch 1/30\n",
            "95/95 [==============================] - 10s 62ms/step - loss: 0.6930 - accuracy: 0.5053 - val_loss: 0.6950 - val_accuracy: 0.4748\n",
            "Epoch 2/30\n",
            "95/95 [==============================] - 6s 58ms/step - loss: 0.6629 - accuracy: 0.5813 - val_loss: 0.4928 - val_accuracy: 0.7774\n",
            "Epoch 3/30\n",
            "95/95 [==============================] - 4s 45ms/step - loss: 0.3779 - accuracy: 0.8403 - val_loss: 0.5137 - val_accuracy: 0.7418\n",
            "Epoch 4/30\n",
            "95/95 [==============================] - 6s 65ms/step - loss: 0.3623 - accuracy: 0.8347 - val_loss: 0.4865 - val_accuracy: 0.8131\n",
            "Epoch 5/30\n",
            "95/95 [==============================] - 6s 63ms/step - loss: 0.3701 - accuracy: 0.8261 - val_loss: 0.4356 - val_accuracy: 0.7953\n",
            "Epoch 6/30\n",
            "95/95 [==============================] - 4s 43ms/step - loss: 0.3462 - accuracy: 0.8757 - val_loss: 0.4420 - val_accuracy: 0.8427\n",
            "Epoch 7/30\n",
            "95/95 [==============================] - 4s 46ms/step - loss: 0.3271 - accuracy: 0.8856 - val_loss: 0.4750 - val_accuracy: 0.8338\n",
            "Epoch 8/30\n",
            "95/95 [==============================] - 4s 44ms/step - loss: 0.3292 - accuracy: 0.8896 - val_loss: 0.4939 - val_accuracy: 0.8160\n",
            "Epoch 9/30\n",
            "95/95 [==============================] - 4s 45ms/step - loss: 0.3295 - accuracy: 0.8872 - val_loss: 0.4740 - val_accuracy: 0.8071\n",
            "Epoch 10/30\n",
            "95/95 [==============================] - 4s 45ms/step - loss: 0.3038 - accuracy: 0.9021 - val_loss: 0.4693 - val_accuracy: 0.8309\n",
            "Epoch 11/30\n",
            "95/95 [==============================] - 4s 45ms/step - loss: 0.3091 - accuracy: 0.8882 - val_loss: 0.4764 - val_accuracy: 0.8101\n",
            "Epoch 12/30\n",
            "95/95 [==============================] - 4s 46ms/step - loss: 0.2698 - accuracy: 0.9101 - val_loss: 0.4469 - val_accuracy: 0.8427\n",
            "Epoch 13/30\n",
            "95/95 [==============================] - 4s 44ms/step - loss: 0.2306 - accuracy: 0.9282 - val_loss: 0.4654 - val_accuracy: 0.8338\n",
            "Epoch 14/30\n",
            "95/95 [==============================] - 4s 44ms/step - loss: 0.1992 - accuracy: 0.9411 - val_loss: 0.4638 - val_accuracy: 0.8427\n",
            "Epoch 15/30\n",
            "95/95 [==============================] - 4s 44ms/step - loss: 0.1941 - accuracy: 0.9398 - val_loss: 0.4559 - val_accuracy: 0.8487\n",
            "Epoch 16/30\n",
            "95/95 [==============================] - 4s 45ms/step - loss: 0.1801 - accuracy: 0.9448 - val_loss: 0.4960 - val_accuracy: 0.8457\n",
            "Epoch 17/30\n",
            "95/95 [==============================] - 4s 45ms/step - loss: 0.1750 - accuracy: 0.9478 - val_loss: 0.5027 - val_accuracy: 0.8398\n",
            "Epoch 18/30\n",
            "95/95 [==============================] - 4s 45ms/step - loss: 0.3001 - accuracy: 0.8899 - val_loss: 0.5469 - val_accuracy: 0.7953\n",
            "Epoch 19/30\n",
            "95/95 [==============================] - 4s 47ms/step - loss: 0.2558 - accuracy: 0.9048 - val_loss: 0.5092 - val_accuracy: 0.8309\n",
            "Epoch 20/30\n",
            "95/95 [==============================] - 4s 45ms/step - loss: 0.2015 - accuracy: 0.9296 - val_loss: 0.5440 - val_accuracy: 0.8338\n",
            "Epoch 21/30\n",
            "95/95 [==============================] - 5s 54ms/step - loss: 0.1822 - accuracy: 0.9365 - val_loss: 0.5540 - val_accuracy: 0.7953\n",
            "Epoch 22/30\n",
            "95/95 [==============================] - 6s 64ms/step - loss: 0.1734 - accuracy: 0.9501 - val_loss: 0.4931 - val_accuracy: 0.8487\n",
            "Epoch 23/30\n",
            "95/95 [==============================] - 4s 46ms/step - loss: 0.1453 - accuracy: 0.9610 - val_loss: 0.5201 - val_accuracy: 0.8427\n",
            "Epoch 24/30\n",
            "95/95 [==============================] - 5s 55ms/step - loss: 0.1338 - accuracy: 0.9633 - val_loss: 0.5744 - val_accuracy: 0.8427\n",
            "Epoch 25/30\n",
            "95/95 [==============================] - 6s 67ms/step - loss: 0.1352 - accuracy: 0.9620 - val_loss: 0.4780 - val_accuracy: 0.8487\n",
            "Epoch 26/30\n",
            "95/95 [==============================] - 4s 44ms/step - loss: 0.1253 - accuracy: 0.9669 - val_loss: 0.5444 - val_accuracy: 0.8398\n",
            "Epoch 27/30\n",
            "95/95 [==============================] - 4s 45ms/step - loss: 0.1370 - accuracy: 0.9653 - val_loss: 0.8296 - val_accuracy: 0.7834\n",
            "Epoch 28/30\n",
            "95/95 [==============================] - 4s 44ms/step - loss: 0.2265 - accuracy: 0.9375 - val_loss: 0.5740 - val_accuracy: 0.8220\n",
            "Epoch 29/30\n",
            "95/95 [==============================] - 4s 47ms/step - loss: 0.1489 - accuracy: 0.9557 - val_loss: 0.5532 - val_accuracy: 0.8309\n",
            "Epoch 30/30\n",
            "95/95 [==============================] - 4s 46ms/step - loss: 0.1264 - accuracy: 0.9683 - val_loss: 0.5759 - val_accuracy: 0.8309\n"
          ]
        }
      ],
      "source": [
        "model_LSTM = tf.keras.Sequential([\n",
        "    tf.keras.layers.Embedding(NUM_WORDS, EMBEDDING_DIM, input_length = MAXLEN),\n",
        "    tf.keras.layers.Bidirectional(LSTM(16, return_sequences= True)),\n",
        "    tf.keras.layers.Bidirectional(LSTM(32, return_sequences= True)),\n",
        "    tf.keras.layers.GlobalAveragePooling1D(),\n",
        "    tf.keras.layers.Dense(units = 32, activation= 'relu'),\n",
        "    tf.keras.layers.Dense(units = 2, activation='softmax')\n",
        "])\n",
        "model_LSTM.compile(loss='binary_crossentropy',optimizer=tf.keras.optimizers.Adam() ,metrics=['accuracy'])\n",
        "\n",
        "history_LSTM = model_LSTM.fit(train_padded_seq, train_labels_one_hot, epochs=30, validation_data=(val_padded_seq, test_labels_one_hot))"
      ]
    },
    {
      "cell_type": "code",
      "execution_count": 64,
      "metadata": {},
      "outputs": [
        {
          "data": {
            "image/png": "[encoded data removed]",
            "text/plain": [
              "<Figure size 640x480 with 1 Axes>"
            ]
          },
          "metadata": {},
          "output_type": "display_data"
        },
        {
          "data": {
            "image/png": "[encoded data removed]",
            "text/plain": [
              "<Figure size 640x480 with 1 Axes>"
            ]
          },
          "metadata": {},
          "output_type": "display_data"
        }
      ],
      "source": [
        "plot_graphs(history_LSTM, \"accuracy\")\n",
        "plot_graphs(history_LSTM, \"loss\")"
      ]
    },
    {
      "cell_type": "code",
      "execution_count": 76,
      "metadata": {},
      "outputs": [
        {
          "name": "stdout",
          "output_type": "stream",
          "text": [
            "[HS             ,      non-HS]\n",
            "[[0.99097717 0.00902285]]\n"
          ]
        }
      ],
      "source": [
        "seed_text = \"muka lu kayak anjing\"\n",
        "# Convert the text into sequences\n",
        "token_list = tokenizer.texts_to_sequences([seed_text])[0]\n",
        "# Pad the sequences\n",
        "token_list = pad_sequences([token_list], maxlen=MAXLEN , padding='pre')\n",
        "# Get the probabilities of predicting a word\n",
        "predicted = model_LSTM.predict(token_list, verbose=0)\n",
        "print(\"[HS             ,      non-HS]\")\n",
        "print(predicted)"
      ]
    }
  ],
  "metadata": {
    "colab": {
      "provenance": []
    },
    "kernelspec": {
      "display_name": "Python 3.10.7 64-bit",
      "language": "python",
      "name": "python3"
    },
    "language_info": {
      "codemirror_mode": {
        "name": "ipython",
        "version": 3
      },
      "file_extension": ".py",
      "mimetype": "text/x-python",
      "name": "python",
      "nbconvert_exporter": "python",
      "pygments_lexer": "ipython3",
      "version": "3.10.7"
    },
    "vscode": {
      "interpreter": {
        "hash": "bed3b92dedaca74de8f0a13833bbbd67bbdaaa544f0c2aa325c872f95f3ec5b2"
      }
    }
  },
  "nbformat": 4,
  "nbformat_minor": 0
}
