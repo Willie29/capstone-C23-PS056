{
  "cells": [
    {
      "cell_type": "code",
      "execution_count": 1,
      "metadata": {
        "id": "5lR0uvOoiCSs"
      },
      "outputs": [],
      "source": [
        "#Import Library\n",
        "import tensorflow as tf\n",
        "import pandas as pd\n",
        "import matplotlib.pyplot as plt\n",
        "from tensorflow.keras.preprocessing.text import Tokenizer\n",
        "from tensorflow.keras.preprocessing.sequence import pad_sequences\n",
        "import requests\n",
        "import numpy as np\n",
        "from sklearn.preprocessing import LabelEncoder"
      ]
    },
    {
      "cell_type": "code",
      "execution_count": 2,
      "metadata": {
        "id": "rllPSi38iOzC"
      },
      "outputs": [],
      "source": [
        "#global variable\n",
        "NUM_WORDS = 1000\n",
        "OOV_TOKEN = \"<OOV>\"\n",
        "PADDING = 'post'\n",
        "MAXLEN = 120\n",
        "EMBEDDING_DIM = 16"
      ]
    },
    {
      "cell_type": "code",
      "execution_count": 3,
      "metadata": {
        "id": "65qUSIjFiVZ-"
      },
      "outputs": [],
      "source": [
        "#Retrieve DS from Github\n",
        "dataset_link = 'https://raw.githubusercontent.com/Willie29/capstone-C23-PS056/main/ML/Dataset_Combined.csv'\n",
        "response = requests.get(dataset_link)"
      ]
    },
    {
      "cell_type": "code",
      "execution_count": 4,
      "metadata": {
        "colab": {
          "base_uri": "https://localhost:8080/"
        },
        "id": "UpAhfBuqicL_",
        "outputId": "33d60edc-dbee-4ce7-eb64-135c1a4e881c"
      },
      "outputs": [
        {
          "name": "stdout",
          "output_type": "stream",
          "text": [
            "       Label                                              Tweet\n",
            "1144  Non_HS  mau aku temenin malah nugas yeuuuuuuu wajah st...\n",
            "899   Non_HS                         aku cinta bahasa indonesia\n",
            "270   Non_HS  Alhamdulillah tuntutan jaksa hanya 1 tahun mas...\n",
            "784   Non_HS                      aku balik ngefans lagi wkwkwk\n",
            "1588      HS  Gubraaaaak!!!! Malu liatnya... Untung semalem ...\n",
            "\n",
            "\n",
            "       Label                                              Tweet\n",
            "1028  Non_HS  tapi aku tak rasa aku boleh macam tu so no hah...\n",
            "853   Non_HS  alhamdulilah welcomeeeeeeeeeee kasus ta ku ter...\n",
            "1291  Non_HS  lebih enak kalau langsung ajak ngomong mah beb...\n",
            "397   Non_HS  Pak saya setuju kalo pak jadi gubenur karena k...\n",
            "1741      HS  kangen diktator bodoh antek united state of am...\n"
          ]
        }
      ],
      "source": [
        "data = pd.read_csv('https://raw.githubusercontent.com/Willie29/capstone-C23-PS056/main/ML/Dataset_Combined.csv')\n",
        "# Identify Unnamed columns\n",
        "unnamed_columns = [col for col in data.columns if 'Unnamed' in col]\n",
        "\n",
        "# Drop Unnamed columns\n",
        "data = data.drop(unnamed_columns, axis=1)\n",
        "#shuffle data\n",
        "data = data.sample(frac=1)\n",
        "\n",
        "print(data.head())\n",
        "print(\"\\n\")\n",
        "print(data.tail())"
      ]
    },
    {
      "cell_type": "code",
      "execution_count": 5,
      "metadata": {
        "colab": {
          "base_uri": "https://localhost:8080/"
        },
        "id": "tqHwNz8Miiz6",
        "outputId": "3246d09a-1323-43eb-9aef-bbaab09c9d7d"
      },
      "outputs": [
        {
          "data": {
            "text/plain": [
              "Label\n",
              "Non_HS    1354\n",
              "HS        1354\n",
              "Name: count, dtype: int64"
            ]
          },
          "execution_count": 5,
          "metadata": {},
          "output_type": "execute_result"
        }
      ],
      "source": [
        "data['Label'].value_counts()"
      ]
    },
    {
      "cell_type": "code",
      "execution_count": 9,
      "metadata": {
        "id": "BIUMesqJjnYU"
      },
      "outputs": [],
      "source": [
        "def parse_data(data):\n",
        "    labels = []\n",
        "    tweets = []\n",
        "    \n",
        "    for _, row in data.iterrows():\n",
        "        cond = (0 if row['Label'] == \"HS\" else 1)\n",
        "        labels.append(cond)\n",
        "        tweets.append(row['Tweet'])\n",
        "            \n",
        "    return labels, tweets\n",
        "\n",
        "# Assuming 'data' is your DataFrame\n",
        "labels, tweets = parse_data(data)"
      ]
    },
    {
      "cell_type": "code",
      "execution_count": 10,
      "metadata": {
        "colab": {
          "base_uri": "https://localhost:8080/"
        },
        "id": "uq6tsGbFjvMZ",
        "outputId": "eeb61817-d707-4ddd-8b6e-721871702ac7"
      },
      "outputs": [
        {
          "name": "stdout",
          "output_type": "stream",
          "text": [
            "Example number in dataset is 2708 examples\n",
            "\n",
            "2nd example:\n",
            "aku cinta bahasa indonesia\n",
            "\n",
            "Last example:\n",
            "kangen diktator bodoh antek united state of america bohong rakyat asing rampas sda kaya\n"
          ]
        }
      ],
      "source": [
        "print(f\"Example number in dataset is {len(tweets)} examples\\n\")\n",
        "\n",
        "print(f\"2nd example:\\n{tweets[1]}\\n\")\n",
        "print(f\"Last example:\\n{tweets[-1]}\")"
      ]
    },
    {
      "cell_type": "code",
      "execution_count": 11,
      "metadata": {
        "id": "szc3TGZBj71A"
      },
      "outputs": [],
      "source": [
        "#90-10 ratio train-test\n",
        "def train_test_split(labels,tweets):\n",
        "    train_size = int(len(tweets) * 0.9)\n",
        "\n",
        "    train_labels = labels[:train_size]\n",
        "    train_tweets = tweets[:train_size]\n",
        "\n",
        "    test_labels = labels[train_size:]\n",
        "    test_tweets = tweets[train_size:]\n",
        "    \n",
        "    return train_labels, train_tweets, test_labels, test_tweets"
      ]
    },
    {
      "cell_type": "code",
      "execution_count": 12,
      "metadata": {
        "colab": {
          "base_uri": "https://localhost:8080/"
        },
        "id": "GSLA9EVIj-M_",
        "outputId": "e8dd34bf-7893-4791-9169-2241b26138cd"
      },
      "outputs": [
        {
          "name": "stdout",
          "output_type": "stream",
          "text": [
            " 2437 sentences for training.\n",
            " 2437 labels for training.\n",
            " 271 sentences for validation.\n",
            " 271 labels for validation.\n"
          ]
        }
      ],
      "source": [
        "train_labels, train_tweets, test_labels, test_tweets = train_test_split(labels, tweets)\n",
        "\n",
        "print(f\" {len(train_labels)} sentences for training.\")\n",
        "print(f\" {len(train_tweets)} labels for training.\")\n",
        "print(f\" {len(test_labels)} sentences for validation.\")\n",
        "print(f\" {len(test_tweets)} labels for validation.\")"
      ]
    },
    {
      "cell_type": "code",
      "execution_count": 13,
      "metadata": {
        "colab": {
          "base_uri": "https://localhost:8080/"
        },
        "id": "ZhGc3XwgkJpO",
        "outputId": "0b7dff00-1fa1-4325-9b4c-074b22d8642c"
      },
      "outputs": [
        {
          "name": "stdout",
          "output_type": "stream",
          "text": [
            "['mau aku temenin malah nugas yeuuuuuuu wajah strespun ganteng maleen', 'aku cinta bahasa indonesia', 'Alhamdulillah tuntutan jaksa hanya 1 tahun masa percobaan 2 tahun yang artinya sbnrnya jaksa mengakui kalo Ahok itu tak bersalah']\n",
            "[1, 1, 1]\n",
            "['okay but the bahasa melayu names for our malaysian birds selalu buat aku mudah terhibur contohnya burung berek ber', 'ada juga tipe orang yang segala diceritain mau itu hal lucu sedih kegoblogan kesenengan semuanya diceri', 'biar makin panas alias babi kaaaaau wwkwkwkwjangan becandain mamah gw']\n",
            "[1, 1, 0]\n"
          ]
        }
      ],
      "source": [
        "print(train_tweets[:3])\n",
        "print(train_labels[:3])\n",
        "print(test_tweets[:3])\n",
        "print(test_labels[:3])"
      ]
    },
    {
      "cell_type": "code",
      "execution_count": 14,
      "metadata": {
        "id": "bWXZGhsYkL48"
      },
      "outputs": [],
      "source": [
        "#tokenizer function\n",
        "def fit_tokenizer(train_sentences, num_words, oov_token):\n",
        "    tokenizer = Tokenizer(num_words = num_words, oov_token = oov_token)\n",
        "    tokenizer.fit_on_texts(train_sentences)\n",
        "    return tokenizer"
      ]
    },
    {
      "cell_type": "code",
      "execution_count": 16,
      "metadata": {
        "id": "iFo41zctkRiu"
      },
      "outputs": [],
      "source": [
        "#buat test doang\n",
        "def lowercase(list_sentence):\n",
        "    lower_sentence = list_sentence\n",
        "    for i in range(len(list_sentence)):\n",
        "        lower_sentence[i] = lower_sentence[i].lower()\n",
        "    return lower_sentence"
      ]
    },
    {
      "cell_type": "code",
      "execution_count": 17,
      "metadata": {
        "colab": {
          "base_uri": "https://localhost:8080/"
        },
        "id": "yK4DKQfkkZpw",
        "outputId": "3afa2d7b-d973-4c06-d95f-5233995bafd6"
      },
      "outputs": [
        {
          "name": "stdout",
          "output_type": "stream",
          "text": [
            "Vocabulary contains 7721 words\n",
            "\n",
            "<OOV> token included in vocabulary\n"
          ]
        }
      ],
      "source": [
        "#tokenize sentence\n",
        "#test_tweets1 = test_tweets[0].lower()\n",
        "#test_tweets1 = test_tweets1.lower()\n",
        "lower_train_tweets = lowercase(train_tweets)\n",
        "tokenizer = fit_tokenizer(lower_train_tweets, NUM_WORDS, OOV_TOKEN)\n",
        "word_index = tokenizer.word_index\n",
        "print(f\"Vocabulary contains {len(word_index)} words\\n\")\n",
        "print(\"<OOV> token included in vocabulary\" if \"<OOV>\" in word_index else \"<OOV> token NOT included in vocabulary\")"
      ]
    },
    {
      "cell_type": "code",
      "execution_count": 18,
      "metadata": {
        "id": "SvbQ_erJkghY"
      },
      "outputs": [],
      "source": [
        "#seq and padding function\n",
        "def seq_and_pad(sentences, tokenizer, padding, maxlen):\n",
        "    sequences = tokenizer.texts_to_sequences(sentences)\n",
        "    padded_sequences = pad_sequences(sequences, maxlen = maxlen, padding = padding)\n",
        "    return padded_sequences"
      ]
    },
    {
      "cell_type": "code",
      "execution_count": 19,
      "metadata": {
        "colab": {
          "base_uri": "https://localhost:8080/"
        },
        "id": "WXcSFp26kkbq",
        "outputId": "747f9917-cb11-4e44-e0cf-b2b82b3c4cd1"
      },
      "outputs": [
        {
          "name": "stdout",
          "output_type": "stream",
          "text": [
            "Padded training sequences have shape: (2437, 120)\n",
            "\n",
            "Padded validation sequences have shape: (271, 120)\n"
          ]
        }
      ],
      "source": [
        "#seq and padding sentence\n",
        "lower_val_tweets = lowercase(test_tweets)\n",
        "train_padded_seq = seq_and_pad(lower_train_tweets, tokenizer, PADDING, MAXLEN)\n",
        "val_padded_seq = seq_and_pad(lower_val_tweets, tokenizer, PADDING, MAXLEN)\n",
        "print(f\"Padded training sequences have shape: {train_padded_seq.shape}\\n\")\n",
        "print(f\"Padded validation sequences have shape: {val_padded_seq.shape}\")"
      ]
    },
    {
      "cell_type": "code",
      "execution_count": 24,
      "metadata": {
        "id": "o4GpRdLukpfJ"
      },
      "outputs": [],
      "source": [
        "#Model Structure\n",
        "model = tf.keras.Sequential([\n",
        "    tf.keras.layers.Embedding(NUM_WORDS, EMBEDDING_DIM, input_length = MAXLEN),\n",
        "    tf.keras.layers.GlobalAveragePooling1D(),\n",
        "    tf.keras.layers.Dense(units = 32, activation= 'relu'),\n",
        "    tf.keras.layers.Dense(units = 2, activation='softmax')\n",
        "])"
      ]
    },
    {
      "cell_type": "code",
      "execution_count": 25,
      "metadata": {
        "colab": {
          "base_uri": "https://localhost:8080/"
        },
        "id": "6GpqsSc1kvXu",
        "outputId": "e9922615-03ce-4a95-ba02-1566f98bd8d9"
      },
      "outputs": [
        {
          "name": "stdout",
          "output_type": "stream",
          "text": [
            "<class 'list'>\n"
          ]
        }
      ],
      "source": [
        "print(type(test_labels))"
      ]
    },
    {
      "cell_type": "code",
      "execution_count": 26,
      "metadata": {
        "colab": {
          "base_uri": "https://localhost:8080/"
        },
        "id": "pE0_1Cynky9o",
        "outputId": "9a13109c-92cf-49a0-a3db-f1cb6f7ae69b"
      },
      "outputs": [
        {
          "name": "stdout",
          "output_type": "stream",
          "text": [
            "<class 'numpy.ndarray'>\n",
            "<class 'numpy.ndarray'>\n",
            "<class 'numpy.ndarray'>\n",
            "<class 'list'>\n",
            "\n",
            "\n",
            "[[ 16   2   1 ...   0   0   0]\n",
            " [  2  80 465 ...   0   0   0]\n",
            " [325   1   1 ...   0   0   0]\n",
            " ...\n",
            " [  1   1 265 ...   0   0   0]\n",
            " [  1   1  51 ...   0   0   0]\n",
            " [ 12   1 615 ...   0   0   0]]\n",
            "\n",
            "\n",
            "[[925   1 477 ...   0   0   0]\n",
            " [ 12  35   1 ...   0   0   0]\n",
            " [125 300 835 ...   0   0   0]\n",
            " ...\n",
            " [ 49 313  37 ...   0   0   0]\n",
            " [ 14  38 802 ...   0   0   0]\n",
            " [621   1 255 ...   0   0   0]]\n",
            "[1 1 0 0 0 1 0 0 1 1]\n"
          ]
        }
      ],
      "source": [
        "test_labels_changed = np.array(test_labels)\n",
        "print(type(test_labels_changed))\n",
        "print(type(train_padded_seq))\n",
        "print(type(val_padded_seq))\n",
        "print(type(train_labels))\n",
        "print(\"\\n\")\n",
        "print(train_padded_seq)\n",
        "print(\"\\n\")\n",
        "print(val_padded_seq)\n",
        "print(test_labels_changed[:10])"
      ]
    },
    {
      "cell_type": "code",
      "execution_count": 27,
      "metadata": {
        "colab": {
          "base_uri": "https://localhost:8080/"
        },
        "id": "ablMChEqmbiR",
        "outputId": "67579d37-8b90-4622-bc5b-adaff8f049ee"
      },
      "outputs": [
        {
          "name": "stdout",
          "output_type": "stream",
          "text": [
            "[1 1 1 ... 0 0 0]\n"
          ]
        }
      ],
      "source": [
        "train_labels_changed = np.array(train_labels)\n",
        "print(train_labels_changed)"
      ]
    },
    {
      "cell_type": "code",
      "execution_count": 28,
      "metadata": {
        "id": "bCkmTQVjqm91"
      },
      "outputs": [],
      "source": [
        "# Menggunakan LabelEncoder untuk mengubah label menjadi bilangan bulat\n",
        "label_encoder = LabelEncoder()\n",
        "train_labels_encoded = label_encoder.fit_transform(train_labels_changed)\n",
        "test_labels_encoded = label_encoder.transform(test_labels_changed)\n",
        "\n",
        "# Mengubah label menjadi one-hot encoded\n",
        "num_classes = len(label_encoder.classes_)\n",
        "train_labels_one_hot = tf.keras.utils.to_categorical(train_labels_encoded, num_classes=num_classes)\n",
        "test_labels_one_hot = tf.keras.utils.to_categorical(test_labels_encoded, num_classes=num_classes)"
      ]
    },
    {
      "cell_type": "code",
      "execution_count": 29,
      "metadata": {
        "colab": {
          "base_uri": "https://localhost:8080/"
        },
        "id": "pQBWa9AjxjKg",
        "outputId": "ff3fe024-81ed-4bc2-9d1a-d8fc3c75d6df"
      },
      "outputs": [
        {
          "name": "stdout",
          "output_type": "stream",
          "text": [
            "[1 1 1 ... 0 0 0]\n",
            "\n",
            "\n",
            "[1 1 0 0 0 1 0 0 1 1 0 1 0 1 1 0 1 1 1 1 0 0 0 0 0 0 1 0 1 1 1 0 0 1 1 0 0\n",
            " 1 1 0 1 0 0 1 0 0 0 0 1 1 0 0 1 1 0 1 0 0 1 1 0 0 0 0 1 0 1 1 0 1 1 0 0 1\n",
            " 1 0 0 1 0 0 0 1 0 1 1 1 1 1 0 1 0 1 0 0 1 0 1 0 0 0 0 1 1 0 0 0 1 1 0 0 0\n",
            " 1 1 1 1 0 0 1 0 1 0 0 0 0 1 0 0 1 1 0 1 0 1 1 0 0 1 0 0 0 0 0 0 0 1 1 1 1\n",
            " 0 1 0 0 1 1 1 1 0 0 1 0 1 0 1 0 0 0 0 0 0 1 1 0 1 0 0 1 1 0 0 0 0 1 0 0 1\n",
            " 1 0 1 0 0 0 1 0 0 1 1 0 0 1 1 0 0 0 0 1 0 0 1 1 0 0 0 1 1 0 1 0 0 1 1 1 1\n",
            " 0 1 0 0 0 1 0 1 0 0 0 1 1 0 1 0 1 1 1 0 1 1 0 1 1 1 0 1 1 0 1 1 0 0 0 1 1\n",
            " 0 1 1 1 1 1 0 1 1 1 1 0]\n",
            "\n",
            "\n",
            "[[0. 1.]\n",
            " [0. 1.]\n",
            " [0. 1.]\n",
            " ...\n",
            " [1. 0.]\n",
            " [1. 0.]\n",
            " [1. 0.]]\n",
            "\n",
            "\n",
            "[[0. 1.]\n",
            " [0. 1.]\n",
            " [1. 0.]\n",
            " [1. 0.]\n",
            " [1. 0.]\n",
            " [0. 1.]\n",
            " [1. 0.]\n",
            " [1. 0.]\n",
            " [0. 1.]\n",
            " [0. 1.]\n",
            " [1. 0.]\n",
            " [0. 1.]\n",
            " [1. 0.]\n",
            " [0. 1.]\n",
            " [0. 1.]\n",
            " [1. 0.]\n",
            " [0. 1.]\n",
            " [0. 1.]\n",
            " [0. 1.]\n",
            " [0. 1.]\n",
            " [1. 0.]\n",
            " [1. 0.]\n",
            " [1. 0.]\n",
            " [1. 0.]\n",
            " [1. 0.]\n",
            " [1. 0.]\n",
            " [0. 1.]\n",
            " [1. 0.]\n",
            " [0. 1.]\n",
            " [0. 1.]\n",
            " [0. 1.]\n",
            " [1. 0.]\n",
            " [1. 0.]\n",
            " [0. 1.]\n",
            " [0. 1.]\n",
            " [1. 0.]\n",
            " [1. 0.]\n",
            " [0. 1.]\n",
            " [0. 1.]\n",
            " [1. 0.]\n",
            " [0. 1.]\n",
            " [1. 0.]\n",
            " [1. 0.]\n",
            " [0. 1.]\n",
            " [1. 0.]\n",
            " [1. 0.]\n",
            " [1. 0.]\n",
            " [1. 0.]\n",
            " [0. 1.]\n",
            " [0. 1.]\n",
            " [1. 0.]\n",
            " [1. 0.]\n",
            " [0. 1.]\n",
            " [0. 1.]\n",
            " [1. 0.]\n",
            " [0. 1.]\n",
            " [1. 0.]\n",
            " [1. 0.]\n",
            " [0. 1.]\n",
            " [0. 1.]\n",
            " [1. 0.]\n",
            " [1. 0.]\n",
            " [1. 0.]\n",
            " [1. 0.]\n",
            " [0. 1.]\n",
            " [1. 0.]\n",
            " [0. 1.]\n",
            " [0. 1.]\n",
            " [1. 0.]\n",
            " [0. 1.]\n",
            " [0. 1.]\n",
            " [1. 0.]\n",
            " [1. 0.]\n",
            " [0. 1.]\n",
            " [0. 1.]\n",
            " [1. 0.]\n",
            " [1. 0.]\n",
            " [0. 1.]\n",
            " [1. 0.]\n",
            " [1. 0.]\n",
            " [1. 0.]\n",
            " [0. 1.]\n",
            " [1. 0.]\n",
            " [0. 1.]\n",
            " [0. 1.]\n",
            " [0. 1.]\n",
            " [0. 1.]\n",
            " [0. 1.]\n",
            " [1. 0.]\n",
            " [0. 1.]\n",
            " [1. 0.]\n",
            " [0. 1.]\n",
            " [1. 0.]\n",
            " [1. 0.]\n",
            " [0. 1.]\n",
            " [1. 0.]\n",
            " [0. 1.]\n",
            " [1. 0.]\n",
            " [1. 0.]\n",
            " [1. 0.]\n",
            " [1. 0.]\n",
            " [0. 1.]\n",
            " [0. 1.]\n",
            " [1. 0.]\n",
            " [1. 0.]\n",
            " [1. 0.]\n",
            " [0. 1.]\n",
            " [0. 1.]\n",
            " [1. 0.]\n",
            " [1. 0.]\n",
            " [1. 0.]\n",
            " [0. 1.]\n",
            " [0. 1.]\n",
            " [0. 1.]\n",
            " [0. 1.]\n",
            " [1. 0.]\n",
            " [1. 0.]\n",
            " [0. 1.]\n",
            " [1. 0.]\n",
            " [0. 1.]\n",
            " [1. 0.]\n",
            " [1. 0.]\n",
            " [1. 0.]\n",
            " [1. 0.]\n",
            " [0. 1.]\n",
            " [1. 0.]\n",
            " [1. 0.]\n",
            " [0. 1.]\n",
            " [0. 1.]\n",
            " [1. 0.]\n",
            " [0. 1.]\n",
            " [1. 0.]\n",
            " [0. 1.]\n",
            " [0. 1.]\n",
            " [1. 0.]\n",
            " [1. 0.]\n",
            " [0. 1.]\n",
            " [1. 0.]\n",
            " [1. 0.]\n",
            " [1. 0.]\n",
            " [1. 0.]\n",
            " [1. 0.]\n",
            " [1. 0.]\n",
            " [1. 0.]\n",
            " [0. 1.]\n",
            " [0. 1.]\n",
            " [0. 1.]\n",
            " [0. 1.]\n",
            " [1. 0.]\n",
            " [0. 1.]\n",
            " [1. 0.]\n",
            " [1. 0.]\n",
            " [0. 1.]\n",
            " [0. 1.]\n",
            " [0. 1.]\n",
            " [0. 1.]\n",
            " [1. 0.]\n",
            " [1. 0.]\n",
            " [0. 1.]\n",
            " [1. 0.]\n",
            " [0. 1.]\n",
            " [1. 0.]\n",
            " [0. 1.]\n",
            " [1. 0.]\n",
            " [1. 0.]\n",
            " [1. 0.]\n",
            " [1. 0.]\n",
            " [1. 0.]\n",
            " [1. 0.]\n",
            " [0. 1.]\n",
            " [0. 1.]\n",
            " [1. 0.]\n",
            " [0. 1.]\n",
            " [1. 0.]\n",
            " [1. 0.]\n",
            " [0. 1.]\n",
            " [0. 1.]\n",
            " [1. 0.]\n",
            " [1. 0.]\n",
            " [1. 0.]\n",
            " [1. 0.]\n",
            " [0. 1.]\n",
            " [1. 0.]\n",
            " [1. 0.]\n",
            " [0. 1.]\n",
            " [0. 1.]\n",
            " [1. 0.]\n",
            " [0. 1.]\n",
            " [1. 0.]\n",
            " [1. 0.]\n",
            " [1. 0.]\n",
            " [0. 1.]\n",
            " [1. 0.]\n",
            " [1. 0.]\n",
            " [0. 1.]\n",
            " [0. 1.]\n",
            " [1. 0.]\n",
            " [1. 0.]\n",
            " [0. 1.]\n",
            " [0. 1.]\n",
            " [1. 0.]\n",
            " [1. 0.]\n",
            " [1. 0.]\n",
            " [1. 0.]\n",
            " [0. 1.]\n",
            " [1. 0.]\n",
            " [1. 0.]\n",
            " [0. 1.]\n",
            " [0. 1.]\n",
            " [1. 0.]\n",
            " [1. 0.]\n",
            " [1. 0.]\n",
            " [0. 1.]\n",
            " [0. 1.]\n",
            " [1. 0.]\n",
            " [0. 1.]\n",
            " [1. 0.]\n",
            " [1. 0.]\n",
            " [0. 1.]\n",
            " [0. 1.]\n",
            " [0. 1.]\n",
            " [0. 1.]\n",
            " [1. 0.]\n",
            " [0. 1.]\n",
            " [1. 0.]\n",
            " [1. 0.]\n",
            " [1. 0.]\n",
            " [0. 1.]\n",
            " [1. 0.]\n",
            " [0. 1.]\n",
            " [1. 0.]\n",
            " [1. 0.]\n",
            " [1. 0.]\n",
            " [0. 1.]\n",
            " [0. 1.]\n",
            " [1. 0.]\n",
            " [0. 1.]\n",
            " [1. 0.]\n",
            " [0. 1.]\n",
            " [0. 1.]\n",
            " [0. 1.]\n",
            " [1. 0.]\n",
            " [0. 1.]\n",
            " [0. 1.]\n",
            " [1. 0.]\n",
            " [0. 1.]\n",
            " [0. 1.]\n",
            " [0. 1.]\n",
            " [1. 0.]\n",
            " [0. 1.]\n",
            " [0. 1.]\n",
            " [1. 0.]\n",
            " [0. 1.]\n",
            " [0. 1.]\n",
            " [1. 0.]\n",
            " [1. 0.]\n",
            " [1. 0.]\n",
            " [0. 1.]\n",
            " [0. 1.]\n",
            " [1. 0.]\n",
            " [0. 1.]\n",
            " [0. 1.]\n",
            " [0. 1.]\n",
            " [0. 1.]\n",
            " [0. 1.]\n",
            " [1. 0.]\n",
            " [0. 1.]\n",
            " [0. 1.]\n",
            " [0. 1.]\n",
            " [0. 1.]\n",
            " [1. 0.]]\n"
          ]
        }
      ],
      "source": [
        "print(train_labels_encoded)\n",
        "print(\"\\n\")\n",
        "print(test_labels_encoded)\n",
        "print(\"\\n\")\n",
        "print(train_labels_one_hot)\n",
        "print(\"\\n\")\n",
        "print(test_labels_one_hot)"
      ]
    },
    {
      "cell_type": "code",
      "execution_count": 31,
      "metadata": {
        "colab": {
          "base_uri": "https://localhost:8080/"
        },
        "id": "CDQB1sGXpJ3m",
        "outputId": "11d60bde-4fc7-4e51-e43d-743cdf25729f"
      },
      "outputs": [
        {
          "name": "stdout",
          "output_type": "stream",
          "text": [
            "Epoch 1/30\n",
            "77/77 [==============================] - 1s 3ms/step - loss: 0.6930 - accuracy: 0.5055 - val_loss: 0.6928 - val_accuracy: 0.4797\n",
            "Epoch 2/30\n",
            "77/77 [==============================] - 0s 1ms/step - loss: 0.6916 - accuracy: 0.5540 - val_loss: 0.6913 - val_accuracy: 0.4834\n",
            "Epoch 3/30\n",
            "77/77 [==============================] - 0s 1ms/step - loss: 0.6874 - accuracy: 0.6278 - val_loss: 0.6839 - val_accuracy: 0.7860\n",
            "Epoch 4/30\n",
            "77/77 [==============================] - 0s 1ms/step - loss: 0.6732 - accuracy: 0.7177 - val_loss: 0.6665 - val_accuracy: 0.6421\n",
            "Epoch 5/30\n",
            "77/77 [==============================] - 0s 1ms/step - loss: 0.6371 - accuracy: 0.7821 - val_loss: 0.6232 - val_accuracy: 0.7897\n",
            "Epoch 6/30\n",
            "77/77 [==============================] - 0s 1ms/step - loss: 0.5734 - accuracy: 0.8215 - val_loss: 0.5585 - val_accuracy: 0.7860\n",
            "Epoch 7/30\n",
            "77/77 [==============================] - 0s 1ms/step - loss: 0.5006 - accuracy: 0.8408 - val_loss: 0.5015 - val_accuracy: 0.7934\n",
            "Epoch 8/30\n",
            "77/77 [==============================] - 0s 1ms/step - loss: 0.4349 - accuracy: 0.8601 - val_loss: 0.4619 - val_accuracy: 0.7749\n",
            "Epoch 9/30\n",
            "77/77 [==============================] - 0s 1ms/step - loss: 0.3887 - accuracy: 0.8654 - val_loss: 0.4274 - val_accuracy: 0.8303\n",
            "Epoch 10/30\n",
            "77/77 [==============================] - 0s 1ms/step - loss: 0.3496 - accuracy: 0.8785 - val_loss: 0.4206 - val_accuracy: 0.8192\n",
            "Epoch 11/30\n",
            "77/77 [==============================] - 0s 1ms/step - loss: 0.3294 - accuracy: 0.8798 - val_loss: 0.3921 - val_accuracy: 0.8229\n",
            "Epoch 12/30\n",
            "77/77 [==============================] - 0s 1ms/step - loss: 0.3054 - accuracy: 0.8855 - val_loss: 0.3925 - val_accuracy: 0.8266\n",
            "Epoch 13/30\n",
            "77/77 [==============================] - 0s 1ms/step - loss: 0.2902 - accuracy: 0.8888 - val_loss: 0.3797 - val_accuracy: 0.8229\n",
            "Epoch 14/30\n",
            "77/77 [==============================] - 0s 1ms/step - loss: 0.2714 - accuracy: 0.9023 - val_loss: 0.3733 - val_accuracy: 0.8266\n",
            "Epoch 15/30\n",
            "77/77 [==============================] - 0s 1ms/step - loss: 0.2591 - accuracy: 0.9073 - val_loss: 0.3700 - val_accuracy: 0.8413\n",
            "Epoch 16/30\n",
            "77/77 [==============================] - 0s 1ms/step - loss: 0.2480 - accuracy: 0.9126 - val_loss: 0.3713 - val_accuracy: 0.8229\n",
            "Epoch 17/30\n",
            "77/77 [==============================] - 0s 1ms/step - loss: 0.2376 - accuracy: 0.9183 - val_loss: 0.3708 - val_accuracy: 0.8266\n",
            "Epoch 18/30\n",
            "77/77 [==============================] - 0s 1ms/step - loss: 0.2335 - accuracy: 0.9151 - val_loss: 0.3760 - val_accuracy: 0.8192\n",
            "Epoch 19/30\n",
            "77/77 [==============================] - 0s 1ms/step - loss: 0.2201 - accuracy: 0.9220 - val_loss: 0.3711 - val_accuracy: 0.8266\n",
            "Epoch 20/30\n",
            "77/77 [==============================] - 0s 1ms/step - loss: 0.2134 - accuracy: 0.9241 - val_loss: 0.3812 - val_accuracy: 0.8192\n",
            "Epoch 21/30\n",
            "77/77 [==============================] - 0s 1ms/step - loss: 0.2056 - accuracy: 0.9335 - val_loss: 0.3745 - val_accuracy: 0.8118\n",
            "Epoch 22/30\n",
            "77/77 [==============================] - 0s 1ms/step - loss: 0.1970 - accuracy: 0.9315 - val_loss: 0.3750 - val_accuracy: 0.8155\n",
            "Epoch 23/30\n",
            "77/77 [==============================] - 0s 1ms/step - loss: 0.1927 - accuracy: 0.9274 - val_loss: 0.3770 - val_accuracy: 0.8303\n",
            "Epoch 24/30\n",
            "77/77 [==============================] - 0s 1ms/step - loss: 0.1849 - accuracy: 0.9372 - val_loss: 0.3815 - val_accuracy: 0.8155\n",
            "Epoch 25/30\n",
            "77/77 [==============================] - 0s 1ms/step - loss: 0.1777 - accuracy: 0.9397 - val_loss: 0.3790 - val_accuracy: 0.8155\n",
            "Epoch 26/30\n",
            "77/77 [==============================] - 0s 1ms/step - loss: 0.1735 - accuracy: 0.9426 - val_loss: 0.3855 - val_accuracy: 0.8192\n",
            "Epoch 27/30\n",
            "77/77 [==============================] - 0s 1ms/step - loss: 0.1691 - accuracy: 0.9421 - val_loss: 0.3823 - val_accuracy: 0.8303\n",
            "Epoch 28/30\n",
            "77/77 [==============================] - 0s 1ms/step - loss: 0.1694 - accuracy: 0.9380 - val_loss: 0.3844 - val_accuracy: 0.8303\n",
            "Epoch 29/30\n",
            "77/77 [==============================] - 0s 1ms/step - loss: 0.1602 - accuracy: 0.9467 - val_loss: 0.3866 - val_accuracy: 0.8303\n",
            "Epoch 30/30\n",
            "77/77 [==============================] - 0s 1ms/step - loss: 0.1556 - accuracy: 0.9483 - val_loss: 0.3883 - val_accuracy: 0.8266\n"
          ]
        }
      ],
      "source": [
        "model.compile(loss='binary_crossentropy',optimizer=tf.keras.optimizers.Adam() ,metrics=['accuracy'])\n",
        "\n",
        "history = model.fit(train_padded_seq, train_labels_one_hot, epochs=30, validation_data=(val_padded_seq, test_labels_one_hot))"
      ]
    },
    {
      "cell_type": "code",
      "execution_count": 32,
      "metadata": {},
      "outputs": [
        {
          "data": {
            "image/png": "[encoded data removed]",
            "text/plain": [
              "<Figure size 640x480 with 1 Axes>"
            ]
          },
          "metadata": {},
          "output_type": "display_data"
        },
        {
          "data": {
            "image/png": "[encoded data removed]",
            "text/plain": [
              "<Figure size 640x480 with 1 Axes>"
            ]
          },
          "metadata": {},
          "output_type": "display_data"
        }
      ],
      "source": [
        "def plot_graphs(history, metric):\n",
        "    plt.plot(history.history[metric])\n",
        "    plt.plot(history.history[f'val_{metric}'])\n",
        "    plt.xlabel(\"Epochs\")\n",
        "    plt.ylabel(metric)\n",
        "    plt.legend([metric, f'val_{metric}'])\n",
        "    plt.show()\n",
        "    \n",
        "plot_graphs(history, \"accuracy\")\n",
        "plot_graphs(history, \"loss\")"
      ]
    },
    {
      "cell_type": "code",
      "execution_count": 78,
      "metadata": {},
      "outputs": [
        {
          "name": "stdout",
          "output_type": "stream",
          "text": [
            "[HS             ,      non-HS]\n",
            "[[0.05920303 0.94079703]]\n"
          ]
        }
      ],
      "source": [
        "seed_text = \"saya suka kamu\"\n",
        "# Convert the text into sequences\n",
        "token_list = tokenizer.texts_to_sequences([seed_text])[0]\n",
        "# Pad the sequences\n",
        "token_list = pad_sequences([token_list], maxlen=MAXLEN , padding='pre')\n",
        "# Get the probabilities of predicting a word\n",
        "predicted = model.predict(token_list, verbose=0)\n",
        "print(\"[HS             ,      non-HS]\")\n",
        "print(predicted)"
      ]
    }
  ],
  "metadata": {
    "colab": {
      "provenance": []
    },
    "kernelspec": {
      "display_name": "Python 3.10.7 64-bit",
      "language": "python",
      "name": "python3"
    },
    "language_info": {
      "codemirror_mode": {
        "name": "ipython",
        "version": 3
      },
      "file_extension": ".py",
      "mimetype": "text/x-python",
      "name": "python",
      "nbconvert_exporter": "python",
      "pygments_lexer": "ipython3",
      "version": "3.10.7"
    },
    "vscode": {
      "interpreter": {
        "hash": "bed3b92dedaca74de8f0a13833bbbd67bbdaaa544f0c2aa325c872f95f3ec5b2"
      }
    }
  },
  "nbformat": 4,
  "nbformat_minor": 0
}
