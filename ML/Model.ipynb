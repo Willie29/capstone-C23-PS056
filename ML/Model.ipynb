{
  "cells": [
    {
      "cell_type": "code",
      "execution_count": 1,
      "metadata": {
        "id": "5lR0uvOoiCSs"
      },
      "outputs": [],
      "source": [
        "#Import Library\n",
        "import tensorflow as tf\n",
        "import pandas as pd\n",
        "import matplotlib.pyplot as plt\n",
        "from tensorflow.keras.preprocessing.text import Tokenizer\n",
        "from tensorflow.keras.preprocessing.sequence import pad_sequences\n",
        "import requests\n",
        "import numpy as np\n",
        "from sklearn.preprocessing import LabelEncoder\n",
        "from tensorflow.keras.layers import Embedding, LSTM, Dense, Bidirectional, GRU"
      ]
    },
    {
      "cell_type": "code",
      "execution_count": 2,
      "metadata": {
        "id": "rllPSi38iOzC"
      },
      "outputs": [],
      "source": [
        "#global variable\n",
        "NUM_WORDS = 1000\n",
        "OOV_TOKEN = \"<OOV>\"\n",
        "PADDING = 'post'\n",
        "MAXLEN = 120\n",
        "EMBEDDING_DIM = 16"
      ]
    },
    {
      "cell_type": "code",
      "execution_count": 3,
      "metadata": {
        "id": "65qUSIjFiVZ-"
      },
      "outputs": [],
      "source": [
        "#Retrieve DS from Github\n",
        "dataset_link = 'https://raw.githubusercontent.com/Willie29/capstone-C23-PS056/main/ML/Dataset_Combined.csv'\n",
        "response = requests.get(dataset_link)"
      ]
    },
    {
      "cell_type": "code",
      "execution_count": 4,
      "metadata": {
        "colab": {
          "base_uri": "https://localhost:8080/"
        },
        "id": "UpAhfBuqicL_",
        "outputId": "32542f85-4470-4378-bb17-4af542c87613"
      },
      "outputs": [
        {
          "output_type": "stream",
          "name": "stdout",
          "text": [
            "       Label                                              Tweet\n",
            "1153  Non_HS                   alia dm benda ni kt aku hahahaha\n",
            "3437      HS              eh bangsat ribut yuk sini sama gua !!\n",
            "3105      HS  Sakit di otak sama hatinya itu mah dia. Udah g...\n",
            "74    Non_HS                        nangis nangis ketonjok lagi\n",
            "2051      HS  pokok pulang solo cebur habitat nya kolam bute...\n",
            "\n",
            "\n",
            "       Label                                              Tweet\n",
            "1753  Non_HS  Anjing dapat menjadi pendengar yang baik dan t...\n",
            "1605  Non_HS  Ketika saya pulang, anjing saya dengan riang m...\n",
            "942   Non_HS                    aku meratapi hidup dengan chill\n",
            "3226      HS  demi tuhan lu semua berantem mulu anjing ngapa...\n",
            "784   Non_HS                      aku balik ngefans lagi wkwkwk\n"
          ]
        }
      ],
      "source": [
        "data = pd.read_csv('https://raw.githubusercontent.com/Willie29/capstone-C23-PS056/main/ML/Dataset_Combined.csv')\n",
        "# Identify Unnamed columns\n",
        "unnamed_columns = [col for col in data.columns if 'Unnamed' in col]\n",
        "\n",
        "# Drop Unnamed columns\n",
        "data = data.drop(unnamed_columns, axis=1)\n",
        "#shuffle data\n",
        "data = data.sample(frac=1)\n",
        "\n",
        "print(data.head())\n",
        "print(\"\\n\")\n",
        "print(data.tail())"
      ]
    },
    {
      "cell_type": "code",
      "execution_count": 5,
      "metadata": {
        "colab": {
          "base_uri": "https://localhost:8080/"
        },
        "id": "tqHwNz8Miiz6",
        "outputId": "30083423-2453-400d-ddd5-cefa6c0fd4e0"
      },
      "outputs": [
        {
          "output_type": "execute_result",
          "data": {
            "text/plain": [
              "Non_HS    1789\n",
              "HS        1722\n",
              "Name: Label, dtype: int64"
            ]
          },
          "metadata": {},
          "execution_count": 5
        }
      ],
      "source": [
        "data['Label'].value_counts()"
      ]
    },
    {
      "cell_type": "code",
      "execution_count": 6,
      "metadata": {
        "id": "BIUMesqJjnYU"
      },
      "outputs": [],
      "source": [
        "def parse_data(data):\n",
        "    labels = []\n",
        "    tweets = []\n",
        "\n",
        "    for _, row in data.iterrows():\n",
        "        cond = (0 if row['Label'] == \"HS\" else 1)\n",
        "        labels.append(cond)\n",
        "        tweets.append(row['Tweet'])\n",
        "\n",
        "    return labels, tweets\n",
        "\n",
        "# Assuming 'data' is your DataFrame\n",
        "labels, tweets = parse_data(data)"
      ]
    },
    {
      "cell_type": "code",
      "execution_count": 7,
      "metadata": {
        "colab": {
          "base_uri": "https://localhost:8080/"
        },
        "id": "uq6tsGbFjvMZ",
        "outputId": "b3d825e9-3432-40f6-f0a4-ab4f8a165243"
      },
      "outputs": [
        {
          "output_type": "stream",
          "name": "stdout",
          "text": [
            "Example number in dataset is 3511 examples\n",
            "\n",
            "2nd example:\n",
            "eh bangsat ribut yuk sini sama gua !!\n",
            "\n",
            "Last example:\n",
            "aku balik ngefans lagi wkwkwk\n"
          ]
        }
      ],
      "source": [
        "print(f\"Example number in dataset is {len(tweets)} examples\\n\")\n",
        "\n",
        "print(f\"2nd example:\\n{tweets[1]}\\n\")\n",
        "print(f\"Last example:\\n{tweets[-1]}\")"
      ]
    },
    {
      "cell_type": "code",
      "execution_count": 8,
      "metadata": {
        "id": "szc3TGZBj71A"
      },
      "outputs": [],
      "source": [
        "#90-10 ratio train-test\n",
        "def train_test_split(labels,tweets):\n",
        "    train_size = int(len(tweets) * 0.9)\n",
        "\n",
        "    train_labels = labels[:train_size]\n",
        "    train_tweets = tweets[:train_size]\n",
        "\n",
        "    test_labels = labels[train_size:]\n",
        "    test_tweets = tweets[train_size:]\n",
        "\n",
        "    return train_labels, train_tweets, test_labels, test_tweets"
      ]
    },
    {
      "cell_type": "code",
      "execution_count": 9,
      "metadata": {
        "colab": {
          "base_uri": "https://localhost:8080/"
        },
        "id": "GSLA9EVIj-M_",
        "outputId": "1d7f5c9f-0e2c-41ed-83e7-15300be6677c"
      },
      "outputs": [
        {
          "output_type": "stream",
          "name": "stdout",
          "text": [
            " 3159 sentences for training.\n",
            " 3159 labels for training.\n",
            " 352 sentences for validation.\n",
            " 352 labels for validation.\n"
          ]
        }
      ],
      "source": [
        "train_labels, train_tweets, test_labels, test_tweets = train_test_split(labels, tweets)\n",
        "\n",
        "print(f\" {len(train_labels)} sentences for training.\")\n",
        "print(f\" {len(train_tweets)} labels for training.\")\n",
        "print(f\" {len(test_labels)} sentences for validation.\")\n",
        "print(f\" {len(test_tweets)} labels for validation.\")"
      ]
    },
    {
      "cell_type": "code",
      "execution_count": 10,
      "metadata": {
        "colab": {
          "base_uri": "https://localhost:8080/"
        },
        "id": "ZhGc3XwgkJpO",
        "outputId": "8f571af2-131b-4df4-cebf-73b65984be39"
      },
      "outputs": [
        {
          "output_type": "stream",
          "name": "stdout",
          "text": [
            "['alia dm benda ni kt aku hahahaha', 'eh bangsat ribut yuk sini sama gua !!', 'Sakit di otak sama hatinya itu mah dia. Udah gak ada nurani dan urat malunya. Pajak saya loh yang ngegaji orang2 gila hormat ini']\n",
            "[1, 0, 0]\n",
            "['syahadat allah subhanahu wa taala dungu biadab bangsa rusak fahri', 'sarah gtayang hahahah tersasul panggil sayang hahahahah lawak abang ipar aku ni', 'yang Ahokers, Klo gak seneng ama cuitan gw silahkan unfollow karena gw Anti AHOK (Si Penista Agama Islam)']\n",
            "[0, 1, 0]\n"
          ]
        }
      ],
      "source": [
        "print(train_tweets[:3])\n",
        "print(train_labels[:3])\n",
        "print(test_tweets[:3])\n",
        "print(test_labels[:3])"
      ]
    },
    {
      "cell_type": "code",
      "execution_count": 11,
      "metadata": {
        "id": "bWXZGhsYkL48"
      },
      "outputs": [],
      "source": [
        "#tokenizer function\n",
        "def fit_tokenizer(train_sentences, num_words, oov_token):\n",
        "    tokenizer = Tokenizer(num_words = num_words, oov_token = oov_token)\n",
        "    tokenizer.fit_on_texts(train_sentences)\n",
        "    return tokenizer"
      ]
    },
    {
      "cell_type": "code",
      "execution_count": 12,
      "metadata": {
        "id": "iFo41zctkRiu"
      },
      "outputs": [],
      "source": [
        "#buat test doang\n",
        "def lowercase(list_sentence):\n",
        "    lower_sentence = list_sentence\n",
        "    for i in range(len(list_sentence)):\n",
        "        lower_sentence[i] = lower_sentence[i].lower()\n",
        "    return lower_sentence"
      ]
    },
    {
      "cell_type": "code",
      "execution_count": 13,
      "metadata": {
        "colab": {
          "base_uri": "https://localhost:8080/"
        },
        "id": "yK4DKQfkkZpw",
        "outputId": "5e81741e-1b2a-4c5c-89a1-86f7fc0c582c"
      },
      "outputs": [
        {
          "output_type": "stream",
          "name": "stdout",
          "text": [
            "Vocabulary contains 8559 words\n",
            "\n",
            "<OOV> token included in vocabulary\n"
          ]
        }
      ],
      "source": [
        "#tokenize sentence\n",
        "#test_tweets1 = test_tweets[0].lower()\n",
        "#test_tweets1 = test_tweets1.lower()\n",
        "lower_train_tweets = lowercase(train_tweets)\n",
        "tokenizer = fit_tokenizer(lower_train_tweets, NUM_WORDS, OOV_TOKEN)\n",
        "word_index = tokenizer.word_index\n",
        "print(f\"Vocabulary contains {len(word_index)} words\\n\")\n",
        "print(\"<OOV> token included in vocabulary\" if \"<OOV>\" in word_index else \"<OOV> token NOT included in vocabulary\")"
      ]
    },
    {
      "cell_type": "code",
      "execution_count": 14,
      "metadata": {
        "id": "SvbQ_erJkghY"
      },
      "outputs": [],
      "source": [
        "#seq and padding function\n",
        "def seq_and_pad(sentences, tokenizer, padding, maxlen):\n",
        "    sequences = tokenizer.texts_to_sequences(sentences)\n",
        "    padded_sequences = pad_sequences(sequences, maxlen = maxlen, padding = padding)\n",
        "    return padded_sequences"
      ]
    },
    {
      "cell_type": "code",
      "execution_count": 15,
      "metadata": {
        "colab": {
          "base_uri": "https://localhost:8080/"
        },
        "id": "WXcSFp26kkbq",
        "outputId": "1e487546-36e3-4c49-a05f-14c10ba73855"
      },
      "outputs": [
        {
          "output_type": "stream",
          "name": "stdout",
          "text": [
            "Padded training sequences have shape: (3159, 120)\n",
            "\n",
            "Padded validation sequences have shape: (352, 120)\n"
          ]
        }
      ],
      "source": [
        "#seq and padding sentence\n",
        "lower_val_tweets = lowercase(test_tweets)\n",
        "train_padded_seq = seq_and_pad(lower_train_tweets, tokenizer, PADDING, MAXLEN)\n",
        "val_padded_seq = seq_and_pad(lower_val_tweets, tokenizer, PADDING, MAXLEN)\n",
        "print(f\"Padded training sequences have shape: {train_padded_seq.shape}\\n\")\n",
        "print(f\"Padded validation sequences have shape: {val_padded_seq.shape}\")"
      ]
    },
    {
      "cell_type": "code",
      "execution_count": 16,
      "metadata": {
        "id": "o4GpRdLukpfJ"
      },
      "outputs": [],
      "source": [
        "#Model Structure\n",
        "model = tf.keras.Sequential([\n",
        "    tf.keras.layers.Embedding(NUM_WORDS, EMBEDDING_DIM, input_length = MAXLEN),\n",
        "    tf.keras.layers.GlobalAveragePooling1D(),\n",
        "    tf.keras.layers.Dense(units = 32, activation= 'relu'),\n",
        "    tf.keras.layers.Dense(units = 2, activation='softmax')\n",
        "])"
      ]
    },
    {
      "cell_type": "code",
      "execution_count": 17,
      "metadata": {
        "colab": {
          "base_uri": "https://localhost:8080/"
        },
        "id": "6GpqsSc1kvXu",
        "outputId": "57919ec6-e0cb-42f4-c1d4-bdd803dd2cf7"
      },
      "outputs": [
        {
          "output_type": "stream",
          "name": "stdout",
          "text": [
            "<class 'list'>\n"
          ]
        }
      ],
      "source": [
        "print(type(test_labels))"
      ]
    },
    {
      "cell_type": "code",
      "execution_count": 18,
      "metadata": {
        "colab": {
          "base_uri": "https://localhost:8080/"
        },
        "id": "pE0_1Cynky9o",
        "outputId": "472267d3-ccb9-4eac-b591-7425a86b0dbd"
      },
      "outputs": [
        {
          "output_type": "stream",
          "name": "stdout",
          "text": [
            "<class 'numpy.ndarray'>\n",
            "<class 'numpy.ndarray'>\n",
            "<class 'numpy.ndarray'>\n",
            "<class 'list'>\n",
            "\n",
            "\n",
            "[[  1   1 437 ...   0   0   0]\n",
            " [162  39 469 ...   0   0   0]\n",
            " [185   7 149 ...   0   0   0]\n",
            " ...\n",
            " [269   4 234 ...   0   0   0]\n",
            " [  4  71 150 ...   0   0   0]\n",
            " [ 52 526  26 ...   0   0   0]]\n",
            "\n",
            "\n",
            "[[  1  81   1 ...   0   0   0]\n",
            " [  1   1   1 ...   0   0   0]\n",
            " [  2   1 189 ...   0   0   0]\n",
            " ...\n",
            " [  3   1 104 ...   0   0   0]\n",
            " [331 123  52 ...   0   0   0]\n",
            " [  3 718   1 ...   0   0   0]]\n",
            "[0 1 0 1 1 0 1 0 1 0]\n"
          ]
        }
      ],
      "source": [
        "test_labels_changed = np.array(test_labels)\n",
        "print(type(test_labels_changed))\n",
        "print(type(train_padded_seq))\n",
        "print(type(val_padded_seq))\n",
        "print(type(train_labels))\n",
        "print(\"\\n\")\n",
        "print(train_padded_seq)\n",
        "print(\"\\n\")\n",
        "print(val_padded_seq)\n",
        "print(test_labels_changed[:10])"
      ]
    },
    {
      "cell_type": "code",
      "execution_count": 19,
      "metadata": {
        "colab": {
          "base_uri": "https://localhost:8080/"
        },
        "id": "ablMChEqmbiR",
        "outputId": "f6d61527-b81b-4a4a-8f3d-33932e8d2767"
      },
      "outputs": [
        {
          "output_type": "stream",
          "name": "stdout",
          "text": [
            "[1 0 0 ... 1 0 0]\n"
          ]
        }
      ],
      "source": [
        "train_labels_changed = np.array(train_labels)\n",
        "print(train_labels_changed)"
      ]
    },
    {
      "cell_type": "code",
      "execution_count": 20,
      "metadata": {
        "id": "bCkmTQVjqm91"
      },
      "outputs": [],
      "source": [
        "# Menggunakan LabelEncoder untuk mengubah label menjadi bilangan bulat\n",
        "label_encoder = LabelEncoder()\n",
        "train_labels_encoded = label_encoder.fit_transform(train_labels_changed)\n",
        "test_labels_encoded = label_encoder.transform(test_labels_changed)\n",
        "\n",
        "# Mengubah label menjadi one-hot encoded\n",
        "num_classes = len(label_encoder.classes_)\n",
        "train_labels_one_hot = tf.keras.utils.to_categorical(train_labels_encoded, num_classes=num_classes)\n",
        "test_labels_one_hot = tf.keras.utils.to_categorical(test_labels_encoded, num_classes=num_classes)"
      ]
    },
    {
      "cell_type": "code",
      "execution_count": 21,
      "metadata": {
        "colab": {
          "base_uri": "https://localhost:8080/"
        },
        "id": "pQBWa9AjxjKg",
        "outputId": "eeaf9c83-56f1-49c1-f5c9-6e15de32e90c"
      },
      "outputs": [
        {
          "output_type": "stream",
          "name": "stdout",
          "text": [
            "[1 0 0 ... 1 0 0]\n",
            "\n",
            "\n",
            "[0 1 0 1 1 0 1 0 1 0 0 0 1 1 1 1 1 0 1 1 0 0 1 0 1 1 1 0 1 1 1 1 1 1 1 1 0\n",
            " 0 1 1 1 0 1 1 0 1 1 0 1 1 0 0 0 0 1 1 1 0 1 0 1 0 1 1 1 0 1 0 0 0 1 1 1 0\n",
            " 0 0 0 1 1 0 1 0 1 1 0 1 1 0 0 0 1 0 0 0 1 1 1 1 0 1 1 0 1 1 0 0 1 0 0 0 1\n",
            " 1 1 1 1 1 0 1 1 1 0 1 1 0 0 1 0 1 1 0 0 1 1 1 0 1 0 0 0 1 0 1 1 1 1 0 0 1\n",
            " 1 1 1 1 1 1 0 0 0 1 1 0 0 0 0 0 0 1 1 1 0 1 0 1 0 0 0 1 0 1 1 1 1 0 1 1 0\n",
            " 0 0 0 0 1 0 0 1 1 0 0 0 0 1 1 0 1 0 1 0 1 1 0 0 1 1 1 1 0 1 0 1 1 1 0 0 1\n",
            " 1 0 1 0 0 1 1 0 1 1 1 1 0 1 0 0 1 1 1 1 1 0 0 1 1 0 0 0 1 1 1 0 1 1 1 1 1\n",
            " 1 1 1 1 0 1 0 0 0 1 1 1 0 1 1 1 0 1 1 1 1 1 1 0 1 1 0 0 0 1 0 1 0 1 0 1 0\n",
            " 0 0 1 0 1 0 0 1 1 1 1 0 0 1 0 1 0 0 1 0 0 0 1 1 1 0 0 0 1 0 1 0 1 1 1 0 1\n",
            " 0 1 1 1 1 1 1 0 0 0 0 0 0 1 1 1 1 0 1]\n",
            "\n",
            "\n",
            "[[0. 1.]\n",
            " [1. 0.]\n",
            " [1. 0.]\n",
            " ...\n",
            " [0. 1.]\n",
            " [1. 0.]\n",
            " [1. 0.]]\n",
            "\n",
            "\n",
            "[[1. 0.]\n",
            " [0. 1.]\n",
            " [1. 0.]\n",
            " [0. 1.]\n",
            " [0. 1.]\n",
            " [1. 0.]\n",
            " [0. 1.]\n",
            " [1. 0.]\n",
            " [0. 1.]\n",
            " [1. 0.]\n",
            " [1. 0.]\n",
            " [1. 0.]\n",
            " [0. 1.]\n",
            " [0. 1.]\n",
            " [0. 1.]\n",
            " [0. 1.]\n",
            " [0. 1.]\n",
            " [1. 0.]\n",
            " [0. 1.]\n",
            " [0. 1.]\n",
            " [1. 0.]\n",
            " [1. 0.]\n",
            " [0. 1.]\n",
            " [1. 0.]\n",
            " [0. 1.]\n",
            " [0. 1.]\n",
            " [0. 1.]\n",
            " [1. 0.]\n",
            " [0. 1.]\n",
            " [0. 1.]\n",
            " [0. 1.]\n",
            " [0. 1.]\n",
            " [0. 1.]\n",
            " [0. 1.]\n",
            " [0. 1.]\n",
            " [0. 1.]\n",
            " [1. 0.]\n",
            " [1. 0.]\n",
            " [0. 1.]\n",
            " [0. 1.]\n",
            " [0. 1.]\n",
            " [1. 0.]\n",
            " [0. 1.]\n",
            " [0. 1.]\n",
            " [1. 0.]\n",
            " [0. 1.]\n",
            " [0. 1.]\n",
            " [1. 0.]\n",
            " [0. 1.]\n",
            " [0. 1.]\n",
            " [1. 0.]\n",
            " [1. 0.]\n",
            " [1. 0.]\n",
            " [1. 0.]\n",
            " [0. 1.]\n",
            " [0. 1.]\n",
            " [0. 1.]\n",
            " [1. 0.]\n",
            " [0. 1.]\n",
            " [1. 0.]\n",
            " [0. 1.]\n",
            " [1. 0.]\n",
            " [0. 1.]\n",
            " [0. 1.]\n",
            " [0. 1.]\n",
            " [1. 0.]\n",
            " [0. 1.]\n",
            " [1. 0.]\n",
            " [1. 0.]\n",
            " [1. 0.]\n",
            " [0. 1.]\n",
            " [0. 1.]\n",
            " [0. 1.]\n",
            " [1. 0.]\n",
            " [1. 0.]\n",
            " [1. 0.]\n",
            " [1. 0.]\n",
            " [0. 1.]\n",
            " [0. 1.]\n",
            " [1. 0.]\n",
            " [0. 1.]\n",
            " [1. 0.]\n",
            " [0. 1.]\n",
            " [0. 1.]\n",
            " [1. 0.]\n",
            " [0. 1.]\n",
            " [0. 1.]\n",
            " [1. 0.]\n",
            " [1. 0.]\n",
            " [1. 0.]\n",
            " [0. 1.]\n",
            " [1. 0.]\n",
            " [1. 0.]\n",
            " [1. 0.]\n",
            " [0. 1.]\n",
            " [0. 1.]\n",
            " [0. 1.]\n",
            " [0. 1.]\n",
            " [1. 0.]\n",
            " [0. 1.]\n",
            " [0. 1.]\n",
            " [1. 0.]\n",
            " [0. 1.]\n",
            " [0. 1.]\n",
            " [1. 0.]\n",
            " [1. 0.]\n",
            " [0. 1.]\n",
            " [1. 0.]\n",
            " [1. 0.]\n",
            " [1. 0.]\n",
            " [0. 1.]\n",
            " [0. 1.]\n",
            " [0. 1.]\n",
            " [0. 1.]\n",
            " [0. 1.]\n",
            " [0. 1.]\n",
            " [1. 0.]\n",
            " [0. 1.]\n",
            " [0. 1.]\n",
            " [0. 1.]\n",
            " [1. 0.]\n",
            " [0. 1.]\n",
            " [0. 1.]\n",
            " [1. 0.]\n",
            " [1. 0.]\n",
            " [0. 1.]\n",
            " [1. 0.]\n",
            " [0. 1.]\n",
            " [0. 1.]\n",
            " [1. 0.]\n",
            " [1. 0.]\n",
            " [0. 1.]\n",
            " [0. 1.]\n",
            " [0. 1.]\n",
            " [1. 0.]\n",
            " [0. 1.]\n",
            " [1. 0.]\n",
            " [1. 0.]\n",
            " [1. 0.]\n",
            " [0. 1.]\n",
            " [1. 0.]\n",
            " [0. 1.]\n",
            " [0. 1.]\n",
            " [0. 1.]\n",
            " [0. 1.]\n",
            " [1. 0.]\n",
            " [1. 0.]\n",
            " [0. 1.]\n",
            " [0. 1.]\n",
            " [0. 1.]\n",
            " [0. 1.]\n",
            " [0. 1.]\n",
            " [0. 1.]\n",
            " [0. 1.]\n",
            " [1. 0.]\n",
            " [1. 0.]\n",
            " [1. 0.]\n",
            " [0. 1.]\n",
            " [0. 1.]\n",
            " [1. 0.]\n",
            " [1. 0.]\n",
            " [1. 0.]\n",
            " [1. 0.]\n",
            " [1. 0.]\n",
            " [1. 0.]\n",
            " [0. 1.]\n",
            " [0. 1.]\n",
            " [0. 1.]\n",
            " [1. 0.]\n",
            " [0. 1.]\n",
            " [1. 0.]\n",
            " [0. 1.]\n",
            " [1. 0.]\n",
            " [1. 0.]\n",
            " [1. 0.]\n",
            " [0. 1.]\n",
            " [1. 0.]\n",
            " [0. 1.]\n",
            " [0. 1.]\n",
            " [0. 1.]\n",
            " [0. 1.]\n",
            " [1. 0.]\n",
            " [0. 1.]\n",
            " [0. 1.]\n",
            " [1. 0.]\n",
            " [1. 0.]\n",
            " [1. 0.]\n",
            " [1. 0.]\n",
            " [1. 0.]\n",
            " [0. 1.]\n",
            " [1. 0.]\n",
            " [1. 0.]\n",
            " [0. 1.]\n",
            " [0. 1.]\n",
            " [1. 0.]\n",
            " [1. 0.]\n",
            " [1. 0.]\n",
            " [1. 0.]\n",
            " [0. 1.]\n",
            " [0. 1.]\n",
            " [1. 0.]\n",
            " [0. 1.]\n",
            " [1. 0.]\n",
            " [0. 1.]\n",
            " [1. 0.]\n",
            " [0. 1.]\n",
            " [0. 1.]\n",
            " [1. 0.]\n",
            " [1. 0.]\n",
            " [0. 1.]\n",
            " [0. 1.]\n",
            " [0. 1.]\n",
            " [0. 1.]\n",
            " [1. 0.]\n",
            " [0. 1.]\n",
            " [1. 0.]\n",
            " [0. 1.]\n",
            " [0. 1.]\n",
            " [0. 1.]\n",
            " [1. 0.]\n",
            " [1. 0.]\n",
            " [0. 1.]\n",
            " [0. 1.]\n",
            " [1. 0.]\n",
            " [0. 1.]\n",
            " [1. 0.]\n",
            " [1. 0.]\n",
            " [0. 1.]\n",
            " [0. 1.]\n",
            " [1. 0.]\n",
            " [0. 1.]\n",
            " [0. 1.]\n",
            " [0. 1.]\n",
            " [0. 1.]\n",
            " [1. 0.]\n",
            " [0. 1.]\n",
            " [1. 0.]\n",
            " [1. 0.]\n",
            " [0. 1.]\n",
            " [0. 1.]\n",
            " [0. 1.]\n",
            " [0. 1.]\n",
            " [0. 1.]\n",
            " [1. 0.]\n",
            " [1. 0.]\n",
            " [0. 1.]\n",
            " [0. 1.]\n",
            " [1. 0.]\n",
            " [1. 0.]\n",
            " [1. 0.]\n",
            " [0. 1.]\n",
            " [0. 1.]\n",
            " [0. 1.]\n",
            " [1. 0.]\n",
            " [0. 1.]\n",
            " [0. 1.]\n",
            " [0. 1.]\n",
            " [0. 1.]\n",
            " [0. 1.]\n",
            " [0. 1.]\n",
            " [0. 1.]\n",
            " [0. 1.]\n",
            " [0. 1.]\n",
            " [1. 0.]\n",
            " [0. 1.]\n",
            " [1. 0.]\n",
            " [1. 0.]\n",
            " [1. 0.]\n",
            " [0. 1.]\n",
            " [0. 1.]\n",
            " [0. 1.]\n",
            " [1. 0.]\n",
            " [0. 1.]\n",
            " [0. 1.]\n",
            " [0. 1.]\n",
            " [1. 0.]\n",
            " [0. 1.]\n",
            " [0. 1.]\n",
            " [0. 1.]\n",
            " [0. 1.]\n",
            " [0. 1.]\n",
            " [0. 1.]\n",
            " [1. 0.]\n",
            " [0. 1.]\n",
            " [0. 1.]\n",
            " [1. 0.]\n",
            " [1. 0.]\n",
            " [1. 0.]\n",
            " [0. 1.]\n",
            " [1. 0.]\n",
            " [0. 1.]\n",
            " [1. 0.]\n",
            " [0. 1.]\n",
            " [1. 0.]\n",
            " [0. 1.]\n",
            " [1. 0.]\n",
            " [1. 0.]\n",
            " [1. 0.]\n",
            " [0. 1.]\n",
            " [1. 0.]\n",
            " [0. 1.]\n",
            " [1. 0.]\n",
            " [1. 0.]\n",
            " [0. 1.]\n",
            " [0. 1.]\n",
            " [0. 1.]\n",
            " [0. 1.]\n",
            " [1. 0.]\n",
            " [1. 0.]\n",
            " [0. 1.]\n",
            " [1. 0.]\n",
            " [0. 1.]\n",
            " [1. 0.]\n",
            " [1. 0.]\n",
            " [0. 1.]\n",
            " [1. 0.]\n",
            " [1. 0.]\n",
            " [1. 0.]\n",
            " [0. 1.]\n",
            " [0. 1.]\n",
            " [0. 1.]\n",
            " [1. 0.]\n",
            " [1. 0.]\n",
            " [1. 0.]\n",
            " [0. 1.]\n",
            " [1. 0.]\n",
            " [0. 1.]\n",
            " [1. 0.]\n",
            " [0. 1.]\n",
            " [0. 1.]\n",
            " [0. 1.]\n",
            " [1. 0.]\n",
            " [0. 1.]\n",
            " [1. 0.]\n",
            " [0. 1.]\n",
            " [0. 1.]\n",
            " [0. 1.]\n",
            " [0. 1.]\n",
            " [0. 1.]\n",
            " [0. 1.]\n",
            " [1. 0.]\n",
            " [1. 0.]\n",
            " [1. 0.]\n",
            " [1. 0.]\n",
            " [1. 0.]\n",
            " [1. 0.]\n",
            " [0. 1.]\n",
            " [0. 1.]\n",
            " [0. 1.]\n",
            " [0. 1.]\n",
            " [1. 0.]\n",
            " [0. 1.]]\n"
          ]
        }
      ],
      "source": [
        "print(train_labels_encoded)\n",
        "print(\"\\n\")\n",
        "print(test_labels_encoded)\n",
        "print(\"\\n\")\n",
        "print(train_labels_one_hot)\n",
        "print(\"\\n\")\n",
        "print(test_labels_one_hot)"
      ]
    },
    {
      "cell_type": "code",
      "execution_count": 22,
      "metadata": {
        "colab": {
          "base_uri": "https://localhost:8080/"
        },
        "id": "CDQB1sGXpJ3m",
        "outputId": "4d0c4367-b1e6-4047-c037-8490d3f748e3"
      },
      "outputs": [
        {
          "output_type": "stream",
          "name": "stdout",
          "text": [
            "Epoch 1/30\n",
            "99/99 [==============================] - 3s 9ms/step - loss: 0.6926 - accuracy: 0.5065 - val_loss: 0.6900 - val_accuracy: 0.5739\n",
            "Epoch 2/30\n",
            "99/99 [==============================] - 1s 6ms/step - loss: 0.6879 - accuracy: 0.6157 - val_loss: 0.6827 - val_accuracy: 0.7926\n",
            "Epoch 3/30\n",
            "99/99 [==============================] - 1s 6ms/step - loss: 0.6663 - accuracy: 0.7072 - val_loss: 0.6443 - val_accuracy: 0.6250\n",
            "Epoch 4/30\n",
            "99/99 [==============================] - 1s 9ms/step - loss: 0.6142 - accuracy: 0.7629 - val_loss: 0.5922 - val_accuracy: 0.8182\n",
            "Epoch 5/30\n",
            "99/99 [==============================] - 1s 10ms/step - loss: 0.5272 - accuracy: 0.8367 - val_loss: 0.5151 - val_accuracy: 0.8381\n",
            "Epoch 6/30\n",
            "99/99 [==============================] - 1s 11ms/step - loss: 0.4447 - accuracy: 0.8575 - val_loss: 0.4685 - val_accuracy: 0.8239\n",
            "Epoch 7/30\n",
            "99/99 [==============================] - 1s 8ms/step - loss: 0.3891 - accuracy: 0.8563 - val_loss: 0.4119 - val_accuracy: 0.8523\n",
            "Epoch 8/30\n",
            "99/99 [==============================] - 1s 6ms/step - loss: 0.3476 - accuracy: 0.8721 - val_loss: 0.3850 - val_accuracy: 0.8494\n",
            "Epoch 9/30\n",
            "99/99 [==============================] - 1s 6ms/step - loss: 0.3230 - accuracy: 0.8756 - val_loss: 0.3683 - val_accuracy: 0.8523\n",
            "Epoch 10/30\n",
            "99/99 [==============================] - 1s 6ms/step - loss: 0.3015 - accuracy: 0.8807 - val_loss: 0.3580 - val_accuracy: 0.8438\n",
            "Epoch 11/30\n",
            "99/99 [==============================] - 0s 5ms/step - loss: 0.2837 - accuracy: 0.8952 - val_loss: 0.3575 - val_accuracy: 0.8494\n",
            "Epoch 12/30\n",
            "99/99 [==============================] - 1s 6ms/step - loss: 0.2711 - accuracy: 0.8933 - val_loss: 0.3496 - val_accuracy: 0.8466\n",
            "Epoch 13/30\n",
            "99/99 [==============================] - 1s 5ms/step - loss: 0.2612 - accuracy: 0.8962 - val_loss: 0.3600 - val_accuracy: 0.8438\n",
            "Epoch 14/30\n",
            "99/99 [==============================] - 0s 5ms/step - loss: 0.2494 - accuracy: 0.9063 - val_loss: 0.3404 - val_accuracy: 0.8523\n",
            "Epoch 15/30\n",
            "99/99 [==============================] - 1s 5ms/step - loss: 0.2432 - accuracy: 0.9076 - val_loss: 0.3523 - val_accuracy: 0.8438\n",
            "Epoch 16/30\n",
            "99/99 [==============================] - 1s 6ms/step - loss: 0.2303 - accuracy: 0.9161 - val_loss: 0.3377 - val_accuracy: 0.8494\n",
            "Epoch 17/30\n",
            "99/99 [==============================] - 1s 6ms/step - loss: 0.2241 - accuracy: 0.9174 - val_loss: 0.4138 - val_accuracy: 0.8182\n",
            "Epoch 18/30\n",
            "99/99 [==============================] - 1s 9ms/step - loss: 0.2215 - accuracy: 0.9190 - val_loss: 0.3347 - val_accuracy: 0.8523\n",
            "Epoch 19/30\n",
            "99/99 [==============================] - 1s 5ms/step - loss: 0.2108 - accuracy: 0.9221 - val_loss: 0.3455 - val_accuracy: 0.8438\n",
            "Epoch 20/30\n",
            "99/99 [==============================] - 1s 5ms/step - loss: 0.2029 - accuracy: 0.9272 - val_loss: 0.3404 - val_accuracy: 0.8494\n",
            "Epoch 21/30\n",
            "99/99 [==============================] - 1s 6ms/step - loss: 0.1986 - accuracy: 0.9285 - val_loss: 0.3410 - val_accuracy: 0.8438\n",
            "Epoch 22/30\n",
            "99/99 [==============================] - 1s 5ms/step - loss: 0.1962 - accuracy: 0.9272 - val_loss: 0.3372 - val_accuracy: 0.8466\n",
            "Epoch 23/30\n",
            "99/99 [==============================] - 1s 5ms/step - loss: 0.1884 - accuracy: 0.9316 - val_loss: 0.3425 - val_accuracy: 0.8381\n",
            "Epoch 24/30\n",
            "99/99 [==============================] - 1s 7ms/step - loss: 0.1814 - accuracy: 0.9370 - val_loss: 0.3403 - val_accuracy: 0.8494\n",
            "Epoch 25/30\n",
            "99/99 [==============================] - 1s 6ms/step - loss: 0.1828 - accuracy: 0.9335 - val_loss: 0.3417 - val_accuracy: 0.8466\n",
            "Epoch 26/30\n",
            "99/99 [==============================] - 1s 9ms/step - loss: 0.1754 - accuracy: 0.9395 - val_loss: 0.3442 - val_accuracy: 0.8551\n",
            "Epoch 27/30\n",
            "99/99 [==============================] - 1s 10ms/step - loss: 0.1694 - accuracy: 0.9405 - val_loss: 0.3518 - val_accuracy: 0.8381\n",
            "Epoch 28/30\n",
            "99/99 [==============================] - 1s 8ms/step - loss: 0.1645 - accuracy: 0.9449 - val_loss: 0.3505 - val_accuracy: 0.8551\n",
            "Epoch 29/30\n",
            "99/99 [==============================] - 1s 6ms/step - loss: 0.1648 - accuracy: 0.9408 - val_loss: 0.3528 - val_accuracy: 0.8466\n",
            "Epoch 30/30\n",
            "99/99 [==============================] - 1s 5ms/step - loss: 0.1585 - accuracy: 0.9446 - val_loss: 0.3807 - val_accuracy: 0.8466\n"
          ]
        }
      ],
      "source": [
        "model.compile(loss='binary_crossentropy',optimizer=tf.keras.optimizers.Adam() ,metrics=['accuracy'])\n",
        "\n",
        "history_1 = model.fit(train_padded_seq, train_labels_one_hot, epochs=30, validation_data=(val_padded_seq, test_labels_one_hot))"
      ]
    },
    {
      "cell_type": "code",
      "execution_count": 23,
      "metadata": {
        "colab": {
          "base_uri": "https://localhost:8080/",
          "height": 881
        },
        "id": "QCRrfsg84L6I",
        "outputId": "2af7be7d-63f4-4be0-e7ef-30f6e646191f"
      },
      "outputs": [
        {
          "output_type": "display_data",
          "data": {
            "text/plain": [
              "<Figure size 640x480 with 1 Axes>"
            ],
            "image/png": "[encoded data removed]"
          },
          "metadata": {}
        },
        {
          "output_type": "display_data",
          "data": {
            "text/plain": [
              "<Figure size 640x480 with 1 Axes>"
            ],
            "image/png": "[encoded data removed]"
          },
          "metadata": {}
        }
      ],
      "source": [
        "def plot_graphs(history, metric):\n",
        "    plt.plot(history.history[metric])\n",
        "    plt.plot(history.history[f'val_{metric}'])\n",
        "    plt.xlabel(\"Epochs\")\n",
        "    plt.ylabel(metric)\n",
        "    plt.legend([metric, f'val_{metric}'])\n",
        "    plt.show()\n",
        "\n",
        "plot_graphs(history_1, \"accuracy\")\n",
        "plot_graphs(history_1, \"loss\")"
      ]
    },
    {
      "cell_type": "code",
      "execution_count": 24,
      "metadata": {
        "colab": {
          "base_uri": "https://localhost:8080/"
        },
        "id": "2QbwPqME4L6K",
        "outputId": "adebd406-5f62-4715-c7d4-e00d900f9fd5"
      },
      "outputs": [
        {
          "output_type": "stream",
          "name": "stdout",
          "text": [
            "[HS             ,      non-HS]\n",
            "[[0.10367086 0.8963291 ]]\n"
          ]
        }
      ],
      "source": [
        "seed_text = \"anjing liar\"\n",
        "# Convert the text into sequences\n",
        "token_list = tokenizer.texts_to_sequences([seed_text])[0]\n",
        "# Pad the sequences\n",
        "token_list = pad_sequences([token_list], maxlen=MAXLEN , padding='pre')\n",
        "# Get the probabilities of predicting a word\n",
        "predicted = model.predict(token_list, verbose=0)\n",
        "print(\"[HS             ,      non-HS]\")\n",
        "print(predicted)"
      ]
    },
    {
      "cell_type": "code",
      "execution_count": 25,
      "metadata": {
        "colab": {
          "base_uri": "https://localhost:8080/"
        },
        "id": "6TSajKpr4L6L",
        "outputId": "178edd1f-fe08-43ad-d61f-fa204433b76a"
      },
      "outputs": [
        {
          "output_type": "stream",
          "name": "stdout",
          "text": [
            "Epoch 1/30\n",
            "99/99 [==============================] - 29s 202ms/step - loss: 0.6929 - accuracy: 0.5081 - val_loss: 0.6915 - val_accuracy: 0.5852\n",
            "Epoch 2/30\n",
            "99/99 [==============================] - 20s 199ms/step - loss: 0.4930 - accuracy: 0.7854 - val_loss: 0.4617 - val_accuracy: 0.8210\n",
            "Epoch 3/30\n",
            "99/99 [==============================] - 19s 187ms/step - loss: 0.3799 - accuracy: 0.8490 - val_loss: 0.4449 - val_accuracy: 0.8011\n",
            "Epoch 4/30\n",
            "99/99 [==============================] - 21s 213ms/step - loss: 0.4143 - accuracy: 0.8376 - val_loss: 0.4573 - val_accuracy: 0.7983\n",
            "Epoch 5/30\n",
            "99/99 [==============================] - 19s 188ms/step - loss: 0.3533 - accuracy: 0.8534 - val_loss: 0.4158 - val_accuracy: 0.8409\n",
            "Epoch 6/30\n",
            "99/99 [==============================] - 20s 200ms/step - loss: 0.4024 - accuracy: 0.8332 - val_loss: 0.4894 - val_accuracy: 0.8097\n",
            "Epoch 7/30\n",
            "99/99 [==============================] - 18s 185ms/step - loss: 0.3435 - accuracy: 0.8756 - val_loss: 0.4316 - val_accuracy: 0.8381\n",
            "Epoch 8/30\n",
            "99/99 [==============================] - 23s 230ms/step - loss: 0.3125 - accuracy: 0.8883 - val_loss: 0.4148 - val_accuracy: 0.8295\n",
            "Epoch 9/30\n",
            "99/99 [==============================] - 25s 254ms/step - loss: 0.2864 - accuracy: 0.8902 - val_loss: 0.3827 - val_accuracy: 0.8409\n",
            "Epoch 10/30\n",
            "99/99 [==============================] - 19s 187ms/step - loss: 0.3007 - accuracy: 0.8978 - val_loss: 0.4237 - val_accuracy: 0.8409\n",
            "Epoch 11/30\n",
            "99/99 [==============================] - 25s 256ms/step - loss: 0.3046 - accuracy: 0.8876 - val_loss: 0.4561 - val_accuracy: 0.8381\n",
            "Epoch 12/30\n",
            "99/99 [==============================] - 19s 192ms/step - loss: 0.3689 - accuracy: 0.8490 - val_loss: 0.5182 - val_accuracy: 0.7557\n",
            "Epoch 13/30\n",
            "99/99 [==============================] - 21s 209ms/step - loss: 0.3538 - accuracy: 0.8636 - val_loss: 0.4767 - val_accuracy: 0.8068\n",
            "Epoch 14/30\n",
            "99/99 [==============================] - 20s 204ms/step - loss: 0.3051 - accuracy: 0.8940 - val_loss: 0.4406 - val_accuracy: 0.8153\n",
            "Epoch 15/30\n",
            "99/99 [==============================] - 19s 188ms/step - loss: 0.2999 - accuracy: 0.9063 - val_loss: 0.5145 - val_accuracy: 0.8125\n",
            "Epoch 16/30\n",
            "99/99 [==============================] - 20s 204ms/step - loss: 0.2828 - accuracy: 0.9148 - val_loss: 0.4445 - val_accuracy: 0.8409\n",
            "Epoch 17/30\n",
            "99/99 [==============================] - 19s 188ms/step - loss: 0.2589 - accuracy: 0.9221 - val_loss: 0.4921 - val_accuracy: 0.8438\n",
            "Epoch 18/30\n",
            "99/99 [==============================] - 19s 190ms/step - loss: 0.2561 - accuracy: 0.9202 - val_loss: 0.4472 - val_accuracy: 0.8466\n",
            "Epoch 19/30\n",
            "99/99 [==============================] - 20s 204ms/step - loss: 0.2680 - accuracy: 0.9110 - val_loss: 0.4466 - val_accuracy: 0.8466\n",
            "Epoch 20/30\n",
            "99/99 [==============================] - 18s 186ms/step - loss: 0.2365 - accuracy: 0.9215 - val_loss: 0.4011 - val_accuracy: 0.8438\n",
            "Epoch 21/30\n",
            "99/99 [==============================] - 20s 197ms/step - loss: 0.2525 - accuracy: 0.9047 - val_loss: 0.4866 - val_accuracy: 0.8438\n",
            "Epoch 22/30\n",
            "99/99 [==============================] - 19s 187ms/step - loss: 0.2204 - accuracy: 0.9110 - val_loss: 0.4408 - val_accuracy: 0.8438\n",
            "Epoch 23/30\n",
            "99/99 [==============================] - 20s 202ms/step - loss: 0.2083 - accuracy: 0.9319 - val_loss: 0.4118 - val_accuracy: 0.8466\n",
            "Epoch 24/30\n",
            "99/99 [==============================] - 18s 185ms/step - loss: 0.1846 - accuracy: 0.9408 - val_loss: 0.3754 - val_accuracy: 0.8551\n",
            "Epoch 25/30\n",
            "99/99 [==============================] - 20s 200ms/step - loss: 0.1817 - accuracy: 0.9405 - val_loss: 0.4254 - val_accuracy: 0.8381\n",
            "Epoch 26/30\n",
            "99/99 [==============================] - 18s 183ms/step - loss: 0.1690 - accuracy: 0.9456 - val_loss: 0.4164 - val_accuracy: 0.8352\n",
            "Epoch 27/30\n",
            "99/99 [==============================] - 19s 194ms/step - loss: 0.1772 - accuracy: 0.9342 - val_loss: 0.4799 - val_accuracy: 0.8381\n",
            "Epoch 28/30\n",
            "99/99 [==============================] - 18s 182ms/step - loss: 0.1775 - accuracy: 0.9395 - val_loss: 0.5099 - val_accuracy: 0.8352\n",
            "Epoch 29/30\n",
            "99/99 [==============================] - 19s 196ms/step - loss: 0.1525 - accuracy: 0.9475 - val_loss: 0.5033 - val_accuracy: 0.8409\n",
            "Epoch 30/30\n",
            "99/99 [==============================] - 18s 183ms/step - loss: 0.1377 - accuracy: 0.9573 - val_loss: 0.4869 - val_accuracy: 0.8324\n"
          ]
        }
      ],
      "source": [
        "model_LSTM = tf.keras.Sequential([\n",
        "    tf.keras.layers.Embedding(NUM_WORDS, EMBEDDING_DIM, input_length = MAXLEN),\n",
        "    tf.keras.layers.Bidirectional(LSTM(16, return_sequences= True)),\n",
        "    tf.keras.layers.Bidirectional(LSTM(32, return_sequences= True)),\n",
        "    tf.keras.layers.GlobalAveragePooling1D(),\n",
        "    tf.keras.layers.Dense(units = 32, activation= 'relu'),\n",
        "    tf.keras.layers.Dense(units = 2, activation='softmax')\n",
        "])\n",
        "model_LSTM.compile(loss='binary_crossentropy',optimizer=tf.keras.optimizers.Adam() ,metrics=['accuracy'])\n",
        "\n",
        "history_LSTM = model_LSTM.fit(train_padded_seq, train_labels_one_hot, epochs=30, validation_data=(val_padded_seq, test_labels_one_hot))"
      ]
    },
    {
      "cell_type": "code",
      "execution_count": 26,
      "metadata": {
        "colab": {
          "base_uri": "https://localhost:8080/",
          "height": 881
        },
        "id": "IkHHCNyj4L6M",
        "outputId": "c6751e49-f591-4e40-b29a-7efa6451e5aa"
      },
      "outputs": [
        {
          "output_type": "display_data",
          "data": {
            "text/plain": [
              "<Figure size 640x480 with 1 Axes>"
            ],
            "image/png": "[encoded data removed]"
          },
          "metadata": {}
        },
        {
          "output_type": "display_data",
          "data": {
            "text/plain": [
              "<Figure size 640x480 with 1 Axes>"
            ],
            "image/png": "[encoded data removed]"
          },
          "metadata": {}
        }
      ],
      "source": [
        "plot_graphs(history_LSTM, \"accuracy\")\n",
        "plot_graphs(history_LSTM, \"loss\")"
      ]
    },
    {
      "cell_type": "code",
      "execution_count": 27,
      "metadata": {
        "colab": {
          "base_uri": "https://localhost:8080/"
        },
        "id": "FXWCBgMK4L6O",
        "outputId": "68b76b2f-1773-4f23-fcfe-7969db3f63ee"
      },
      "outputs": [
        {
          "output_type": "stream",
          "name": "stdout",
          "text": [
            "[HS             ,      non-HS]\n",
            "[[0.05133926 0.9486607 ]]\n"
          ]
        }
      ],
      "source": [
        "seed_text = \"muka lu kayak anjing\"\n",
        "# Convert the text into sequences\n",
        "token_list = tokenizer.texts_to_sequences([seed_text])[0]\n",
        "# Pad the sequences\n",
        "token_list = pad_sequences([token_list], maxlen=MAXLEN , padding='pre')\n",
        "# Get the probabilities of predicting a word\n",
        "predicted = model_LSTM.predict(token_list, verbose=0)\n",
        "print(\"[HS             ,      non-HS]\")\n",
        "print(predicted)"
      ]
    },
    {
      "cell_type": "code",
      "execution_count": 28,
      "metadata": {
        "colab": {
          "base_uri": "https://localhost:8080/"
        },
        "id": "eg_HZDUCckNT",
        "outputId": "623f6f25-1e0c-401a-bfab-fdbc6c964282"
      },
      "outputs": [
        {
          "output_type": "execute_result",
          "data": {
            "text/plain": [
              "[array([[ 0.11678475, -0.05239008,  0.11064832, ..., -0.09083903,\n",
              "          0.06573542,  0.00301052],\n",
              "        [ 0.11637454, -0.04769501,  0.03812576, ..., -0.1288491 ,\n",
              "          0.11335062, -0.02554837],\n",
              "        [ 0.03629287,  0.04224022,  0.02496132, ..., -0.1323111 ,\n",
              "          0.01502402,  0.08575103],\n",
              "        ...,\n",
              "        [-0.02297094,  0.02419313,  0.07395596, ...,  0.05181952,\n",
              "          0.02500454,  0.02258706],\n",
              "        [-0.08972359,  0.13890661, -0.1325895 , ..., -0.1448655 ,\n",
              "         -0.08489574,  0.08033835],\n",
              "        [-0.2728111 ,  0.3138379 , -0.334846  , ..., -0.30013838,\n",
              "         -0.37657526,  0.33525243]], dtype=float32),\n",
              " array([[-2.28743926e-01,  9.77054089e-02, -1.57255784e-01,\n",
              "          3.35268304e-02, -3.66236597e-01, -2.57939875e-01,\n",
              "         -3.00254911e-01,  3.17431837e-02,  4.99723524e-01,\n",
              "          1.21633269e-01,  2.69831002e-01, -2.59681910e-01,\n",
              "          4.10040677e-01, -3.10345858e-01, -3.22506636e-01,\n",
              "         -3.46317351e-01,  4.26379889e-01, -2.33006895e-01,\n",
              "         -2.28699565e-01,  6.81581125e-02,  1.53058887e-01,\n",
              "          6.39461815e-01, -1.17981687e-01, -1.94395840e-01,\n",
              "          2.64347494e-01, -2.29068194e-03,  3.25117916e-01,\n",
              "         -2.30224043e-01,  6.91855013e-01, -1.50642529e-01,\n",
              "         -1.81319535e-01,  6.01621807e-01],\n",
              "        [ 4.85608280e-02, -3.97928394e-02,  4.26726729e-01,\n",
              "          3.51912051e-01,  8.51286530e-01,  9.21396136e-01,\n",
              "          5.52609265e-02,  5.73171616e-01, -9.16174412e-01,\n",
              "          5.54836154e-01, -1.08896255e-01,  7.71764517e-02,\n",
              "         -1.03021789e+00,  5.39227605e-01,  3.46964866e-01,\n",
              "          1.72387853e-01, -5.83514631e-01,  1.00567825e-02,\n",
              "          6.27908766e-01,  1.29936971e-02,  2.62906492e-01,\n",
              "         -8.68154228e-01, -1.52302951e-01,  5.55338562e-02,\n",
              "          2.47215942e-01,  8.28081906e-01, -9.66658950e-01,\n",
              "          3.35504085e-01, -8.80390108e-01,  6.28402174e-01,\n",
              "          2.23695338e-02, -4.87760812e-01],\n",
              "        [-1.31966084e-01,  1.47260234e-01, -1.98505804e-01,\n",
              "          1.60316154e-01,  9.10224468e-02,  1.66873336e-02,\n",
              "         -2.09853709e-01, -2.92867631e-01,  7.15868235e-01,\n",
              "         -5.29384732e-01, -3.34617078e-01, -1.54440373e-01,\n",
              "          4.15788949e-01, -3.96961570e-02, -3.92435312e-01,\n",
              "         -5.31527340e-01,  7.34199405e-01,  1.84557468e-01,\n",
              "         -1.12807015e-02, -4.67398576e-02, -2.25019246e-01,\n",
              "          4.74839658e-01, -1.78073704e-01, -1.89269185e-01,\n",
              "          1.28272891e-01, -8.27871487e-02,  4.74487484e-01,\n",
              "         -4.66027856e-02,  6.72591269e-01, -1.87418565e-01,\n",
              "         -2.82144994e-01,  5.20356953e-01],\n",
              "        [ 3.17936093e-01,  3.77043150e-02,  1.73233533e+00,\n",
              "          2.07058355e-01,  2.09144688e+00,  1.87776351e+00,\n",
              "          1.65043861e-01,  2.22151995e+00, -1.74064732e+00,\n",
              "          1.75192142e+00,  1.05467690e-02,  2.45165795e-01,\n",
              "         -2.29094172e+00,  1.70653212e+00,  1.87247860e+00,\n",
              "          2.11584735e+00, -1.73829377e+00,  1.50904268e-01,\n",
              "          2.10911965e+00, -2.34564260e-01,  7.95541778e-02,\n",
              "         -2.20220804e+00,  3.29404712e-01, -1.35981321e-01,\n",
              "          3.32289368e-01,  2.18488884e+00, -2.40777731e+00,\n",
              "         -3.27359110e-01, -1.64693534e+00,  1.85216475e+00,\n",
              "          7.73261487e-02, -1.74004126e+00],\n",
              "        [ 2.80867547e-01,  1.55715197e-01, -1.70044768e+00,\n",
              "          2.39371866e-01, -1.55489612e+00, -1.60482740e+00,\n",
              "         -2.09052742e-01, -1.60249376e+00,  1.74015617e+00,\n",
              "         -1.76408470e+00, -1.68505147e-01,  3.16931218e-01,\n",
              "          1.37291574e+00, -1.56396019e+00, -9.95989919e-01,\n",
              "         -1.55266082e+00,  1.90030193e+00,  1.00194946e-01,\n",
              "         -1.44134688e+00, -1.38863875e-02,  9.19770896e-02,\n",
              "          1.56571126e+00, -7.81385154e-02,  6.24621212e-02,\n",
              "         -2.12045029e-01, -1.24156213e+00,  1.63530684e+00,\n",
              "          2.01475829e-01,  1.31296921e+00, -1.36263120e+00,\n",
              "         -3.39220673e-01,  1.62616014e+00],\n",
              "        [ 3.08549732e-01, -1.18950084e-01,  5.59100449e-01,\n",
              "         -3.71095091e-01,  5.01533389e-01,  6.34988964e-01,\n",
              "          5.50964773e-02,  6.75321519e-01, -2.72539884e-01,\n",
              "          7.88542867e-01,  2.77687167e-03, -2.55686969e-01,\n",
              "         -7.96719864e-02,  5.55280328e-01,  8.10154498e-01,\n",
              "          5.92116594e-01, -1.07213527e-01, -6.04090542e-02,\n",
              "          4.92838919e-01,  1.32989213e-01,  2.59492368e-01,\n",
              "         -5.29959142e-01,  1.24020346e-01, -9.73227918e-02,\n",
              "         -3.49720746e-01,  7.65584826e-01, -4.95212227e-02,\n",
              "          1.03017509e-01, -5.16507566e-01,  7.10145772e-01,\n",
              "          3.49724025e-01, -5.31920016e-01],\n",
              "        [-6.86988533e-02,  3.11237544e-01,  1.11129689e+00,\n",
              "          6.41523302e-02,  8.13290119e-01,  1.35955310e+00,\n",
              "         -5.25092483e-02,  9.69769061e-01, -1.14952183e+00,\n",
              "          1.26421249e+00,  4.91531081e-02,  3.03328067e-01,\n",
              "         -1.35815275e+00,  1.41524506e+00,  1.18566895e+00,\n",
              "          1.02503812e+00, -1.07731664e+00, -4.63620275e-02,\n",
              "          1.36772442e+00,  1.49745926e-01, -8.74594525e-02,\n",
              "         -8.62536848e-01, -3.25041041e-02, -4.61039245e-02,\n",
              "         -2.94615209e-01,  9.76058424e-01, -8.65448594e-01,\n",
              "         -3.31957519e-01, -1.31386220e+00,  7.90493488e-01,\n",
              "          1.54963762e-01, -1.01936209e+00],\n",
              "        [ 7.55451024e-02,  2.70293206e-01, -6.00477278e-01,\n",
              "         -2.08494037e-01, -4.95854706e-01, -6.43449545e-01,\n",
              "          2.14465827e-01, -4.41390246e-01,  2.92933315e-01,\n",
              "         -5.45672059e-01,  1.21135212e-01,  2.29871124e-01,\n",
              "         -1.22092247e-01, -3.13858241e-01, -2.35251337e-01,\n",
              "         -4.66445506e-01,  3.73614788e-01, -3.13126653e-01,\n",
              "         -6.93774164e-01,  3.40144902e-01,  1.98855788e-01,\n",
              "          3.14777225e-01,  3.18822116e-02,  3.41546148e-01,\n",
              "          1.24438949e-01, -4.06280488e-01,  1.73842132e-01,\n",
              "         -3.26374054e-01, -7.85481706e-02, -3.54099810e-01,\n",
              "          9.24099982e-02, -2.81992946e-02],\n",
              "        [ 1.80761427e-01,  2.30759665e-01, -9.12124157e-01,\n",
              "         -2.40874395e-01, -9.87356365e-01, -8.14071059e-01,\n",
              "         -1.27651840e-01, -4.36969608e-01,  3.02276462e-01,\n",
              "         -4.56396967e-01,  2.52340496e-01, -1.86911225e-02,\n",
              "          5.07288039e-01, -7.74359822e-01, -8.43119085e-01,\n",
              "         -9.78602707e-01,  4.47275907e-01,  3.13628703e-01,\n",
              "         -7.02813447e-01,  4.21084743e-03,  3.03888977e-01,\n",
              "          7.12859035e-01, -2.86963552e-01,  2.75055021e-01,\n",
              "          3.04869115e-01, -6.89500272e-01,  9.38883245e-01,\n",
              "          2.69820839e-01,  6.27850711e-01, -4.26661193e-01,\n",
              "         -9.75862145e-02,  4.23946261e-01],\n",
              "        [ 2.46891350e-01, -1.04755200e-02, -1.78420830e+00,\n",
              "          3.09583962e-01, -1.69768345e+00, -1.76381838e+00,\n",
              "          6.74745739e-02, -1.83997560e+00,  2.04471922e+00,\n",
              "         -1.80008781e+00, -3.33286434e-01,  1.52521729e-02,\n",
              "          2.27080584e+00, -2.14580584e+00, -1.97413814e+00,\n",
              "         -2.23725843e+00,  1.87230897e+00,  2.78916538e-01,\n",
              "         -1.74301398e+00, -1.05058186e-01, -2.26128384e-01,\n",
              "          1.93699610e+00,  1.52474448e-01, -2.55957216e-01,\n",
              "         -1.43251404e-01, -1.69017291e+00,  2.10801172e+00,\n",
              "          2.39786297e-01,  1.95622444e+00, -2.03974175e+00,\n",
              "          2.13098079e-01,  1.99538016e+00],\n",
              "        [-2.61747271e-01,  3.34651589e-01, -1.16302335e+00,\n",
              "          4.65821177e-02, -1.07886708e+00, -8.73744190e-01,\n",
              "          1.72951192e-01, -1.42305529e+00,  1.14113522e+00,\n",
              "         -1.35874236e+00,  8.55965167e-02, -3.17475677e-01,\n",
              "          1.20105767e+00, -8.10097277e-01, -8.17885160e-01,\n",
              "         -1.12771916e+00,  1.23084927e+00,  2.95965403e-01,\n",
              "         -1.18752491e+00, -1.81777447e-01, -1.94285005e-01,\n",
              "          1.44977498e+00,  3.19881529e-01,  1.56796724e-01,\n",
              "         -6.38786703e-02, -1.07281566e+00,  8.24322283e-01,\n",
              "         -2.87182122e-01,  1.07832420e+00, -1.25779867e+00,\n",
              "          1.61951870e-01,  1.28173864e+00],\n",
              "        [ 1.83768958e-01, -2.60633767e-01,  1.55805612e+00,\n",
              "          5.56853116e-02,  1.43778312e+00,  1.60925782e+00,\n",
              "          1.46405429e-01,  1.26070297e+00, -1.38934445e+00,\n",
              "          1.50256658e+00,  2.06187904e-01, -6.44404292e-02,\n",
              "         -1.79048359e+00,  1.62257218e+00,  1.16153574e+00,\n",
              "          1.37881958e+00, -1.15465307e+00,  1.66077316e-01,\n",
              "          1.27398324e+00,  1.93068653e-01,  2.44045034e-01,\n",
              "         -1.59427452e+00,  1.35474712e-01,  2.40079314e-01,\n",
              "         -3.17810208e-01,  1.29089344e+00, -1.34088743e+00,\n",
              "          3.46690506e-01, -1.54850268e+00,  1.60559273e+00,\n",
              "          2.22868323e-02, -1.41495669e+00],\n",
              "        [ 1.44416094e-02, -1.70762017e-02,  1.21828854e+00,\n",
              "          1.87971383e-01,  1.53607011e+00,  1.83461964e+00,\n",
              "          7.81881809e-03,  1.80811441e+00, -1.86314809e+00,\n",
              "          1.30936754e+00, -3.30567032e-01,  2.76334196e-01,\n",
              "         -2.06118298e+00,  1.82117701e+00,  1.45152712e+00,\n",
              "          1.80254102e+00, -1.72847164e+00, -9.32218507e-02,\n",
              "          1.31714129e+00,  1.00709461e-01, -8.97464305e-02,\n",
              "         -1.61727619e+00, -3.12761366e-02, -9.77575779e-02,\n",
              "          3.31128001e-01,  1.87143672e+00, -2.05476165e+00,\n",
              "         -1.27502814e-01, -1.75450444e+00,  1.41472292e+00,\n",
              "          3.36803883e-01, -1.38158953e+00],\n",
              "        [ 1.68447942e-01, -1.62160978e-01, -7.08228886e-01,\n",
              "         -1.51061758e-01, -6.18683279e-01, -5.58716655e-01,\n",
              "         -6.95923567e-02, -6.63263142e-01,  1.70834199e-01,\n",
              "         -6.83808804e-01,  4.36573215e-02, -1.16905913e-01,\n",
              "          4.03176427e-01, -6.99656725e-01, -7.34003901e-01,\n",
              "         -4.67315972e-01,  2.70885646e-01,  2.14177426e-02,\n",
              "         -6.99640572e-01,  5.99907078e-02,  1.11018449e-01,\n",
              "          1.01571521e-02,  1.60902694e-01,  2.76945919e-01,\n",
              "         -3.24271888e-01, -5.83244264e-01,  4.11035448e-01,\n",
              "          8.04692209e-02,  3.44875246e-01, -4.11593229e-01,\n",
              "          3.12729031e-01, -8.67466256e-02],\n",
              "        [ 2.75259525e-01, -1.42005607e-01, -8.28232884e-01,\n",
              "         -2.52300024e-01, -3.46481770e-01, -2.69321442e-01,\n",
              "          2.44180232e-01, -5.92665434e-01,  1.06693137e+00,\n",
              "         -8.72958124e-01,  7.61409327e-02, -8.08161497e-02,\n",
              "          9.27275300e-01, -3.61321479e-01, -3.46775740e-01,\n",
              "         -4.33997363e-01,  7.40208149e-01, -2.78623343e-01,\n",
              "         -5.49831927e-01,  3.11942756e-01,  1.78570926e-01,\n",
              "          9.75362241e-01, -1.08867697e-01, -8.28287601e-02,\n",
              "          1.60809949e-01, -5.84773540e-01,  1.08168268e+00,\n",
              "         -2.59335339e-02,  1.03266442e+00, -3.99173915e-01,\n",
              "         -2.65592992e-01,  8.40299308e-01],\n",
              "        [-3.27841699e-01,  3.71122926e-01,  1.83301234e+00,\n",
              "         -3.63087177e-01,  2.18469477e+00,  2.06091261e+00,\n",
              "         -1.49065733e-01,  2.29375672e+00, -2.27251101e+00,\n",
              "          1.81106031e+00, -2.93238610e-01, -6.44103289e-02,\n",
              "         -2.22736573e+00,  2.02976632e+00,  1.89654982e+00,\n",
              "          2.28987288e+00, -2.16870475e+00, -2.39200249e-01,\n",
              "          2.17822003e+00,  3.17797482e-01,  1.52874991e-01,\n",
              "         -1.97059679e+00, -6.74215257e-02, -3.04930180e-01,\n",
              "          1.17260411e-01,  2.05578327e+00, -2.26065898e+00,\n",
              "         -1.28261790e-01, -1.52966607e+00,  1.91592014e+00,\n",
              "         -2.18878195e-01, -2.13710213e+00]], dtype=float32),\n",
              " array([ 0.        , -0.0241426 ,  0.02980462, -0.02270854,  0.04179444,\n",
              "         0.02670569,  0.        ,  0.05853068,  0.09728163,  0.0574679 ,\n",
              "        -0.01990565,  0.        ,  0.12035493,  0.05600452,  0.05130843,\n",
              "         0.09720643,  0.10648868, -0.0272762 ,  0.00855318, -0.01167726,\n",
              "        -0.00852391,  0.12242055, -0.00412117,  0.        , -0.01653983,\n",
              "         0.04107464,  0.11450649,  0.        ,  0.12086546,  0.07021603,\n",
              "         0.        ,  0.11142138], dtype=float32),\n",
              " array([[-0.22005549,  0.32747123],\n",
              "        [-0.18237986,  0.16666228],\n",
              "        [-1.3529282 ,  1.5976155 ],\n",
              "        [ 0.3104385 ,  0.21663578],\n",
              "        [-1.4095646 ,  1.5972984 ],\n",
              "        [-1.445357  ,  1.1749011 ],\n",
              "        [ 0.3339254 , -0.0968526 ],\n",
              "        [-1.1562368 ,  1.6174808 ],\n",
              "        [ 1.5430348 , -1.4064901 ],\n",
              "        [-1.5125686 ,  1.3964703 ],\n",
              "        [-0.17263134,  0.22609065],\n",
              "        [-0.28803128,  0.17047736],\n",
              "        [ 1.2797832 , -1.3126523 ],\n",
              "        [-1.5121615 ,  1.4072063 ],\n",
              "        [-1.7102244 ,  1.7526504 ],\n",
              "        [-1.504328  ,  1.301625  ],\n",
              "        [ 1.34048   , -1.4677656 ],\n",
              "        [-0.05639775,  0.23607615],\n",
              "        [-1.2382163 ,  1.269684  ],\n",
              "        [ 0.2219441 ,  0.17169595],\n",
              "        [-0.09294317, -0.12940453],\n",
              "        [ 1.4467684 , -1.3057832 ],\n",
              "        [ 0.18447311, -0.1981398 ],\n",
              "        [-0.08876112, -0.33685553],\n",
              "        [-0.30526847, -0.13905558],\n",
              "        [-1.348981  ,  1.5517979 ],\n",
              "        [ 1.6532334 , -1.0860733 ],\n",
              "        [ 0.05891177,  0.03133255],\n",
              "        [ 1.4684998 , -1.6900536 ],\n",
              "        [-1.7428557 ,  1.4060318 ],\n",
              "        [-0.3974451 , -0.22321641],\n",
              "        [ 1.5362493 , -1.6894962 ]], dtype=float32),\n",
              " array([ 0.03560843, -0.10700867], dtype=float32)]"
            ]
          },
          "metadata": {},
          "execution_count": 28
        }
      ],
      "source": [
        "model.get_weights()"
      ]
    },
    {
      "cell_type": "code",
      "execution_count": 31,
      "metadata": {
        "colab": {
          "base_uri": "https://localhost:8080/"
        },
        "id": "VYFG6z0sq4HP",
        "outputId": "7f85c204-3c7c-4986-db03-6c7650324a1e"
      },
      "outputs": [
        {
          "output_type": "stream",
          "name": "stdout",
          "text": [
            "Epoch 1/30\n",
            "99/99 [==============================] - 21s 135ms/step - loss: 0.6938 - accuracy: 0.4919 - val_loss: 0.6945 - val_accuracy: 0.4318\n",
            "Epoch 2/30\n",
            "99/99 [==============================] - 12s 125ms/step - loss: 0.6934 - accuracy: 0.4910 - val_loss: 0.6919 - val_accuracy: 0.5682\n",
            "Epoch 3/30\n",
            "99/99 [==============================] - 12s 122ms/step - loss: 0.6934 - accuracy: 0.4872 - val_loss: 0.6922 - val_accuracy: 0.5682\n",
            "Epoch 4/30\n",
            "99/99 [==============================] - 12s 116ms/step - loss: 0.6933 - accuracy: 0.5008 - val_loss: 0.6940 - val_accuracy: 0.4318\n",
            "Epoch 5/30\n",
            "99/99 [==============================] - 12s 119ms/step - loss: 0.6933 - accuracy: 0.4973 - val_loss: 0.6925 - val_accuracy: 0.5682\n",
            "Epoch 6/30\n",
            "99/99 [==============================] - 12s 124ms/step - loss: 0.6933 - accuracy: 0.4840 - val_loss: 0.6930 - val_accuracy: 0.5682\n",
            "Epoch 7/30\n",
            "99/99 [==============================] - 12s 126ms/step - loss: 0.6933 - accuracy: 0.5002 - val_loss: 0.6932 - val_accuracy: 0.4318\n",
            "Epoch 8/30\n",
            "99/99 [==============================] - 12s 125ms/step - loss: 0.6933 - accuracy: 0.5011 - val_loss: 0.6930 - val_accuracy: 0.5682\n",
            "Epoch 9/30\n",
            "99/99 [==============================] - 12s 125ms/step - loss: 0.6932 - accuracy: 0.4967 - val_loss: 0.6925 - val_accuracy: 0.5682\n",
            "Epoch 10/30\n",
            "99/99 [==============================] - 12s 126ms/step - loss: 0.6933 - accuracy: 0.4941 - val_loss: 0.6929 - val_accuracy: 0.5682\n",
            "Epoch 11/30\n",
            "99/99 [==============================] - 12s 124ms/step - loss: 0.6932 - accuracy: 0.5030 - val_loss: 0.6931 - val_accuracy: 0.5682\n",
            "Epoch 12/30\n",
            "99/99 [==============================] - 12s 124ms/step - loss: 0.6932 - accuracy: 0.4960 - val_loss: 0.6921 - val_accuracy: 0.5682\n",
            "Epoch 13/30\n",
            "99/99 [==============================] - 12s 123ms/step - loss: 0.6932 - accuracy: 0.5030 - val_loss: 0.6919 - val_accuracy: 0.5682\n",
            "Epoch 14/30\n",
            "99/99 [==============================] - 12s 125ms/step - loss: 0.6933 - accuracy: 0.4922 - val_loss: 0.6918 - val_accuracy: 0.5682\n",
            "Epoch 15/30\n",
            "99/99 [==============================] - 12s 125ms/step - loss: 0.6932 - accuracy: 0.5030 - val_loss: 0.6917 - val_accuracy: 0.5682\n",
            "Epoch 16/30\n",
            "99/99 [==============================] - 12s 123ms/step - loss: 0.6933 - accuracy: 0.5030 - val_loss: 0.6922 - val_accuracy: 0.5682\n",
            "Epoch 17/30\n",
            "99/99 [==============================] - 12s 125ms/step - loss: 0.6932 - accuracy: 0.5030 - val_loss: 0.6926 - val_accuracy: 0.5682\n",
            "Epoch 18/30\n",
            "99/99 [==============================] - 13s 127ms/step - loss: 0.6932 - accuracy: 0.4992 - val_loss: 0.6921 - val_accuracy: 0.5682\n",
            "Epoch 19/30\n",
            "99/99 [==============================] - 12s 125ms/step - loss: 0.6932 - accuracy: 0.5030 - val_loss: 0.6922 - val_accuracy: 0.5682\n",
            "Epoch 20/30\n",
            "99/99 [==============================] - 12s 125ms/step - loss: 0.6932 - accuracy: 0.5030 - val_loss: 0.6918 - val_accuracy: 0.5682\n",
            "Epoch 21/30\n",
            "99/99 [==============================] - 12s 124ms/step - loss: 0.6933 - accuracy: 0.5030 - val_loss: 0.6923 - val_accuracy: 0.5682\n",
            "Epoch 22/30\n",
            "99/99 [==============================] - 12s 125ms/step - loss: 0.6932 - accuracy: 0.5030 - val_loss: 0.6927 - val_accuracy: 0.5682\n",
            "Epoch 23/30\n",
            "99/99 [==============================] - 12s 122ms/step - loss: 0.6932 - accuracy: 0.5030 - val_loss: 0.6927 - val_accuracy: 0.5682\n",
            "Epoch 24/30\n",
            "99/99 [==============================] - 12s 117ms/step - loss: 0.6932 - accuracy: 0.5030 - val_loss: 0.6924 - val_accuracy: 0.5682\n",
            "Epoch 25/30\n",
            "99/99 [==============================] - 12s 120ms/step - loss: 0.6933 - accuracy: 0.4853 - val_loss: 0.6926 - val_accuracy: 0.5682\n",
            "Epoch 26/30\n",
            "99/99 [==============================] - 12s 123ms/step - loss: 0.6932 - accuracy: 0.5030 - val_loss: 0.6923 - val_accuracy: 0.5682\n",
            "Epoch 27/30\n",
            "99/99 [==============================] - 12s 125ms/step - loss: 0.6933 - accuracy: 0.5030 - val_loss: 0.6924 - val_accuracy: 0.5682\n",
            "Epoch 28/30\n",
            "99/99 [==============================] - 12s 125ms/step - loss: 0.6934 - accuracy: 0.4964 - val_loss: 0.6932 - val_accuracy: 0.4318\n",
            "Epoch 29/30\n",
            "99/99 [==============================] - 12s 125ms/step - loss: 0.6932 - accuracy: 0.5024 - val_loss: 0.6926 - val_accuracy: 0.5682\n",
            "Epoch 30/30\n",
            "99/99 [==============================] - 12s 125ms/step - loss: 0.6932 - accuracy: 0.5030 - val_loss: 0.6926 - val_accuracy: 0.5682\n"
          ]
        }
      ],
      "source": [
        "# Struktur model dengan GRU, Optimizer Adam\n",
        "model = tf.keras.Sequential([\n",
        "    tf.keras.layers.Embedding(NUM_WORDS, EMBEDDING_DIM, input_length=MAXLEN),\n",
        "    tf.keras.layers.GRU(units=32, return_sequences=True),\n",
        "    tf.keras.layers.GRU(units=16),\n",
        "    tf.keras.layers.Dense(units=2, activation='softmax')\n",
        "])\n",
        "\n",
        "model.compile(loss='binary_crossentropy', optimizer=tf.keras.optimizers.Adam(), metrics=['accuracy'])\n",
        "\n",
        "history = model.fit(train_padded_seq, train_labels_one_hot, epochs=30, validation_data=(val_padded_seq, test_labels_one_hot))"
      ]
    },
    {
      "cell_type": "code",
      "source": [
        "# Struktur model dengan GRU Optimizer SGD\n",
        "model = tf.keras.Sequential([\n",
        "    tf.keras.layers.Embedding(NUM_WORDS, EMBEDDING_DIM, input_length=MAXLEN),\n",
        "    tf.keras.layers.GRU(units=32, return_sequences=True),\n",
        "    tf.keras.layers.GRU(units=16),\n",
        "    tf.keras.layers.Dense(units=2, activation='softmax')\n",
        "])\n",
        "\n",
        "model.compile(loss='binary_crossentropy', optimizer=tf.keras.optimizers.SGD(), metrics=['accuracy'])\n",
        "\n",
        "history = model.fit(train_padded_seq, train_labels_one_hot, epochs=30, validation_data=(val_padded_seq, test_labels_one_hot))"
      ],
      "metadata": {
        "colab": {
          "base_uri": "https://localhost:8080/"
        },
        "id": "bjgtxM5ufMLG",
        "outputId": "f75b3214-1723-4c10-b324-e1db36536312"
      },
      "execution_count": 32,
      "outputs": [
        {
          "output_type": "stream",
          "name": "stdout",
          "text": [
            "Epoch 1/30\n",
            "99/99 [==============================] - 17s 131ms/step - loss: 0.6933 - accuracy: 0.4926 - val_loss: 0.6933 - val_accuracy: 0.4318\n",
            "Epoch 2/30\n",
            "99/99 [==============================] - 12s 123ms/step - loss: 0.6933 - accuracy: 0.4884 - val_loss: 0.6929 - val_accuracy: 0.5682\n",
            "Epoch 3/30\n",
            "99/99 [==============================] - 12s 120ms/step - loss: 0.6933 - accuracy: 0.4998 - val_loss: 0.6930 - val_accuracy: 0.5682\n",
            "Epoch 4/30\n",
            "99/99 [==============================] - 12s 116ms/step - loss: 0.6933 - accuracy: 0.4967 - val_loss: 0.6927 - val_accuracy: 0.5682\n",
            "Epoch 5/30\n",
            "99/99 [==============================] - 12s 118ms/step - loss: 0.6933 - accuracy: 0.4948 - val_loss: 0.6925 - val_accuracy: 0.5682\n",
            "Epoch 6/30\n",
            "99/99 [==============================] - 12s 122ms/step - loss: 0.6932 - accuracy: 0.5027 - val_loss: 0.6932 - val_accuracy: 0.4318\n",
            "Epoch 7/30\n",
            "99/99 [==============================] - 12s 123ms/step - loss: 0.6932 - accuracy: 0.4967 - val_loss: 0.6918 - val_accuracy: 0.5682\n",
            "Epoch 8/30\n",
            "99/99 [==============================] - 12s 122ms/step - loss: 0.6933 - accuracy: 0.5030 - val_loss: 0.6924 - val_accuracy: 0.5682\n",
            "Epoch 9/30\n",
            "99/99 [==============================] - 12s 123ms/step - loss: 0.6932 - accuracy: 0.5030 - val_loss: 0.6926 - val_accuracy: 0.5682\n",
            "Epoch 10/30\n",
            "99/99 [==============================] - 12s 124ms/step - loss: 0.6932 - accuracy: 0.4878 - val_loss: 0.6920 - val_accuracy: 0.5682\n",
            "Epoch 11/30\n",
            "99/99 [==============================] - 12s 122ms/step - loss: 0.6933 - accuracy: 0.4954 - val_loss: 0.6921 - val_accuracy: 0.5682\n",
            "Epoch 12/30\n",
            "99/99 [==============================] - 12s 121ms/step - loss: 0.6933 - accuracy: 0.4960 - val_loss: 0.6921 - val_accuracy: 0.5682\n",
            "Epoch 13/30\n",
            "99/99 [==============================] - 12s 123ms/step - loss: 0.6932 - accuracy: 0.4954 - val_loss: 0.6925 - val_accuracy: 0.5682\n",
            "Epoch 14/30\n",
            "99/99 [==============================] - 12s 123ms/step - loss: 0.6933 - accuracy: 0.5030 - val_loss: 0.6924 - val_accuracy: 0.5682\n",
            "Epoch 15/30\n",
            "99/99 [==============================] - 12s 122ms/step - loss: 0.6933 - accuracy: 0.5005 - val_loss: 0.6929 - val_accuracy: 0.5682\n",
            "Epoch 16/30\n",
            "99/99 [==============================] - 12s 123ms/step - loss: 0.6933 - accuracy: 0.4859 - val_loss: 0.6924 - val_accuracy: 0.5682\n",
            "Epoch 17/30\n",
            "99/99 [==============================] - 12s 126ms/step - loss: 0.6932 - accuracy: 0.4954 - val_loss: 0.6923 - val_accuracy: 0.5682\n",
            "Epoch 18/30\n",
            "99/99 [==============================] - 12s 117ms/step - loss: 0.6932 - accuracy: 0.4998 - val_loss: 0.6929 - val_accuracy: 0.5682\n",
            "Epoch 19/30\n",
            "99/99 [==============================] - 12s 120ms/step - loss: 0.6933 - accuracy: 0.4973 - val_loss: 0.6929 - val_accuracy: 0.5682\n",
            "Epoch 20/30\n",
            "99/99 [==============================] - 12s 117ms/step - loss: 0.6933 - accuracy: 0.4954 - val_loss: 0.6928 - val_accuracy: 0.5682\n",
            "Epoch 21/30\n",
            "99/99 [==============================] - 12s 122ms/step - loss: 0.6932 - accuracy: 0.4967 - val_loss: 0.6921 - val_accuracy: 0.5682\n",
            "Epoch 22/30\n",
            "99/99 [==============================] - 12s 123ms/step - loss: 0.6933 - accuracy: 0.5030 - val_loss: 0.6921 - val_accuracy: 0.5682\n",
            "Epoch 23/30\n",
            "99/99 [==============================] - 12s 122ms/step - loss: 0.6933 - accuracy: 0.4910 - val_loss: 0.6917 - val_accuracy: 0.5682\n",
            "Epoch 24/30\n",
            "99/99 [==============================] - 12s 124ms/step - loss: 0.6933 - accuracy: 0.5030 - val_loss: 0.6922 - val_accuracy: 0.5682\n",
            "Epoch 25/30\n",
            "99/99 [==============================] - 12s 122ms/step - loss: 0.6933 - accuracy: 0.4935 - val_loss: 0.6918 - val_accuracy: 0.5682\n",
            "Epoch 26/30\n",
            "99/99 [==============================] - 12s 124ms/step - loss: 0.6933 - accuracy: 0.5030 - val_loss: 0.6921 - val_accuracy: 0.5682\n",
            "Epoch 27/30\n",
            "99/99 [==============================] - 12s 125ms/step - loss: 0.6933 - accuracy: 0.5030 - val_loss: 0.6927 - val_accuracy: 0.5682\n",
            "Epoch 28/30\n",
            "99/99 [==============================] - 12s 122ms/step - loss: 0.6932 - accuracy: 0.4986 - val_loss: 0.6928 - val_accuracy: 0.5682\n",
            "Epoch 29/30\n",
            "99/99 [==============================] - 12s 123ms/step - loss: 0.6933 - accuracy: 0.4973 - val_loss: 0.6927 - val_accuracy: 0.5682\n",
            "Epoch 30/30\n",
            "99/99 [==============================] - 12s 123ms/step - loss: 0.6933 - accuracy: 0.4948 - val_loss: 0.6925 - val_accuracy: 0.5682\n"
          ]
        }
      ]
    },
    {
      "cell_type": "code",
      "execution_count": 33,
      "metadata": {
        "colab": {
          "base_uri": "https://localhost:8080/"
        },
        "id": "f2iUdZGgs3jS",
        "outputId": "6129a563-415c-413e-e95d-f8a05cdfe0fc"
      },
      "outputs": [
        {
          "output_type": "stream",
          "name": "stdout",
          "text": [
            "Epoch 1/30\n",
            "99/99 [==============================] - 7s 32ms/step - loss: 0.6937 - accuracy: 0.5030 - val_loss: 0.6924 - val_accuracy: 0.5682\n",
            "Epoch 2/30\n",
            "99/99 [==============================] - 3s 34ms/step - loss: 0.6937 - accuracy: 0.4897 - val_loss: 0.6923 - val_accuracy: 0.5682\n",
            "Epoch 3/30\n",
            "99/99 [==============================] - 3s 29ms/step - loss: 0.6934 - accuracy: 0.4995 - val_loss: 0.6962 - val_accuracy: 0.4318\n",
            "Epoch 4/30\n",
            "99/99 [==============================] - 3s 26ms/step - loss: 0.6935 - accuracy: 0.4976 - val_loss: 0.6955 - val_accuracy: 0.4318\n",
            "Epoch 5/30\n",
            "99/99 [==============================] - 2s 24ms/step - loss: 0.6935 - accuracy: 0.4992 - val_loss: 0.6908 - val_accuracy: 0.5682\n",
            "Epoch 6/30\n",
            "99/99 [==============================] - 3s 25ms/step - loss: 0.6936 - accuracy: 0.4884 - val_loss: 0.6907 - val_accuracy: 0.5682\n",
            "Epoch 7/30\n",
            "99/99 [==============================] - 4s 37ms/step - loss: 0.6937 - accuracy: 0.4929 - val_loss: 0.6897 - val_accuracy: 0.5682\n",
            "Epoch 8/30\n",
            "99/99 [==============================] - 2s 25ms/step - loss: 0.6937 - accuracy: 0.4986 - val_loss: 0.6890 - val_accuracy: 0.5682\n",
            "Epoch 9/30\n",
            "99/99 [==============================] - 3s 25ms/step - loss: 0.6935 - accuracy: 0.4910 - val_loss: 0.6915 - val_accuracy: 0.5682\n",
            "Epoch 10/30\n",
            "99/99 [==============================] - 3s 26ms/step - loss: 0.6936 - accuracy: 0.4998 - val_loss: 0.6885 - val_accuracy: 0.5682\n",
            "Epoch 11/30\n",
            "99/99 [==============================] - 3s 26ms/step - loss: 0.6934 - accuracy: 0.4941 - val_loss: 0.6918 - val_accuracy: 0.5682\n",
            "Epoch 12/30\n",
            "99/99 [==============================] - 4s 36ms/step - loss: 0.6934 - accuracy: 0.4998 - val_loss: 0.6903 - val_accuracy: 0.5682\n",
            "Epoch 13/30\n",
            "99/99 [==============================] - 3s 30ms/step - loss: 0.6935 - accuracy: 0.4935 - val_loss: 0.6887 - val_accuracy: 0.5682\n",
            "Epoch 14/30\n",
            "99/99 [==============================] - 4s 43ms/step - loss: 0.6934 - accuracy: 0.5011 - val_loss: 0.6922 - val_accuracy: 0.5682\n",
            "Epoch 15/30\n",
            "99/99 [==============================] - 5s 49ms/step - loss: 0.6935 - accuracy: 0.4948 - val_loss: 0.6926 - val_accuracy: 0.5682\n",
            "Epoch 16/30\n",
            "99/99 [==============================] - 5s 50ms/step - loss: 0.6933 - accuracy: 0.4878 - val_loss: 0.6915 - val_accuracy: 0.5682\n",
            "Epoch 17/30\n",
            "99/99 [==============================] - 3s 29ms/step - loss: 0.6939 - accuracy: 0.4948 - val_loss: 0.6919 - val_accuracy: 0.5682\n",
            "Epoch 18/30\n",
            "99/99 [==============================] - 2s 25ms/step - loss: 0.6937 - accuracy: 0.4983 - val_loss: 0.6948 - val_accuracy: 0.4318\n",
            "Epoch 19/30\n",
            "99/99 [==============================] - 4s 36ms/step - loss: 0.6936 - accuracy: 0.4859 - val_loss: 0.6920 - val_accuracy: 0.5682\n",
            "Epoch 20/30\n",
            "99/99 [==============================] - 2s 25ms/step - loss: 0.6934 - accuracy: 0.4960 - val_loss: 0.6915 - val_accuracy: 0.5682\n",
            "Epoch 21/30\n",
            "99/99 [==============================] - 2s 25ms/step - loss: 0.6936 - accuracy: 0.4995 - val_loss: 0.6938 - val_accuracy: 0.4318\n",
            "Epoch 22/30\n",
            "99/99 [==============================] - 3s 26ms/step - loss: 0.6934 - accuracy: 0.4929 - val_loss: 0.6900 - val_accuracy: 0.5682\n",
            "Epoch 23/30\n",
            "99/99 [==============================] - 3s 29ms/step - loss: 0.6936 - accuracy: 0.4935 - val_loss: 0.6931 - val_accuracy: 0.5682\n",
            "Epoch 24/30\n",
            "99/99 [==============================] - 3s 33ms/step - loss: 0.6937 - accuracy: 0.5017 - val_loss: 0.6912 - val_accuracy: 0.5682\n",
            "Epoch 25/30\n",
            "99/99 [==============================] - 3s 26ms/step - loss: 0.6935 - accuracy: 0.5059 - val_loss: 0.6960 - val_accuracy: 0.4318\n",
            "Epoch 26/30\n",
            "99/99 [==============================] - 2s 25ms/step - loss: 0.6931 - accuracy: 0.5068 - val_loss: 0.6892 - val_accuracy: 0.5682\n",
            "Epoch 27/30\n",
            "99/99 [==============================] - 2s 24ms/step - loss: 0.6939 - accuracy: 0.4941 - val_loss: 0.6913 - val_accuracy: 0.5682\n",
            "Epoch 28/30\n",
            "99/99 [==============================] - 3s 33ms/step - loss: 0.6935 - accuracy: 0.5040 - val_loss: 0.6956 - val_accuracy: 0.4318\n",
            "Epoch 29/30\n",
            "99/99 [==============================] - 3s 28ms/step - loss: 0.6936 - accuracy: 0.4865 - val_loss: 0.6905 - val_accuracy: 0.5682\n",
            "Epoch 30/30\n",
            "99/99 [==============================] - 3s 26ms/step - loss: 0.6935 - accuracy: 0.4929 - val_loss: 0.6909 - val_accuracy: 0.5682\n",
            "11/11 [==============================] - 0s 21ms/step - loss: 0.6909 - accuracy: 0.5682\n",
            "Loss: 0.6909369230270386\n",
            "Accuracy: 0.5681818127632141\n"
          ]
        }
      ],
      "source": [
        "# Membekukan lapisan dan menambahkan lapisan\n",
        "# Mengubah representasi label asli menjadi kelas tunggal\n",
        "train_labels_single = np.argmax(train_labels_one_hot, axis=1)\n",
        "test_labels_single = np.argmax(test_labels_one_hot, axis=1)\n",
        "\n",
        "# Membekukan lapisan-lapisan pada model dasar\n",
        "for layer in model.layers:\n",
        "    layer.trainable = False\n",
        "\n",
        "# Menambahkan lapisan baru di atas model dasar\n",
        "model.add(tf.keras.layers.Dense(64, activation='relu'))\n",
        "model.add(tf.keras.layers.Dense(1, activation='sigmoid'))\n",
        "\n",
        "# Melatih model fine-tuning\n",
        "model.compile(optimizer='adam', loss='binary_crossentropy', metrics=['accuracy'])\n",
        "history_fine_tuning = model.fit(train_padded_seq, train_labels_single, epochs=30, validation_data=(val_padded_seq, test_labels_single))\n",
        "\n",
        "# Evaluasi model fine-tuning\n",
        "loss, accuracy = model.evaluate(val_padded_seq, test_labels_single)\n",
        "print(f\"Loss: {loss}\")\n",
        "print(f\"Accuracy: {accuracy}\")"
      ]
    },
    {
      "cell_type": "code",
      "source": [
        "# Membekukan lapisan dan menambahkan lapisan optimizer SGD\n",
        "# Mengubah representasi label asli menjadi kelas tunggal\n",
        "train_labels_single = np.argmax(train_labels_one_hot, axis=1)\n",
        "test_labels_single = np.argmax(test_labels_one_hot, axis=1)\n",
        "\n",
        "# Membekukan lapisan-lapisan pada model dasar\n",
        "for layer in model.layers:\n",
        "    layer.trainable = False\n",
        "\n",
        "# Menambahkan lapisan baru di atas model dasar (Optimizer = 'sgd')\n",
        "\n",
        "model.add(tf.keras.layers.Dense(64, activation='relu'))\n",
        "model.add(tf.keras.layers.Dense(1, activation='sigmoid'))\n",
        "\n",
        "# Melatih model fine-tuning\n",
        "model.compile(optimizer='sgd', loss='binary_crossentropy', metrics=['accuracy'])\n",
        "history_fine_tuning = model.fit(train_padded_seq, train_labels_single, epochs=30, validation_data=(val_padded_seq, test_labels_single))\n",
        "\n",
        "# Evaluasi model fine-tuning\n",
        "loss, accuracy = model.evaluate(val_padded_seq, test_labels_single)\n",
        "print(f\"Loss: {loss}\")\n",
        "print(f\"Accuracy: {accuracy}\")"
      ],
      "metadata": {
        "colab": {
          "base_uri": "https://localhost:8080/"
        },
        "id": "DthfY8zAfz7b",
        "outputId": "616cd2e4-c412-4ce4-9035-1de928685989"
      },
      "execution_count": 34,
      "outputs": [
        {
          "output_type": "stream",
          "name": "stdout",
          "text": [
            "Epoch 1/30\n",
            "99/99 [==============================] - 9s 47ms/step - loss: 0.6938 - accuracy: 0.4897 - val_loss: 0.6906 - val_accuracy: 0.5682\n",
            "Epoch 2/30\n",
            "99/99 [==============================] - 3s 26ms/step - loss: 0.6935 - accuracy: 0.4941 - val_loss: 0.6901 - val_accuracy: 0.5682\n",
            "Epoch 3/30\n",
            "99/99 [==============================] - 3s 27ms/step - loss: 0.6935 - accuracy: 0.5030 - val_loss: 0.6905 - val_accuracy: 0.5682\n",
            "Epoch 4/30\n",
            "99/99 [==============================] - 3s 27ms/step - loss: 0.6933 - accuracy: 0.4922 - val_loss: 0.6920 - val_accuracy: 0.5682\n",
            "Epoch 5/30\n",
            "99/99 [==============================] - 4s 37ms/step - loss: 0.6934 - accuracy: 0.5021 - val_loss: 0.6946 - val_accuracy: 0.4318\n",
            "Epoch 6/30\n",
            "99/99 [==============================] - 3s 27ms/step - loss: 0.6935 - accuracy: 0.4900 - val_loss: 0.6939 - val_accuracy: 0.4318\n",
            "Epoch 7/30\n",
            "99/99 [==============================] - 3s 27ms/step - loss: 0.6934 - accuracy: 0.4929 - val_loss: 0.6907 - val_accuracy: 0.5682\n",
            "Epoch 8/30\n",
            "99/99 [==============================] - 3s 26ms/step - loss: 0.6934 - accuracy: 0.4903 - val_loss: 0.6903 - val_accuracy: 0.5682\n",
            "Epoch 9/30\n",
            "99/99 [==============================] - 3s 30ms/step - loss: 0.6933 - accuracy: 0.4973 - val_loss: 0.6927 - val_accuracy: 0.5682\n",
            "Epoch 10/30\n",
            "99/99 [==============================] - 4s 36ms/step - loss: 0.6935 - accuracy: 0.4967 - val_loss: 0.6899 - val_accuracy: 0.5682\n",
            "Epoch 11/30\n",
            "99/99 [==============================] - 3s 28ms/step - loss: 0.6935 - accuracy: 0.4935 - val_loss: 0.6915 - val_accuracy: 0.5682\n",
            "Epoch 12/30\n",
            "99/99 [==============================] - 3s 27ms/step - loss: 0.6937 - accuracy: 0.4935 - val_loss: 0.6923 - val_accuracy: 0.5682\n",
            "Epoch 13/30\n",
            "99/99 [==============================] - 3s 27ms/step - loss: 0.6934 - accuracy: 0.4916 - val_loss: 0.6911 - val_accuracy: 0.5682\n",
            "Epoch 14/30\n",
            "99/99 [==============================] - 4s 38ms/step - loss: 0.6934 - accuracy: 0.5046 - val_loss: 0.6936 - val_accuracy: 0.4318\n",
            "Epoch 15/30\n",
            "99/99 [==============================] - 3s 26ms/step - loss: 0.6933 - accuracy: 0.5043 - val_loss: 0.6909 - val_accuracy: 0.5682\n",
            "Epoch 16/30\n",
            "99/99 [==============================] - 3s 27ms/step - loss: 0.6933 - accuracy: 0.5030 - val_loss: 0.6925 - val_accuracy: 0.5682\n",
            "Epoch 17/30\n",
            "99/99 [==============================] - 3s 27ms/step - loss: 0.6937 - accuracy: 0.4998 - val_loss: 0.6899 - val_accuracy: 0.5682\n",
            "Epoch 18/30\n",
            "99/99 [==============================] - 3s 32ms/step - loss: 0.6934 - accuracy: 0.4960 - val_loss: 0.6917 - val_accuracy: 0.5682\n",
            "Epoch 19/30\n",
            "99/99 [==============================] - 3s 32ms/step - loss: 0.6933 - accuracy: 0.5030 - val_loss: 0.6934 - val_accuracy: 0.4318\n",
            "Epoch 20/30\n",
            "99/99 [==============================] - 3s 27ms/step - loss: 0.6934 - accuracy: 0.4903 - val_loss: 0.6928 - val_accuracy: 0.5682\n",
            "Epoch 21/30\n",
            "99/99 [==============================] - 3s 33ms/step - loss: 0.6933 - accuracy: 0.4979 - val_loss: 0.6897 - val_accuracy: 0.5682\n",
            "Epoch 22/30\n",
            "99/99 [==============================] - 3s 31ms/step - loss: 0.6934 - accuracy: 0.5030 - val_loss: 0.6915 - val_accuracy: 0.5682\n",
            "Epoch 23/30\n",
            "99/99 [==============================] - 4s 35ms/step - loss: 0.6933 - accuracy: 0.4960 - val_loss: 0.6914 - val_accuracy: 0.5682\n",
            "Epoch 24/30\n",
            "99/99 [==============================] - 3s 27ms/step - loss: 0.6933 - accuracy: 0.5030 - val_loss: 0.6914 - val_accuracy: 0.5682\n",
            "Epoch 25/30\n",
            "99/99 [==============================] - 3s 27ms/step - loss: 0.6934 - accuracy: 0.5046 - val_loss: 0.6938 - val_accuracy: 0.4318\n",
            "Epoch 26/30\n",
            "99/99 [==============================] - 4s 43ms/step - loss: 0.6934 - accuracy: 0.5011 - val_loss: 0.6908 - val_accuracy: 0.5682\n",
            "Epoch 27/30\n",
            "99/99 [==============================] - 3s 33ms/step - loss: 0.6934 - accuracy: 0.4989 - val_loss: 0.6931 - val_accuracy: 0.5682\n",
            "Epoch 28/30\n",
            "99/99 [==============================] - 3s 26ms/step - loss: 0.6933 - accuracy: 0.4983 - val_loss: 0.6932 - val_accuracy: 0.4318\n",
            "Epoch 29/30\n",
            "99/99 [==============================] - 3s 27ms/step - loss: 0.6935 - accuracy: 0.5014 - val_loss: 0.6954 - val_accuracy: 0.4318\n",
            "Epoch 30/30\n",
            "99/99 [==============================] - 3s 28ms/step - loss: 0.6936 - accuracy: 0.4834 - val_loss: 0.6930 - val_accuracy: 0.5682\n",
            "11/11 [==============================] - 0s 22ms/step - loss: 0.6930 - accuracy: 0.5682\n",
            "Loss: 0.692973792552948\n",
            "Accuracy: 0.5681818127632141\n"
          ]
        }
      ]
    }
  ],
  "metadata": {
    "colab": {
      "provenance": []
    },
    "kernelspec": {
      "display_name": "Python 3.10.7 64-bit",
      "language": "python",
      "name": "python3"
    },
    "language_info": {
      "codemirror_mode": {
        "name": "ipython",
        "version": 3
      },
      "file_extension": ".py",
      "mimetype": "text/x-python",
      "name": "python",
      "nbconvert_exporter": "python",
      "pygments_lexer": "ipython3",
      "version": "3.10.7"
    },
    "vscode": {
      "interpreter": {
        "hash": "bed3b92dedaca74de8f0a13833bbbd67bbdaaa544f0c2aa325c872f95f3ec5b2"
      }
    }
  },
  "nbformat": 4,
  "nbformat_minor": 0
}