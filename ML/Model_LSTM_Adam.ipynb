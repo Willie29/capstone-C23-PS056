{
  "cells": [
    {
      "cell_type": "code",
      "execution_count": 1,
      "metadata": {
        "id": "5lR0uvOoiCSs"
      },
      "outputs": [],
      "source": [
        "#Import Library\n",
        "import tensorflow as tf\n",
        "import pandas as pd\n",
        "import matplotlib.pyplot as plt\n",
        "from tensorflow.keras.preprocessing.text import Tokenizer\n",
        "from tensorflow.keras.preprocessing.sequence import pad_sequences\n",
        "import requests\n",
        "import numpy as np\n",
        "from sklearn.preprocessing import LabelEncoder\n",
        "from tensorflow.keras.layers import Embedding, LSTM, Dense, Bidirectional, GRU\n",
        "from tensorflow.keras import regularizers"
      ]
    },
    {
      "cell_type": "code",
      "execution_count": 2,
      "metadata": {
        "id": "rllPSi38iOzC"
      },
      "outputs": [],
      "source": [
        "#global variable\n",
        "NUM_WORDS = 1000\n",
        "OOV_TOKEN = \"<OOV>\"\n",
        "PADDING = 'post'\n",
        "MAXLEN = 120\n",
        "EMBEDDING_DIM = 16"
      ]
    },
    {
      "cell_type": "code",
      "execution_count": 3,
      "metadata": {
        "id": "65qUSIjFiVZ-"
      },
      "outputs": [],
      "source": [
        "#Retrieve DS from Github\n",
        "dataset_link = 'https://raw.githubusercontent.com/Willie29/capstone-C23-PS056/main/ML/Dataset_Combined.csv'\n",
        "response = requests.get(dataset_link)"
      ]
    },
    {
      "cell_type": "code",
      "execution_count": 4,
      "metadata": {
        "colab": {
          "base_uri": "https://localhost:8080/"
        },
        "id": "UpAhfBuqicL_",
        "outputId": "6413ca81-496b-48bf-ee25-dd294ff15d3b"
      },
      "outputs": [
        {
          "output_type": "stream",
          "name": "stdout",
          "text": [
            "       Label                                              Tweet\n",
            "1591  Non_HS  Anjing itu melompati pagar dengan lincah untuk...\n",
            "2362      HS                  Bacot, gaya sama otak timpang doi\n",
            "1769      HS  Tangkap Ahok sekarang juga, koruptor reklamasi...\n",
            "1478  Non_HS                  Anjing itu mendengkur saat tidur.\n",
            "2555      HS  Brengsek itu bukan di liat dari ganteng/cantik...\n",
            "\n",
            "\n",
            "       Label                                              Tweet\n",
            "517   Non_HS  sentiasa ingatkan diri jangan selalu tunjukkan...\n",
            "2471      HS                          0 kata buat lo!! BAJINGAN\n",
            "3379      HS  Mampus lu bangsat. Di cuekin ibu ibu.. ngabisi...\n",
            "1083  Non_HS  hari ini aku belajar sesuatu aku belajar untuk...\n",
            "3008      HS  RATU PELAKOR SEJAGAT RAYA, DIMANA2 LONTE YA GA...\n"
          ]
        }
      ],
      "source": [
        "data = pd.read_csv('https://raw.githubusercontent.com/Willie29/capstone-C23-PS056/main/ML/Dataset_Combined.csv')\n",
        "# Identify Unnamed columns\n",
        "unnamed_columns = [col for col in data.columns if 'Unnamed' in col]\n",
        "\n",
        "# Drop Unnamed columns\n",
        "data = data.drop(unnamed_columns, axis=1)\n",
        "#shuffle data\n",
        "data = data.sample(frac=1)\n",
        "\n",
        "print(data.head())\n",
        "print(\"\\n\")\n",
        "print(data.tail())"
      ]
    },
    {
      "cell_type": "code",
      "execution_count": 5,
      "metadata": {
        "colab": {
          "base_uri": "https://localhost:8080/"
        },
        "id": "tqHwNz8Miiz6",
        "outputId": "191f663d-57c6-43cd-bc36-a37be8b32062"
      },
      "outputs": [
        {
          "output_type": "execute_result",
          "data": {
            "text/plain": [
              "HS        1722\n",
              "Non_HS    1688\n",
              "Name: Label, dtype: int64"
            ]
          },
          "metadata": {},
          "execution_count": 5
        }
      ],
      "source": [
        "data['Label'].value_counts()"
      ]
    },
    {
      "cell_type": "code",
      "execution_count": 6,
      "metadata": {
        "id": "BIUMesqJjnYU"
      },
      "outputs": [],
      "source": [
        "def parse_data(data):\n",
        "    labels = []\n",
        "    tweets = []\n",
        "\n",
        "    for _, row in data.iterrows():\n",
        "        cond = (0 if row['Label'] == \"HS\" else 1)\n",
        "        labels.append(cond)\n",
        "        tweets.append(row['Tweet'])\n",
        "\n",
        "    return labels, tweets\n",
        "\n",
        "# Assuming 'data' is your DataFrame\n",
        "labels, tweets = parse_data(data)"
      ]
    },
    {
      "cell_type": "code",
      "execution_count": 7,
      "metadata": {
        "colab": {
          "base_uri": "https://localhost:8080/"
        },
        "id": "uq6tsGbFjvMZ",
        "outputId": "b8875ea2-aa43-4a45-e77f-5affe5f495bf"
      },
      "outputs": [
        {
          "output_type": "stream",
          "name": "stdout",
          "text": [
            "Example number in dataset is 3410 examples\n",
            "\n",
            "2nd example:\n",
            "Bacot, gaya sama otak timpang doi\n",
            "\n",
            "Last example:\n",
            "RATU PELAKOR SEJAGAT RAYA, DIMANA2 LONTE YA GAK PUNYA MALU. yang NGERASA LONTE DISINI TOLONG PUNYA MALU DIKIT\n"
          ]
        }
      ],
      "source": [
        "print(f\"Example number in dataset is {len(tweets)} examples\\n\")\n",
        "\n",
        "print(f\"2nd example:\\n{tweets[1]}\\n\")\n",
        "print(f\"Last example:\\n{tweets[-1]}\")"
      ]
    },
    {
      "cell_type": "code",
      "execution_count": 8,
      "metadata": {
        "id": "szc3TGZBj71A"
      },
      "outputs": [],
      "source": [
        "#90-10 ratio train-test\n",
        "def train_test_split(labels,tweets):\n",
        "    train_size = int(len(tweets) * 0.9)\n",
        "\n",
        "    train_labels = labels[:train_size]\n",
        "    train_tweets = tweets[:train_size]\n",
        "\n",
        "    test_labels = labels[train_size:]\n",
        "    test_tweets = tweets[train_size:]\n",
        "\n",
        "    return train_labels, train_tweets, test_labels, test_tweets"
      ]
    },
    {
      "cell_type": "code",
      "execution_count": 9,
      "metadata": {
        "colab": {
          "base_uri": "https://localhost:8080/"
        },
        "id": "GSLA9EVIj-M_",
        "outputId": "b60b6f59-177a-4316-f460-899bc415695b"
      },
      "outputs": [
        {
          "output_type": "stream",
          "name": "stdout",
          "text": [
            " 3069 sentences for training.\n",
            " 3069 labels for training.\n",
            " 341 sentences for validation.\n",
            " 341 labels for validation.\n"
          ]
        }
      ],
      "source": [
        "train_labels, train_tweets, test_labels, test_tweets = train_test_split(labels, tweets)\n",
        "\n",
        "print(f\" {len(train_labels)} sentences for training.\")\n",
        "print(f\" {len(train_tweets)} labels for training.\")\n",
        "print(f\" {len(test_labels)} sentences for validation.\")\n",
        "print(f\" {len(test_tweets)} labels for validation.\")"
      ]
    },
    {
      "cell_type": "code",
      "execution_count": 10,
      "metadata": {
        "colab": {
          "base_uri": "https://localhost:8080/"
        },
        "id": "ZhGc3XwgkJpO",
        "outputId": "eecb3395-6eac-481e-88e4-49126557b87f"
      },
      "outputs": [
        {
          "output_type": "stream",
          "name": "stdout",
          "text": [
            "['Anjing itu melompati pagar dengan lincah untuk mengejar bola yang dilemparkan.', 'Bacot, gaya sama otak timpang doi', 'Tangkap Ahok sekarang juga, koruptor reklamasi Jakarta dan penista Agama Islam.']\n",
            "[1, 0, 0]\n",
            "['Terlalu anjing untuk di ingat, terlalu bangsat untuk dikenang, terlalu sampah untuk merindu. Aku wes ora peduli ~', 'Dan soal soal ribut-ribut pribumi vs non pribumi yang ramai di beranda saya itu, sebenarnya maksudnya apa? ikut...', 'cewe itu gak selama nya bisa sabar ngadepin kelakukan bajingan laki-laki']\n",
            "[0, 1, 0]\n"
          ]
        }
      ],
      "source": [
        "print(train_tweets[:3])\n",
        "print(train_labels[:3])\n",
        "print(test_tweets[:3])\n",
        "print(test_labels[:3])"
      ]
    },
    {
      "cell_type": "code",
      "execution_count": 11,
      "metadata": {
        "id": "bWXZGhsYkL48"
      },
      "outputs": [],
      "source": [
        "#tokenizer function\n",
        "def fit_tokenizer(train_sentences, num_words, oov_token):\n",
        "    tokenizer = Tokenizer(num_words = num_words, oov_token = oov_token)\n",
        "    tokenizer.fit_on_texts(train_sentences)\n",
        "    return tokenizer"
      ]
    },
    {
      "cell_type": "code",
      "execution_count": 12,
      "metadata": {
        "id": "iFo41zctkRiu"
      },
      "outputs": [],
      "source": [
        "#buat test doang\n",
        "def lowercase(list_sentence):\n",
        "    lower_sentence = list_sentence\n",
        "    for i in range(len(list_sentence)):\n",
        "        lower_sentence[i] = lower_sentence[i].lower()\n",
        "    return lower_sentence"
      ]
    },
    {
      "cell_type": "code",
      "execution_count": 13,
      "metadata": {
        "colab": {
          "base_uri": "https://localhost:8080/"
        },
        "id": "yK4DKQfkkZpw",
        "outputId": "7774876f-d533-4266-f1be-97061a10ced6"
      },
      "outputs": [
        {
          "output_type": "stream",
          "name": "stdout",
          "text": [
            "Vocabulary contains 8392 words\n",
            "\n",
            "<OOV> token included in vocabulary\n"
          ]
        }
      ],
      "source": [
        "#tokenize sentence\n",
        "#test_tweets1 = test_tweets[0].lower()\n",
        "#test_tweets1 = test_tweets1.lower()\n",
        "lower_train_tweets = lowercase(train_tweets)\n",
        "tokenizer = fit_tokenizer(lower_train_tweets, NUM_WORDS, OOV_TOKEN)\n",
        "word_index = tokenizer.word_index\n",
        "print(f\"Vocabulary contains {len(word_index)} words\\n\")\n",
        "print(\"<OOV> token included in vocabulary\" if \"<OOV>\" in word_index else \"<OOV> token NOT included in vocabulary\")"
      ]
    },
    {
      "cell_type": "code",
      "execution_count": 14,
      "metadata": {
        "id": "SvbQ_erJkghY"
      },
      "outputs": [],
      "source": [
        "#seq and padding function\n",
        "def seq_and_pad(sentences, tokenizer, padding, maxlen):\n",
        "    sequences = tokenizer.texts_to_sequences(sentences)\n",
        "    padded_sequences = pad_sequences(sequences, maxlen = maxlen, padding = padding)\n",
        "    return padded_sequences"
      ]
    },
    {
      "cell_type": "code",
      "execution_count": 15,
      "metadata": {
        "colab": {
          "base_uri": "https://localhost:8080/"
        },
        "id": "WXcSFp26kkbq",
        "outputId": "f74ab004-6802-4214-9dff-2358f0ceb589"
      },
      "outputs": [
        {
          "output_type": "stream",
          "name": "stdout",
          "text": [
            "Padded training sequences have shape: (3069, 120)\n",
            "\n",
            "Padded validation sequences have shape: (341, 120)\n"
          ]
        }
      ],
      "source": [
        "#seq and padding sentence\n",
        "lower_val_tweets = lowercase(test_tweets)\n",
        "train_padded_seq = seq_and_pad(lower_train_tweets, tokenizer, PADDING, MAXLEN)\n",
        "val_padded_seq = seq_and_pad(lower_val_tweets, tokenizer, PADDING, MAXLEN)\n",
        "print(f\"Padded training sequences have shape: {train_padded_seq.shape}\\n\")\n",
        "print(f\"Padded validation sequences have shape: {val_padded_seq.shape}\")"
      ]
    },
    {
      "cell_type": "code",
      "execution_count": 16,
      "metadata": {
        "id": "o4GpRdLukpfJ"
      },
      "outputs": [],
      "source": [
        "#Model Structure\n",
        "model = tf.keras.Sequential([\n",
        "    tf.keras.layers.Embedding(NUM_WORDS, EMBEDDING_DIM, input_length = MAXLEN),\n",
        "    tf.keras.layers.GlobalAveragePooling1D(),\n",
        "    tf.keras.layers.Dense(units = 32, activation= 'relu'),\n",
        "    tf.keras.layers.Dense(units = 2, activation='softmax')\n",
        "])"
      ]
    },
    {
      "cell_type": "code",
      "execution_count": 17,
      "metadata": {
        "colab": {
          "base_uri": "https://localhost:8080/"
        },
        "id": "6GpqsSc1kvXu",
        "outputId": "4a14fbc5-88bf-4909-cc16-04e954aa0e63"
      },
      "outputs": [
        {
          "output_type": "stream",
          "name": "stdout",
          "text": [
            "<class 'list'>\n"
          ]
        }
      ],
      "source": [
        "print(type(test_labels))"
      ]
    },
    {
      "cell_type": "code",
      "execution_count": 18,
      "metadata": {
        "colab": {
          "base_uri": "https://localhost:8080/"
        },
        "id": "pE0_1Cynky9o",
        "outputId": "82c72892-900c-46cc-9218-5f6b4d4f9a0a"
      },
      "outputs": [
        {
          "output_type": "stream",
          "name": "stdout",
          "text": [
            "<class 'numpy.ndarray'>\n",
            "<class 'numpy.ndarray'>\n",
            "<class 'numpy.ndarray'>\n",
            "<class 'list'>\n",
            "\n",
            "\n",
            "[[  4   9 677 ...   0   0   0]\n",
            " [152 452  18 ...   0   0   0]\n",
            " [  1   8 303 ...   0   0   0]\n",
            " ...\n",
            " [  1   1   6 ...   0   0   0]\n",
            " [105 328   7 ...   0   0   0]\n",
            " [  1   1 359 ...   0   0   0]]\n",
            "\n",
            "\n",
            "[[484   4  23 ...   0   0   0]\n",
            " [  5 891 891 ...   0   0   0]\n",
            " [387   9  28 ...   0   0   0]\n",
            " ...\n",
            " [877  45  39 ...   0   0   0]\n",
            " [ 83  10   2 ...   0   0   0]\n",
            " [  1   1   1 ...   0   0   0]]\n",
            "[0 1 0 1 1 0 1 0 1 1]\n"
          ]
        }
      ],
      "source": [
        "test_labels_changed = np.array(test_labels)\n",
        "print(type(test_labels_changed))\n",
        "print(type(train_padded_seq))\n",
        "print(type(val_padded_seq))\n",
        "print(type(train_labels))\n",
        "print(\"\\n\")\n",
        "print(train_padded_seq)\n",
        "print(\"\\n\")\n",
        "print(val_padded_seq)\n",
        "print(test_labels_changed[:10])"
      ]
    },
    {
      "cell_type": "code",
      "execution_count": 19,
      "metadata": {
        "colab": {
          "base_uri": "https://localhost:8080/"
        },
        "id": "ablMChEqmbiR",
        "outputId": "2e239570-b7c1-4881-fb6e-e55befe44742"
      },
      "outputs": [
        {
          "output_type": "stream",
          "name": "stdout",
          "text": [
            "[1 0 0 ... 1 1 0]\n"
          ]
        }
      ],
      "source": [
        "train_labels_changed = np.array(train_labels)\n",
        "print(train_labels_changed)"
      ]
    },
    {
      "cell_type": "code",
      "execution_count": 20,
      "metadata": {
        "id": "bCkmTQVjqm91"
      },
      "outputs": [],
      "source": [
        "# Menggunakan LabelEncoder untuk mengubah label menjadi bilangan bulat\n",
        "label_encoder = LabelEncoder()\n",
        "train_labels_encoded = label_encoder.fit_transform(train_labels_changed)\n",
        "test_labels_encoded = label_encoder.transform(test_labels_changed)\n",
        "\n",
        "# Mengubah label menjadi one-hot encoded\n",
        "num_classes = len(label_encoder.classes_)\n",
        "train_labels_one_hot = tf.keras.utils.to_categorical(train_labels_encoded, num_classes=num_classes)\n",
        "test_labels_one_hot = tf.keras.utils.to_categorical(test_labels_encoded, num_classes=num_classes)"
      ]
    },
    {
      "cell_type": "code",
      "execution_count": 21,
      "metadata": {
        "colab": {
          "base_uri": "https://localhost:8080/"
        },
        "id": "pQBWa9AjxjKg",
        "outputId": "cda4c651-827f-40a8-9868-df9eae947616"
      },
      "outputs": [
        {
          "output_type": "stream",
          "name": "stdout",
          "text": [
            "[1 0 0 ... 1 1 0]\n",
            "\n",
            "\n",
            "[0 1 0 1 1 0 1 0 1 1 1 1 0 0 0 1 0 0 1 0 0 1 0 1 0 0 1 0 1 0 0 0 1 1 1 0 0\n",
            " 0 0 0 1 0 1 0 0 1 0 1 0 0 1 0 1 0 0 1 1 0 0 0 1 1 0 1 0 0 0 0 1 0 0 1 1 1\n",
            " 0 1 1 1 1 0 0 0 0 1 0 0 0 1 0 1 0 0 0 0 0 1 0 0 0 0 1 1 1 0 0 1 1 1 0 1 1\n",
            " 0 1 1 1 1 0 0 1 0 0 1 1 1 1 0 1 0 0 1 1 1 0 1 0 1 1 1 1 0 1 1 0 0 0 0 0 1\n",
            " 0 1 0 1 1 1 1 0 1 1 0 0 0 0 0 0 0 1 1 1 1 1 1 1 0 1 1 1 0 1 1 1 1 0 1 1 1\n",
            " 1 1 0 0 0 0 0 1 1 1 0 1 1 0 0 0 1 1 0 1 1 0 0 0 0 1 1 0 1 0 1 1 0 1 1 1 0\n",
            " 1 0 1 0 0 1 1 1 0 0 1 0 1 1 1 1 1 0 0 1 0 0 1 0 0 0 0 1 0 1 1 0 0 1 0 1 1\n",
            " 0 1 1 1 0 0 1 1 0 0 1 1 0 0 1 0 1 1 0 1 1 1 0 1 0 0 0 0 1 0 0 1 0 0 1 1 1\n",
            " 1 0 1 0 0 0 1 0 1 0 0 1 1 1 1 0 1 0 0 1 1 0 0 0 0 1 0 0 1 1 0 0 1 0 0 1 1\n",
            " 0 0 0 1 0 0 1 0]\n",
            "\n",
            "\n",
            "[[0. 1.]\n",
            " [1. 0.]\n",
            " [1. 0.]\n",
            " ...\n",
            " [0. 1.]\n",
            " [0. 1.]\n",
            " [1. 0.]]\n",
            "\n",
            "\n",
            "[[1. 0.]\n",
            " [0. 1.]\n",
            " [1. 0.]\n",
            " [0. 1.]\n",
            " [0. 1.]\n",
            " [1. 0.]\n",
            " [0. 1.]\n",
            " [1. 0.]\n",
            " [0. 1.]\n",
            " [0. 1.]\n",
            " [0. 1.]\n",
            " [0. 1.]\n",
            " [1. 0.]\n",
            " [1. 0.]\n",
            " [1. 0.]\n",
            " [0. 1.]\n",
            " [1. 0.]\n",
            " [1. 0.]\n",
            " [0. 1.]\n",
            " [1. 0.]\n",
            " [1. 0.]\n",
            " [0. 1.]\n",
            " [1. 0.]\n",
            " [0. 1.]\n",
            " [1. 0.]\n",
            " [1. 0.]\n",
            " [0. 1.]\n",
            " [1. 0.]\n",
            " [0. 1.]\n",
            " [1. 0.]\n",
            " [1. 0.]\n",
            " [1. 0.]\n",
            " [0. 1.]\n",
            " [0. 1.]\n",
            " [0. 1.]\n",
            " [1. 0.]\n",
            " [1. 0.]\n",
            " [1. 0.]\n",
            " [1. 0.]\n",
            " [1. 0.]\n",
            " [0. 1.]\n",
            " [1. 0.]\n",
            " [0. 1.]\n",
            " [1. 0.]\n",
            " [1. 0.]\n",
            " [0. 1.]\n",
            " [1. 0.]\n",
            " [0. 1.]\n",
            " [1. 0.]\n",
            " [1. 0.]\n",
            " [0. 1.]\n",
            " [1. 0.]\n",
            " [0. 1.]\n",
            " [1. 0.]\n",
            " [1. 0.]\n",
            " [0. 1.]\n",
            " [0. 1.]\n",
            " [1. 0.]\n",
            " [1. 0.]\n",
            " [1. 0.]\n",
            " [0. 1.]\n",
            " [0. 1.]\n",
            " [1. 0.]\n",
            " [0. 1.]\n",
            " [1. 0.]\n",
            " [1. 0.]\n",
            " [1. 0.]\n",
            " [1. 0.]\n",
            " [0. 1.]\n",
            " [1. 0.]\n",
            " [1. 0.]\n",
            " [0. 1.]\n",
            " [0. 1.]\n",
            " [0. 1.]\n",
            " [1. 0.]\n",
            " [0. 1.]\n",
            " [0. 1.]\n",
            " [0. 1.]\n",
            " [0. 1.]\n",
            " [1. 0.]\n",
            " [1. 0.]\n",
            " [1. 0.]\n",
            " [1. 0.]\n",
            " [0. 1.]\n",
            " [1. 0.]\n",
            " [1. 0.]\n",
            " [1. 0.]\n",
            " [0. 1.]\n",
            " [1. 0.]\n",
            " [0. 1.]\n",
            " [1. 0.]\n",
            " [1. 0.]\n",
            " [1. 0.]\n",
            " [1. 0.]\n",
            " [1. 0.]\n",
            " [0. 1.]\n",
            " [1. 0.]\n",
            " [1. 0.]\n",
            " [1. 0.]\n",
            " [1. 0.]\n",
            " [0. 1.]\n",
            " [0. 1.]\n",
            " [0. 1.]\n",
            " [1. 0.]\n",
            " [1. 0.]\n",
            " [0. 1.]\n",
            " [0. 1.]\n",
            " [0. 1.]\n",
            " [1. 0.]\n",
            " [0. 1.]\n",
            " [0. 1.]\n",
            " [1. 0.]\n",
            " [0. 1.]\n",
            " [0. 1.]\n",
            " [0. 1.]\n",
            " [0. 1.]\n",
            " [1. 0.]\n",
            " [1. 0.]\n",
            " [0. 1.]\n",
            " [1. 0.]\n",
            " [1. 0.]\n",
            " [0. 1.]\n",
            " [0. 1.]\n",
            " [0. 1.]\n",
            " [0. 1.]\n",
            " [1. 0.]\n",
            " [0. 1.]\n",
            " [1. 0.]\n",
            " [1. 0.]\n",
            " [0. 1.]\n",
            " [0. 1.]\n",
            " [0. 1.]\n",
            " [1. 0.]\n",
            " [0. 1.]\n",
            " [1. 0.]\n",
            " [0. 1.]\n",
            " [0. 1.]\n",
            " [0. 1.]\n",
            " [0. 1.]\n",
            " [1. 0.]\n",
            " [0. 1.]\n",
            " [0. 1.]\n",
            " [1. 0.]\n",
            " [1. 0.]\n",
            " [1. 0.]\n",
            " [1. 0.]\n",
            " [1. 0.]\n",
            " [0. 1.]\n",
            " [1. 0.]\n",
            " [0. 1.]\n",
            " [1. 0.]\n",
            " [0. 1.]\n",
            " [0. 1.]\n",
            " [0. 1.]\n",
            " [0. 1.]\n",
            " [1. 0.]\n",
            " [0. 1.]\n",
            " [0. 1.]\n",
            " [1. 0.]\n",
            " [1. 0.]\n",
            " [1. 0.]\n",
            " [1. 0.]\n",
            " [1. 0.]\n",
            " [1. 0.]\n",
            " [1. 0.]\n",
            " [0. 1.]\n",
            " [0. 1.]\n",
            " [0. 1.]\n",
            " [0. 1.]\n",
            " [0. 1.]\n",
            " [0. 1.]\n",
            " [0. 1.]\n",
            " [1. 0.]\n",
            " [0. 1.]\n",
            " [0. 1.]\n",
            " [0. 1.]\n",
            " [1. 0.]\n",
            " [0. 1.]\n",
            " [0. 1.]\n",
            " [0. 1.]\n",
            " [0. 1.]\n",
            " [1. 0.]\n",
            " [0. 1.]\n",
            " [0. 1.]\n",
            " [0. 1.]\n",
            " [0. 1.]\n",
            " [0. 1.]\n",
            " [1. 0.]\n",
            " [1. 0.]\n",
            " [1. 0.]\n",
            " [1. 0.]\n",
            " [1. 0.]\n",
            " [0. 1.]\n",
            " [0. 1.]\n",
            " [0. 1.]\n",
            " [1. 0.]\n",
            " [0. 1.]\n",
            " [0. 1.]\n",
            " [1. 0.]\n",
            " [1. 0.]\n",
            " [1. 0.]\n",
            " [0. 1.]\n",
            " [0. 1.]\n",
            " [1. 0.]\n",
            " [0. 1.]\n",
            " [0. 1.]\n",
            " [1. 0.]\n",
            " [1. 0.]\n",
            " [1. 0.]\n",
            " [1. 0.]\n",
            " [0. 1.]\n",
            " [0. 1.]\n",
            " [1. 0.]\n",
            " [0. 1.]\n",
            " [1. 0.]\n",
            " [0. 1.]\n",
            " [0. 1.]\n",
            " [1. 0.]\n",
            " [0. 1.]\n",
            " [0. 1.]\n",
            " [0. 1.]\n",
            " [1. 0.]\n",
            " [0. 1.]\n",
            " [1. 0.]\n",
            " [0. 1.]\n",
            " [1. 0.]\n",
            " [1. 0.]\n",
            " [0. 1.]\n",
            " [0. 1.]\n",
            " [0. 1.]\n",
            " [1. 0.]\n",
            " [1. 0.]\n",
            " [0. 1.]\n",
            " [1. 0.]\n",
            " [0. 1.]\n",
            " [0. 1.]\n",
            " [0. 1.]\n",
            " [0. 1.]\n",
            " [0. 1.]\n",
            " [1. 0.]\n",
            " [1. 0.]\n",
            " [0. 1.]\n",
            " [1. 0.]\n",
            " [1. 0.]\n",
            " [0. 1.]\n",
            " [1. 0.]\n",
            " [1. 0.]\n",
            " [1. 0.]\n",
            " [1. 0.]\n",
            " [0. 1.]\n",
            " [1. 0.]\n",
            " [0. 1.]\n",
            " [0. 1.]\n",
            " [1. 0.]\n",
            " [1. 0.]\n",
            " [0. 1.]\n",
            " [1. 0.]\n",
            " [0. 1.]\n",
            " [0. 1.]\n",
            " [1. 0.]\n",
            " [0. 1.]\n",
            " [0. 1.]\n",
            " [0. 1.]\n",
            " [1. 0.]\n",
            " [1. 0.]\n",
            " [0. 1.]\n",
            " [0. 1.]\n",
            " [1. 0.]\n",
            " [1. 0.]\n",
            " [0. 1.]\n",
            " [0. 1.]\n",
            " [1. 0.]\n",
            " [1. 0.]\n",
            " [0. 1.]\n",
            " [1. 0.]\n",
            " [0. 1.]\n",
            " [0. 1.]\n",
            " [1. 0.]\n",
            " [0. 1.]\n",
            " [0. 1.]\n",
            " [0. 1.]\n",
            " [1. 0.]\n",
            " [0. 1.]\n",
            " [1. 0.]\n",
            " [1. 0.]\n",
            " [1. 0.]\n",
            " [1. 0.]\n",
            " [0. 1.]\n",
            " [1. 0.]\n",
            " [1. 0.]\n",
            " [0. 1.]\n",
            " [1. 0.]\n",
            " [1. 0.]\n",
            " [0. 1.]\n",
            " [0. 1.]\n",
            " [0. 1.]\n",
            " [0. 1.]\n",
            " [1. 0.]\n",
            " [0. 1.]\n",
            " [1. 0.]\n",
            " [1. 0.]\n",
            " [1. 0.]\n",
            " [0. 1.]\n",
            " [1. 0.]\n",
            " [0. 1.]\n",
            " [1. 0.]\n",
            " [1. 0.]\n",
            " [0. 1.]\n",
            " [0. 1.]\n",
            " [0. 1.]\n",
            " [0. 1.]\n",
            " [1. 0.]\n",
            " [0. 1.]\n",
            " [1. 0.]\n",
            " [1. 0.]\n",
            " [0. 1.]\n",
            " [0. 1.]\n",
            " [1. 0.]\n",
            " [1. 0.]\n",
            " [1. 0.]\n",
            " [1. 0.]\n",
            " [0. 1.]\n",
            " [1. 0.]\n",
            " [1. 0.]\n",
            " [0. 1.]\n",
            " [0. 1.]\n",
            " [1. 0.]\n",
            " [1. 0.]\n",
            " [0. 1.]\n",
            " [1. 0.]\n",
            " [1. 0.]\n",
            " [0. 1.]\n",
            " [0. 1.]\n",
            " [1. 0.]\n",
            " [1. 0.]\n",
            " [1. 0.]\n",
            " [0. 1.]\n",
            " [1. 0.]\n",
            " [1. 0.]\n",
            " [0. 1.]\n",
            " [1. 0.]]\n"
          ]
        }
      ],
      "source": [
        "print(train_labels_encoded)\n",
        "print(\"\\n\")\n",
        "print(test_labels_encoded)\n",
        "print(\"\\n\")\n",
        "print(train_labels_one_hot)\n",
        "print(\"\\n\")\n",
        "print(test_labels_one_hot)"
      ]
    },
    {
      "cell_type": "code",
      "execution_count": 22,
      "metadata": {
        "colab": {
          "base_uri": "https://localhost:8080/"
        },
        "id": "CDQB1sGXpJ3m",
        "outputId": "4abb9228-d936-48ea-db99-6a72d4c89c56"
      },
      "outputs": [
        {
          "output_type": "stream",
          "name": "stdout",
          "text": [
            "Epoch 1/30\n",
            "96/96 [==============================] - 3s 11ms/step - loss: 0.6932 - accuracy: 0.5051 - val_loss: 0.6925 - val_accuracy: 0.5044\n",
            "Epoch 2/30\n",
            "96/96 [==============================] - 1s 9ms/step - loss: 0.6915 - accuracy: 0.5585 - val_loss: 0.6898 - val_accuracy: 0.5044\n",
            "Epoch 3/30\n",
            "96/96 [==============================] - 1s 11ms/step - loss: 0.6838 - accuracy: 0.6272 - val_loss: 0.6747 - val_accuracy: 0.6422\n",
            "Epoch 4/30\n",
            "96/96 [==============================] - 1s 11ms/step - loss: 0.6487 - accuracy: 0.7374 - val_loss: 0.6219 - val_accuracy: 0.8211\n",
            "Epoch 5/30\n",
            "96/96 [==============================] - 1s 7ms/step - loss: 0.5704 - accuracy: 0.8289 - val_loss: 0.5335 - val_accuracy: 0.8270\n",
            "Epoch 6/30\n",
            "96/96 [==============================] - 1s 6ms/step - loss: 0.4738 - accuracy: 0.8517 - val_loss: 0.4611 - val_accuracy: 0.8152\n",
            "Epoch 7/30\n",
            "96/96 [==============================] - 1s 6ms/step - loss: 0.4013 - accuracy: 0.8615 - val_loss: 0.4093 - val_accuracy: 0.8446\n",
            "Epoch 8/30\n",
            "96/96 [==============================] - 1s 7ms/step - loss: 0.3570 - accuracy: 0.8693 - val_loss: 0.3925 - val_accuracy: 0.8328\n",
            "Epoch 9/30\n",
            "96/96 [==============================] - 0s 5ms/step - loss: 0.3247 - accuracy: 0.8791 - val_loss: 0.3804 - val_accuracy: 0.8358\n",
            "Epoch 10/30\n",
            "96/96 [==============================] - 1s 8ms/step - loss: 0.3028 - accuracy: 0.8830 - val_loss: 0.3607 - val_accuracy: 0.8446\n",
            "Epoch 11/30\n",
            "96/96 [==============================] - 1s 5ms/step - loss: 0.2881 - accuracy: 0.8876 - val_loss: 0.3541 - val_accuracy: 0.8475\n",
            "Epoch 12/30\n",
            "96/96 [==============================] - 1s 6ms/step - loss: 0.2724 - accuracy: 0.8977 - val_loss: 0.3498 - val_accuracy: 0.8475\n",
            "Epoch 13/30\n",
            "96/96 [==============================] - 1s 7ms/step - loss: 0.2634 - accuracy: 0.8931 - val_loss: 0.3468 - val_accuracy: 0.8504\n",
            "Epoch 14/30\n",
            "96/96 [==============================] - 1s 6ms/step - loss: 0.2541 - accuracy: 0.9019 - val_loss: 0.3452 - val_accuracy: 0.8358\n",
            "Epoch 15/30\n",
            "96/96 [==============================] - 1s 8ms/step - loss: 0.2417 - accuracy: 0.9110 - val_loss: 0.3466 - val_accuracy: 0.8358\n",
            "Epoch 16/30\n",
            "96/96 [==============================] - 1s 8ms/step - loss: 0.2329 - accuracy: 0.9166 - val_loss: 0.3492 - val_accuracy: 0.8328\n",
            "Epoch 17/30\n",
            "96/96 [==============================] - 1s 7ms/step - loss: 0.2262 - accuracy: 0.9198 - val_loss: 0.3436 - val_accuracy: 0.8328\n",
            "Epoch 18/30\n",
            "96/96 [==============================] - 1s 6ms/step - loss: 0.2186 - accuracy: 0.9244 - val_loss: 0.3457 - val_accuracy: 0.8504\n",
            "Epoch 19/30\n",
            "96/96 [==============================] - 1s 7ms/step - loss: 0.2113 - accuracy: 0.9225 - val_loss: 0.3545 - val_accuracy: 0.8387\n",
            "Epoch 20/30\n",
            "96/96 [==============================] - 1s 7ms/step - loss: 0.2051 - accuracy: 0.9273 - val_loss: 0.3464 - val_accuracy: 0.8416\n",
            "Epoch 21/30\n",
            "96/96 [==============================] - 1s 11ms/step - loss: 0.1991 - accuracy: 0.9283 - val_loss: 0.3478 - val_accuracy: 0.8475\n",
            "Epoch 22/30\n",
            "96/96 [==============================] - 1s 12ms/step - loss: 0.1957 - accuracy: 0.9280 - val_loss: 0.3499 - val_accuracy: 0.8446\n",
            "Epoch 23/30\n",
            "96/96 [==============================] - 1s 10ms/step - loss: 0.1877 - accuracy: 0.9342 - val_loss: 0.3520 - val_accuracy: 0.8387\n",
            "Epoch 24/30\n",
            "96/96 [==============================] - 1s 6ms/step - loss: 0.1852 - accuracy: 0.9342 - val_loss: 0.3575 - val_accuracy: 0.8504\n",
            "Epoch 25/30\n",
            "96/96 [==============================] - 0s 5ms/step - loss: 0.1793 - accuracy: 0.9348 - val_loss: 0.3588 - val_accuracy: 0.8446\n",
            "Epoch 26/30\n",
            "96/96 [==============================] - 1s 6ms/step - loss: 0.1742 - accuracy: 0.9394 - val_loss: 0.3593 - val_accuracy: 0.8475\n",
            "Epoch 27/30\n",
            "96/96 [==============================] - 1s 6ms/step - loss: 0.1736 - accuracy: 0.9365 - val_loss: 0.3634 - val_accuracy: 0.8534\n",
            "Epoch 28/30\n",
            "96/96 [==============================] - 1s 6ms/step - loss: 0.1676 - accuracy: 0.9391 - val_loss: 0.3645 - val_accuracy: 0.8475\n",
            "Epoch 29/30\n",
            "96/96 [==============================] - 1s 7ms/step - loss: 0.1643 - accuracy: 0.9433 - val_loss: 0.3735 - val_accuracy: 0.8416\n",
            "Epoch 30/30\n",
            "96/96 [==============================] - 1s 8ms/step - loss: 0.1609 - accuracy: 0.9440 - val_loss: 0.3706 - val_accuracy: 0.8534\n"
          ]
        }
      ],
      "source": [
        "model.compile(loss='binary_crossentropy',optimizer=tf.keras.optimizers.Adam() ,metrics=['accuracy'])\n",
        "\n",
        "history_1 = model.fit(train_padded_seq, train_labels_one_hot, epochs=30, validation_data=(val_padded_seq, test_labels_one_hot))"
      ]
    },
    {
      "cell_type": "code",
      "source": [
        "seed_text = \"anjing liar\"\n",
        "# Convert the text into sequences\n",
        "token_list = tokenizer.texts_to_sequences([seed_text])[0]\n",
        "# Pad the sequences\n",
        "token_list = pad_sequences([token_list], maxlen=MAXLEN , padding='pre')\n",
        "# Get the probabilities of predicting a word\n",
        "predicted = model.predict(token_list, verbose=0)\n",
        "print(\"[HS             ,      non-HS]\")\n",
        "print(predicted)"
      ],
      "metadata": {
        "colab": {
          "base_uri": "https://localhost:8080/"
        },
        "id": "a1CpshakOUHk",
        "outputId": "34c94ea2-3db2-4c88-f05c-5b4c961f5f1f"
      },
      "execution_count": 23,
      "outputs": [
        {
          "output_type": "stream",
          "name": "stdout",
          "text": [
            "[HS             ,      non-HS]\n",
            "[[0.55920756 0.4407924 ]]\n"
          ]
        }
      ]
    },
    {
      "cell_type": "code",
      "execution_count": 24,
      "metadata": {
        "id": "bjgtxM5ufMLG",
        "colab": {
          "base_uri": "https://localhost:8080/",
          "height": 881
        },
        "outputId": "874caaa3-63cc-4d8d-c211-e1bde51e8426"
      },
      "outputs": [
        {
          "output_type": "display_data",
          "data": {
            "text/plain": [
              "<Figure size 640x480 with 1 Axes>"
            ],
            "image/png": "[encoded data removed]"
          },
          "metadata": {}
        },
        {
          "output_type": "display_data",
          "data": {
            "text/plain": [
              "<Figure size 640x480 with 1 Axes>"
            ],
            "image/png": "[encoded data removed]"
          },
          "metadata": {}
        }
      ],
      "source": [
        "def plot_graphs(history, metric):\n",
        "    plt.plot(history.history[metric])\n",
        "    plt.plot(history.history[f'val_{metric}'])\n",
        "    plt.xlabel(\"Epochs\")\n",
        "    plt.ylabel(metric)\n",
        "    plt.legend([metric, f'val_{metric}'])\n",
        "    plt.show()\n",
        "\n",
        "plot_graphs(history_1, \"accuracy\")\n",
        "plot_graphs(history_1, \"loss\")"
      ]
    },
    {
      "cell_type": "code",
      "execution_count": 25,
      "metadata": {
        "id": "DthfY8zAfz7b",
        "colab": {
          "base_uri": "https://localhost:8080/"
        },
        "outputId": "6167a849-62e1-4502-ec57-cc5383379c77"
      },
      "outputs": [
        {
          "output_type": "stream",
          "name": "stdout",
          "text": [
            "Epoch 1/30\n",
            "96/96 [==============================] - 33s 211ms/step - loss: 0.6934 - accuracy: 0.4858 - val_loss: 0.6931 - val_accuracy: 0.5015\n",
            "Epoch 2/30\n",
            "96/96 [==============================] - 17s 180ms/step - loss: 0.6909 - accuracy: 0.5207 - val_loss: 0.6276 - val_accuracy: 0.7537\n",
            "Epoch 3/30\n",
            "96/96 [==============================] - 18s 191ms/step - loss: 0.4487 - accuracy: 0.8211 - val_loss: 0.4335 - val_accuracy: 0.8299\n",
            "Epoch 4/30\n",
            "96/96 [==============================] - 18s 192ms/step - loss: 0.3586 - accuracy: 0.8658 - val_loss: 0.3932 - val_accuracy: 0.8651\n",
            "Epoch 5/30\n",
            "96/96 [==============================] - 21s 221ms/step - loss: 0.3094 - accuracy: 0.8912 - val_loss: 0.3688 - val_accuracy: 0.8563\n",
            "Epoch 6/30\n",
            "96/96 [==============================] - 17s 180ms/step - loss: 0.3267 - accuracy: 0.8579 - val_loss: 0.4133 - val_accuracy: 0.8358\n",
            "Epoch 7/30\n",
            "96/96 [==============================] - 19s 196ms/step - loss: 0.3150 - accuracy: 0.8814 - val_loss: 0.4280 - val_accuracy: 0.8387\n",
            "Epoch 8/30\n",
            "96/96 [==============================] - 17s 173ms/step - loss: 0.2873 - accuracy: 0.9000 - val_loss: 0.4008 - val_accuracy: 0.8270\n",
            "Epoch 9/30\n",
            "96/96 [==============================] - 16s 171ms/step - loss: 0.2719 - accuracy: 0.8983 - val_loss: 0.4423 - val_accuracy: 0.8416\n",
            "Epoch 10/30\n",
            "96/96 [==============================] - 17s 180ms/step - loss: 0.3569 - accuracy: 0.8641 - val_loss: 0.4378 - val_accuracy: 0.8358\n",
            "Epoch 11/30\n",
            "96/96 [==============================] - 16s 170ms/step - loss: 0.3174 - accuracy: 0.8954 - val_loss: 0.4610 - val_accuracy: 0.8328\n",
            "Epoch 12/30\n",
            "96/96 [==============================] - 16s 169ms/step - loss: 0.3328 - accuracy: 0.8866 - val_loss: 0.4387 - val_accuracy: 0.8358\n",
            "Epoch 13/30\n",
            "96/96 [==============================] - 16s 168ms/step - loss: 0.2784 - accuracy: 0.9117 - val_loss: 0.4260 - val_accuracy: 0.8387\n",
            "Epoch 14/30\n",
            "96/96 [==============================] - 18s 183ms/step - loss: 0.2402 - accuracy: 0.9218 - val_loss: 0.4604 - val_accuracy: 0.8299\n",
            "Epoch 15/30\n",
            "96/96 [==============================] - 16s 169ms/step - loss: 0.3103 - accuracy: 0.8824 - val_loss: 0.4251 - val_accuracy: 0.8416\n",
            "Epoch 16/30\n",
            "96/96 [==============================] - 17s 182ms/step - loss: 0.2543 - accuracy: 0.9146 - val_loss: 0.3979 - val_accuracy: 0.8504\n",
            "Epoch 17/30\n",
            "96/96 [==============================] - 17s 181ms/step - loss: 0.2205 - accuracy: 0.9332 - val_loss: 0.4453 - val_accuracy: 0.8416\n",
            "Epoch 18/30\n",
            "96/96 [==============================] - 16s 170ms/step - loss: 0.2023 - accuracy: 0.9394 - val_loss: 0.4288 - val_accuracy: 0.8387\n",
            "Epoch 19/30\n",
            "96/96 [==============================] - 17s 172ms/step - loss: 0.2738 - accuracy: 0.9016 - val_loss: 0.3902 - val_accuracy: 0.8152\n",
            "Epoch 20/30\n",
            "96/96 [==============================] - 18s 185ms/step - loss: 0.2528 - accuracy: 0.9055 - val_loss: 0.4370 - val_accuracy: 0.8299\n",
            "Epoch 21/30\n",
            "96/96 [==============================] - 16s 168ms/step - loss: 0.2148 - accuracy: 0.9306 - val_loss: 0.4888 - val_accuracy: 0.8328\n",
            "Epoch 22/30\n",
            "96/96 [==============================] - 16s 172ms/step - loss: 0.1820 - accuracy: 0.9466 - val_loss: 0.4611 - val_accuracy: 0.8358\n",
            "Epoch 23/30\n",
            "96/96 [==============================] - 17s 179ms/step - loss: 0.1727 - accuracy: 0.9544 - val_loss: 0.5736 - val_accuracy: 0.8328\n",
            "Epoch 24/30\n",
            "96/96 [==============================] - 17s 172ms/step - loss: 0.1634 - accuracy: 0.9573 - val_loss: 0.5604 - val_accuracy: 0.8416\n",
            "Epoch 25/30\n",
            "96/96 [==============================] - 16s 170ms/step - loss: 0.1652 - accuracy: 0.9576 - val_loss: 0.6141 - val_accuracy: 0.8299\n",
            "Epoch 26/30\n",
            "96/96 [==============================] - 16s 168ms/step - loss: 0.1670 - accuracy: 0.9570 - val_loss: 0.6207 - val_accuracy: 0.8182\n",
            "Epoch 27/30\n",
            "96/96 [==============================] - 18s 183ms/step - loss: 0.1714 - accuracy: 0.9557 - val_loss: 0.6136 - val_accuracy: 0.8211\n",
            "Epoch 28/30\n",
            "96/96 [==============================] - 16s 170ms/step - loss: 0.1872 - accuracy: 0.9492 - val_loss: 0.5703 - val_accuracy: 0.8240\n",
            "Epoch 29/30\n",
            "96/96 [==============================] - 17s 182ms/step - loss: 0.1583 - accuracy: 0.9593 - val_loss: 0.5453 - val_accuracy: 0.8358\n",
            "Epoch 30/30\n",
            "96/96 [==============================] - 18s 184ms/step - loss: 0.1540 - accuracy: 0.9599 - val_loss: 0.6002 - val_accuracy: 0.8240\n"
          ]
        }
      ],
      "source": [
        "model_LSTM = tf.keras.Sequential([\n",
        "    tf.keras.layers.Embedding(NUM_WORDS, EMBEDDING_DIM, input_length=MAXLEN),\n",
        "    tf.keras.layers.Bidirectional(LSTM(16, return_sequences=True)),\n",
        "    tf.keras.layers.Bidirectional(LSTM(32, return_sequences=True)),\n",
        "    tf.keras.layers.GlobalAveragePooling1D(),\n",
        "    tf.keras.layers.Dense(units=32, activation='relu'),\n",
        "    tf.keras.layers.Dense(units=2, activation='softmax')\n",
        "])\n",
        "model_LSTM.compile(loss='binary_crossentropy', optimizer=tf.keras.optimizers.Adam(), metrics=['accuracy'])\n",
        "history_LSTM = model_LSTM.fit(train_padded_seq, train_labels_one_hot, epochs=30, validation_data=(val_padded_seq, test_labels_one_hot))"
      ]
    },
    {
      "cell_type": "code",
      "source": [
        "plot_graphs(history_LSTM, \"accuracy\")\n",
        "plot_graphs(history_LSTM, \"loss\")"
      ],
      "metadata": {
        "colab": {
          "base_uri": "https://localhost:8080/",
          "height": 881
        },
        "id": "otm63y1Ui26F",
        "outputId": "cded5052-52fe-4f41-96a1-832f88afba4f"
      },
      "execution_count": 33,
      "outputs": [
        {
          "output_type": "display_data",
          "data": {
            "text/plain": [
              "<Figure size 640x480 with 1 Axes>"
            ],
            "image/png": "[encoded data removed]"
          },
          "metadata": {}
        },
        {
          "output_type": "display_data",
          "data": {
            "text/plain": [
              "<Figure size 640x480 with 1 Axes>"
            ],
            "image/png": "[encoded data removed]"
          },
          "metadata": {}
        }
      ]
    },
    {
      "cell_type": "code",
      "source": [
        "# Definisikan callback function\n",
        "class LearningRateScheduler(tf.keras.callbacks.Callback):\n",
        "    def __init__(self, schedule):\n",
        "        super(LearningRateScheduler, self).__init__()\n",
        "        self.schedule = schedule\n",
        "\n",
        "    def on_epoch_begin(self, epoch, logs=None):\n",
        "        if not hasattr(self.model.optimizer, \"lr\"):\n",
        "            raise ValueError('Optimizer must have a \"lr\" attribute.')\n",
        "        # Dapatkan learning rate berdasarkan epoch saat ini\n",
        "        lr = float(tf.keras.backend.get_value(self.model.optimizer.lr))\n",
        "        # Panggil fungsi schedule untuk mendapatkan learning rate baru\n",
        "        scheduled_lr = self.schedule(epoch, lr)\n",
        "        # Atur learning rate pada optimizer\n",
        "        tf.keras.backend.set_value(self.model.optimizer.lr, scheduled_lr)\n",
        "        print(f\"\\nEpoch {epoch + 1}: Learning rate set to {scheduled_lr}\")\n",
        "\n",
        "# Fungsi untuk mengatur schedule learning rate\n",
        "def learning_rate_schedule(epoch, lr):\n",
        "    # Learning rate akan berkurang setiap 5 epoch\n",
        "    if epoch % 5 == 0 and epoch > 0:\n",
        "        lr = lr * 0.1  # Mengurangi learning rate menjadi 10% dari sebelumnya\n",
        "    return lr"
      ],
      "metadata": {
        "id": "ewj3RiKX7qvf"
      },
      "execution_count": 27,
      "outputs": []
    },
    {
      "cell_type": "code",
      "source": [
        "# Compile model\n",
        "# Adam Opt\n",
        "model_LSTM.compile(loss='binary_crossentropy', optimizer=tf.keras.optimizers.Adam(), metrics=['accuracy'])\n",
        "\n",
        "# Membuat instance dari LearningRateScheduler\n",
        "lr_scheduler = LearningRateScheduler(learning_rate_schedule)\n",
        "\n",
        "# Latih model dengan menggunakan callback LearningRateScheduler\n",
        "history_LSTM_1 = model_LSTM.fit(train_padded_seq, train_labels_one_hot, epochs=30,\n",
        "                              validation_data=(val_padded_seq, test_labels_one_hot),\n",
        "                              callbacks=[lr_scheduler])"
      ],
      "metadata": {
        "id": "DQtYTvvWjCbp",
        "colab": {
          "base_uri": "https://localhost:8080/"
        },
        "outputId": "e415d9ac-bb13-4072-9e95-27be90ac191d"
      },
      "execution_count": 29,
      "outputs": [
        {
          "output_type": "stream",
          "name": "stdout",
          "text": [
            "\n",
            "Epoch 1: Learning rate set to 0.0010000000474974513\n",
            "Epoch 1/30\n",
            "96/96 [==============================] - 40s 203ms/step - loss: 0.1592 - accuracy: 0.9550 - val_loss: 0.4848 - val_accuracy: 0.8328\n",
            "\n",
            "Epoch 2: Learning rate set to 0.0010000000474974513\n",
            "Epoch 2/30\n",
            "96/96 [==============================] - 17s 174ms/step - loss: 0.1446 - accuracy: 0.9573 - val_loss: 0.5116 - val_accuracy: 0.8446\n",
            "\n",
            "Epoch 3: Learning rate set to 0.0010000000474974513\n",
            "Epoch 3/30\n",
            "96/96 [==============================] - 18s 187ms/step - loss: 0.1392 - accuracy: 0.9612 - val_loss: 0.5163 - val_accuracy: 0.8387\n",
            "\n",
            "Epoch 4: Learning rate set to 0.0010000000474974513\n",
            "Epoch 4/30\n",
            "96/96 [==============================] - 17s 173ms/step - loss: 0.1218 - accuracy: 0.9658 - val_loss: 0.5491 - val_accuracy: 0.8475\n",
            "\n",
            "Epoch 5: Learning rate set to 0.0010000000474974513\n",
            "Epoch 5/30\n",
            "96/96 [==============================] - 18s 192ms/step - loss: 0.1228 - accuracy: 0.9681 - val_loss: 0.5175 - val_accuracy: 0.8504\n",
            "\n",
            "Epoch 6: Learning rate set to 0.00010000000474974513\n",
            "Epoch 6/30\n",
            "96/96 [==============================] - 18s 184ms/step - loss: 0.1090 - accuracy: 0.9697 - val_loss: 0.5224 - val_accuracy: 0.8504\n",
            "\n",
            "Epoch 7: Learning rate set to 0.00010000000474974513\n",
            "Epoch 7/30\n",
            "96/96 [==============================] - 17s 176ms/step - loss: 0.1098 - accuracy: 0.9681 - val_loss: 0.5275 - val_accuracy: 0.8446\n",
            "\n",
            "Epoch 8: Learning rate set to 0.00010000000474974513\n",
            "Epoch 8/30\n",
            "96/96 [==============================] - 17s 177ms/step - loss: 0.1039 - accuracy: 0.9700 - val_loss: 0.5209 - val_accuracy: 0.8446\n",
            "\n",
            "Epoch 9: Learning rate set to 0.00010000000474974513\n",
            "Epoch 9/30\n",
            "96/96 [==============================] - 19s 199ms/step - loss: 0.1016 - accuracy: 0.9710 - val_loss: 0.5314 - val_accuracy: 0.8475\n",
            "\n",
            "Epoch 10: Learning rate set to 0.00010000000474974513\n",
            "Epoch 10/30\n",
            "96/96 [==============================] - 17s 175ms/step - loss: 0.1012 - accuracy: 0.9713 - val_loss: 0.5252 - val_accuracy: 0.8475\n",
            "\n",
            "Epoch 11: Learning rate set to 1.0000000474974514e-05\n",
            "Epoch 11/30\n",
            "96/96 [==============================] - 18s 189ms/step - loss: 0.0987 - accuracy: 0.9717 - val_loss: 0.5253 - val_accuracy: 0.8475\n",
            "\n",
            "Epoch 12: Learning rate set to 1.0000000656873453e-05\n",
            "Epoch 12/30\n",
            "96/96 [==============================] - 17s 179ms/step - loss: 0.0985 - accuracy: 0.9717 - val_loss: 0.5266 - val_accuracy: 0.8475\n",
            "\n",
            "Epoch 13: Learning rate set to 1.0000000656873453e-05\n",
            "Epoch 13/30\n",
            "96/96 [==============================] - 17s 176ms/step - loss: 0.0981 - accuracy: 0.9720 - val_loss: 0.5275 - val_accuracy: 0.8475\n",
            "\n",
            "Epoch 14: Learning rate set to 1.0000000656873453e-05\n",
            "Epoch 14/30\n",
            "96/96 [==============================] - 18s 188ms/step - loss: 0.0976 - accuracy: 0.9723 - val_loss: 0.5328 - val_accuracy: 0.8446\n",
            "\n",
            "Epoch 15: Learning rate set to 1.0000000656873453e-05\n",
            "Epoch 15/30\n",
            "96/96 [==============================] - 17s 175ms/step - loss: 0.0971 - accuracy: 0.9726 - val_loss: 0.5339 - val_accuracy: 0.8446\n",
            "\n",
            "Epoch 16: Learning rate set to 1.0000000656873453e-06\n",
            "Epoch 16/30\n",
            "96/96 [==============================] - 16s 171ms/step - loss: 0.0970 - accuracy: 0.9726 - val_loss: 0.5340 - val_accuracy: 0.8446\n",
            "\n",
            "Epoch 17: Learning rate set to 1.0000001111620804e-06\n",
            "Epoch 17/30\n",
            "96/96 [==============================] - 18s 186ms/step - loss: 0.0970 - accuracy: 0.9726 - val_loss: 0.5342 - val_accuracy: 0.8446\n",
            "\n",
            "Epoch 18: Learning rate set to 1.0000001111620804e-06\n",
            "Epoch 18/30\n",
            "96/96 [==============================] - 17s 173ms/step - loss: 0.0969 - accuracy: 0.9726 - val_loss: 0.5343 - val_accuracy: 0.8446\n",
            "\n",
            "Epoch 19: Learning rate set to 1.0000001111620804e-06\n",
            "Epoch 19/30\n",
            "96/96 [==============================] - 16s 172ms/step - loss: 0.0969 - accuracy: 0.9726 - val_loss: 0.5344 - val_accuracy: 0.8446\n",
            "\n",
            "Epoch 20: Learning rate set to 1.0000001111620804e-06\n",
            "Epoch 20/30\n",
            "96/96 [==============================] - 18s 190ms/step - loss: 0.0969 - accuracy: 0.9726 - val_loss: 0.5346 - val_accuracy: 0.8446\n",
            "\n",
            "Epoch 21: Learning rate set to 1.0000001111620805e-07\n",
            "Epoch 21/30\n",
            "96/96 [==============================] - 18s 189ms/step - loss: 0.0969 - accuracy: 0.9726 - val_loss: 0.5346 - val_accuracy: 0.8446\n",
            "\n",
            "Epoch 22: Learning rate set to 1.000000082740371e-07\n",
            "Epoch 22/30\n",
            "96/96 [==============================] - 16s 170ms/step - loss: 0.0969 - accuracy: 0.9726 - val_loss: 0.5346 - val_accuracy: 0.8446\n",
            "\n",
            "Epoch 23: Learning rate set to 1.000000082740371e-07\n",
            "Epoch 23/30\n",
            "96/96 [==============================] - 18s 184ms/step - loss: 0.0969 - accuracy: 0.9726 - val_loss: 0.5346 - val_accuracy: 0.8446\n",
            "\n",
            "Epoch 24: Learning rate set to 1.000000082740371e-07\n",
            "Epoch 24/30\n",
            "96/96 [==============================] - 17s 172ms/step - loss: 0.0969 - accuracy: 0.9726 - val_loss: 0.5346 - val_accuracy: 0.8446\n",
            "\n",
            "Epoch 25: Learning rate set to 1.000000082740371e-07\n",
            "Epoch 25/30\n",
            "96/96 [==============================] - 17s 176ms/step - loss: 0.0969 - accuracy: 0.9726 - val_loss: 0.5346 - val_accuracy: 0.8446\n",
            "\n",
            "Epoch 26: Learning rate set to 1.000000082740371e-08\n",
            "Epoch 26/30\n",
            "96/96 [==============================] - 18s 189ms/step - loss: 0.0969 - accuracy: 0.9726 - val_loss: 0.5346 - val_accuracy: 0.8446\n",
            "\n",
            "Epoch 27: Learning rate set to 1.000000082740371e-08\n",
            "Epoch 27/30\n",
            "96/96 [==============================] - 16s 172ms/step - loss: 0.0969 - accuracy: 0.9726 - val_loss: 0.5346 - val_accuracy: 0.8446\n",
            "\n",
            "Epoch 28: Learning rate set to 1.000000082740371e-08\n",
            "Epoch 28/30\n",
            "96/96 [==============================] - 17s 174ms/step - loss: 0.0969 - accuracy: 0.9726 - val_loss: 0.5346 - val_accuracy: 0.8446\n",
            "\n",
            "Epoch 29: Learning rate set to 1.000000082740371e-08\n",
            "Epoch 29/30\n",
            "96/96 [==============================] - 18s 189ms/step - loss: 0.0969 - accuracy: 0.9726 - val_loss: 0.5346 - val_accuracy: 0.8446\n",
            "\n",
            "Epoch 30: Learning rate set to 1.000000082740371e-08\n",
            "Epoch 30/30\n",
            "96/96 [==============================] - 17s 175ms/step - loss: 0.0969 - accuracy: 0.9726 - val_loss: 0.5346 - val_accuracy: 0.8446\n"
          ]
        }
      ]
    },
    {
      "cell_type": "code",
      "source": [
        "# plotting dengan callback function\n",
        "plot_graphs(history_LSTM_1, \"accuracy\")\n",
        "plot_graphs(history_LSTM_1, \"loss\")"
      ],
      "metadata": {
        "colab": {
          "base_uri": "https://localhost:8080/",
          "height": 881
        },
        "id": "zNRl1PUhZ6IX",
        "outputId": "8f37e4c0-120d-44ac-aab9-f141713576c3"
      },
      "execution_count": 34,
      "outputs": [
        {
          "output_type": "display_data",
          "data": {
            "text/plain": [
              "<Figure size 640x480 with 1 Axes>"
            ],
            "image/png": "[encoded data removed]"
          },
          "metadata": {}
        },
        {
          "output_type": "display_data",
          "data": {
            "text/plain": [
              "<Figure size 640x480 with 1 Axes>"
            ],
            "image/png": "[encoded data removed]"
          },
          "metadata": {}
        }
      ]
    },
    {
      "cell_type": "code",
      "source": [
        "model.save('model.h5')"
      ],
      "metadata": {
        "id": "6Oe5EWiEd1QS"
      },
      "execution_count": 30,
      "outputs": []
    },
    {
      "cell_type": "code",
      "source": [
        "# Load model Keras dari file .h5\n",
        "model = tf.keras.models.load_model('model.h5')\n",
        "\n",
        "# Inisialisasi TFLiteConverter dengan model Keras\n",
        "converter = tf.lite.TFLiteConverter.from_keras_model(model)\n",
        "\n",
        "# Konversi model menjadi format TFLite\n",
        "tflite_model = converter.convert()"
      ],
      "metadata": {
        "colab": {
          "base_uri": "https://localhost:8080/"
        },
        "id": "hGDIWd5khTD8",
        "outputId": "c8ddef7a-e0ca-4c54-9d82-04edc7973f58"
      },
      "execution_count": 31,
      "outputs": [
        {
          "output_type": "stream",
          "name": "stderr",
          "text": [
            "WARNING:absl:Found untraced functions such as _update_step_xla while saving (showing 1 of 1). These functions will not be directly callable after loading.\n"
          ]
        }
      ]
    },
    {
      "cell_type": "code",
      "source": [
        "with open('model.tflite', 'wb') as f:\n",
        "    f.write(tflite_model)"
      ],
      "metadata": {
        "id": "bHnZ-lCShXuN"
      },
      "execution_count": 32,
      "outputs": []
    }
  ],
  "metadata": {
    "colab": {
      "provenance": []
    },
    "kernelspec": {
      "display_name": "Python 3.10.7 64-bit",
      "language": "python",
      "name": "python3"
    },
    "language_info": {
      "codemirror_mode": {
        "name": "ipython",
        "version": 3
      },
      "file_extension": ".py",
      "mimetype": "text/x-python",
      "name": "python",
      "nbconvert_exporter": "python",
      "pygments_lexer": "ipython3",
      "version": "3.10.7"
    },
    "vscode": {
      "interpreter": {
        "hash": "bed3b92dedaca74de8f0a13833bbbd67bbdaaa544f0c2aa325c872f95f3ec5b2"
      }
    }
  },
  "nbformat": 4,
  "nbformat_minor": 0
}